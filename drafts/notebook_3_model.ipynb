{
 "cells": [
  {
   "cell_type": "markdown",
   "metadata": {},
   "source": [
    "## Project 3: Web API's and NLP"
   ]
  },
  {
   "cell_type": "markdown",
   "metadata": {},
   "source": [
    "### Model and Predictions"
   ]
  },
  {
   "cell_type": "code",
   "execution_count": 58,
   "metadata": {},
   "outputs": [],
   "source": [
    "# imports\n",
    "import numpy as np\n",
    "import pandas as pd\n",
    "import matplotlib.pyplot as plt\n",
    "import seaborn as sns\n",
    "from sklearn.model_selection import train_test_split, GridSearchCV\n",
    "from sklearn.pipeline import make_pipeline\n",
    "from sklearn.preprocessing import StandardScaler\n",
    "from sklearn.linear_model import LogisticRegression\n",
    "from sklearn.feature_extraction.text import CountVectorizer\n",
    "from sklearn.feature_extraction.text import TfidfVectorizer\n",
    "from sklearn.naive_bayes import MultinomialNB\n",
    "from sklearn.ensemble import ExtraTreesClassifier, RandomForestClassifier, BaggingClassifier, AdaBoostClassifier \n",
    "from sklearn.metrics import balanced_accuracy_score, f1_score, recall_score\n",
    "from sklearn.neighbors import KNeighborsClassifier\n",
    "from sklearn.tree import DecisionTreeClassifier\n",
    "from sklearn.svm import SVC\n",
    "from sklearn.naive_bayes import MultinomialNB\n",
    "from nltk.stem import WordNetLemmatizer\n",
    "from sklearn.metrics import confusion_matrix\n",
    "from sklearn.metrics import plot_confusion_matrix"
   ]
  },
  {
   "cell_type": "code",
   "execution_count": 8,
   "metadata": {},
   "outputs": [],
   "source": [
    "# read the csv file\n",
    "df = pd.read_csv('data/clean_combined.csv')"
   ]
  },
  {
   "cell_type": "markdown",
   "metadata": {},
   "source": [
    "#### Null Model / Baseline"
   ]
  },
  {
   "cell_type": "code",
   "execution_count": 10,
   "metadata": {},
   "outputs": [
    {
     "data": {
      "text/plain": [
       "poker    0.519231\n",
       "chess    0.480769\n",
       "Name: subreddit, dtype: float64"
      ]
     },
     "execution_count": 10,
     "metadata": {},
     "output_type": "execute_result"
    }
   ],
   "source": [
    "# value composition in the target column\n",
    "df['subreddit'].value_counts(normalize = True)"
   ]
  },
  {
   "cell_type": "markdown",
   "metadata": {},
   "source": [
    "#### Train Test Split"
   ]
  },
  {
   "cell_type": "code",
   "execution_count": 12,
   "metadata": {},
   "outputs": [],
   "source": [
    "# define X and y\n",
    "X = df['title']\n",
    "y = df['subreddit']"
   ]
  },
  {
   "cell_type": "code",
   "execution_count": 13,
   "metadata": {},
   "outputs": [],
   "source": [
    "# train test split\n",
    "X_train, X_test, y_train, y_test = train_test_split(X, y, random_state = 123)"
   ]
  },
  {
   "cell_type": "markdown",
   "metadata": {},
   "source": [
    "#### 1. Naive Bayes"
   ]
  },
  {
   "cell_type": "code",
   "execution_count": 20,
   "metadata": {},
   "outputs": [],
   "source": [
    "# instantiate a pipe\n",
    "pipe_nb = make_pipeline(CountVectorizer(stop_words = 'english', ngram_range = (2,2)), StandardScaler MultinomialNB())"
   ]
  },
  {
   "cell_type": "code",
   "execution_count": 21,
   "metadata": {},
   "outputs": [
    {
     "data": {
      "text/plain": [
       "Pipeline(steps=[('countvectorizer',\n",
       "                 CountVectorizer(ngram_range=(2, 2), stop_words='english')),\n",
       "                ('multinomialnb', MultinomialNB())])"
      ]
     },
     "execution_count": 21,
     "metadata": {},
     "output_type": "execute_result"
    }
   ],
   "source": [
    "# fit the data\n",
    "pipe_nb.fit(X_train, y_train)"
   ]
  },
  {
   "cell_type": "code",
   "execution_count": 34,
   "metadata": {},
   "outputs": [
    {
     "data": {
      "text/plain": [
       "0.9774358974358974"
      ]
     },
     "execution_count": 34,
     "metadata": {},
     "output_type": "execute_result"
    }
   ],
   "source": [
    "# score on the train data\n",
    "pipe_nb.score(X_train, y_train)"
   ]
  },
  {
   "cell_type": "code",
   "execution_count": 35,
   "metadata": {},
   "outputs": [
    {
     "data": {
      "text/plain": [
       "0.8257692307692308"
      ]
     },
     "execution_count": 35,
     "metadata": {},
     "output_type": "execute_result"
    }
   ],
   "source": [
    "# score on the test data\n",
    "pipe_nb.score(X_test, y_test)"
   ]
  },
  {
   "cell_type": "markdown",
   "metadata": {},
   "source": [
    "#### 2. Naive Bayes with lemmatizing"
   ]
  },
  {
   "cell_type": "code",
   "execution_count": 15,
   "metadata": {},
   "outputs": [],
   "source": [
    "# define a function that return a lowercase lemmatized list of words\n",
    "def split_lemmatize(text):\n",
    "    text_lower = text.lower()\n",
    "    lemmatizer = WordNetLemmatizer()\n",
    "    return ' '.join([lemmatizer.lemmatize(x) for x in text_lower.split()])"
   ]
  },
  {
   "cell_type": "code",
   "execution_count": 16,
   "metadata": {},
   "outputs": [],
   "source": [
    "# make a pipe with lemmatizer function\n",
    "pipe_lem = make_pipeline(CountVectorizer(preprocessor = split_lemmatize, ngram_range = (2,2)), MultinomialNB())"
   ]
  },
  {
   "cell_type": "code",
   "execution_count": 17,
   "metadata": {},
   "outputs": [
    {
     "data": {
      "text/plain": [
       "Pipeline(steps=[('countvectorizer',\n",
       "                 CountVectorizer(ngram_range=(2, 2),\n",
       "                                 preprocessor=<function split_lemmatize at 0x0000022323BA54C0>)),\n",
       "                ('multinomialnb', MultinomialNB())])"
      ]
     },
     "execution_count": 17,
     "metadata": {},
     "output_type": "execute_result"
    }
   ],
   "source": [
    "# fit the data\n",
    "pipe_lem.fit(X_train, y_train)"
   ]
  },
  {
   "cell_type": "code",
   "execution_count": 18,
   "metadata": {},
   "outputs": [
    {
     "data": {
      "text/plain": [
       "0.9862820512820513"
      ]
     },
     "execution_count": 18,
     "metadata": {},
     "output_type": "execute_result"
    }
   ],
   "source": [
    "# score on the train data\n",
    "pipe_lem.score(X_train, y_train)"
   ]
  },
  {
   "cell_type": "code",
   "execution_count": 19,
   "metadata": {},
   "outputs": [
    {
     "data": {
      "text/plain": [
       "0.8661538461538462"
      ]
     },
     "execution_count": 19,
     "metadata": {},
     "output_type": "execute_result"
    }
   ],
   "source": [
    "# score on the test data\n",
    "pipe_lem.score(X_test, y_test)"
   ]
  },
  {
   "cell_type": "code",
   "execution_count": 20,
   "metadata": {},
   "outputs": [],
   "source": [
    "params_lem = {\n",
    "            'countvectorizer__max_features': [100, 500, 1000, 10_000,],\n",
    "            'countvectorizer__ngram_range': [(1,1), (2,2), (3,3)],\n",
    "            'countvectorizer__stop_words': ['english', None],\n",
    "            'multinomialnb__alpha': [0.01, 0.1, 1, 5, 10]\n",
    "}"
   ]
  },
  {
   "cell_type": "code",
   "execution_count": 21,
   "metadata": {},
   "outputs": [],
   "source": [
    "# start a gridsearch\n",
    "grid_lem = GridSearchCV(pipe_lem, param_grid = params_lem, n_jobs = -1)"
   ]
  },
  {
   "cell_type": "code",
   "execution_count": 22,
   "metadata": {},
   "outputs": [
    {
     "data": {
      "text/plain": [
       "GridSearchCV(estimator=Pipeline(steps=[('countvectorizer',\n",
       "                                        CountVectorizer(ngram_range=(2, 2),\n",
       "                                                        preprocessor=<function split_lemmatize at 0x0000022323BA54C0>)),\n",
       "                                       ('multinomialnb', MultinomialNB())]),\n",
       "             n_jobs=-1,\n",
       "             param_grid={'countvectorizer__max_features': [100, 500, 1000,\n",
       "                                                           10000],\n",
       "                         'countvectorizer__ngram_range': [(1, 1), (2, 2),\n",
       "                                                          (3, 3)],\n",
       "                         'countvectorizer__stop_words': ['english', None],\n",
       "                         'multinomialnb__alpha': [0.01, 0.1, 1, 5, 10]})"
      ]
     },
     "execution_count": 22,
     "metadata": {},
     "output_type": "execute_result"
    }
   ],
   "source": [
    "# fit the data\n",
    "grid_lem.fit(X_train, y_train)"
   ]
  },
  {
   "cell_type": "code",
   "execution_count": 23,
   "metadata": {},
   "outputs": [
    {
     "data": {
      "text/plain": [
       "0.9624358974358974"
      ]
     },
     "execution_count": 23,
     "metadata": {},
     "output_type": "execute_result"
    }
   ],
   "source": [
    "# score on the train data\n",
    "grid_lem.score(X_train, y_train)"
   ]
  },
  {
   "cell_type": "code",
   "execution_count": 24,
   "metadata": {},
   "outputs": [
    {
     "data": {
      "text/plain": [
       "0.9253846153846154"
      ]
     },
     "execution_count": 24,
     "metadata": {},
     "output_type": "execute_result"
    }
   ],
   "source": [
    "# accuracy score on the test data\n",
    "grid_lem.score(X_test, y_test)"
   ]
  },
  {
   "cell_type": "code",
   "execution_count": 56,
   "metadata": {
    "collapsed": true,
    "jupyter": {
     "outputs_hidden": true
    }
   },
   "outputs": [
    {
     "ename": "ValueError",
     "evalue": "pos_label=1 is not a valid label. It should be one of ['chess', 'poker']",
     "output_type": "error",
     "traceback": [
      "\u001b[1;31m---------------------------------------------------------------------------\u001b[0m",
      "\u001b[1;31mValueError\u001b[0m                                Traceback (most recent call last)",
      "\u001b[1;32m<ipython-input-56-73710c93bdb5>\u001b[0m in \u001b[0;36m<module>\u001b[1;34m\u001b[0m\n\u001b[0;32m      1\u001b[0m \u001b[1;31m# f1 score on the train data\u001b[0m\u001b[1;33m\u001b[0m\u001b[1;33m\u001b[0m\u001b[1;33m\u001b[0m\u001b[0m\n\u001b[1;32m----> 2\u001b[1;33m \u001b[0mf1_score\u001b[0m\u001b[1;33m(\u001b[0m\u001b[0my_train\u001b[0m\u001b[1;33m,\u001b[0m \u001b[0mgrid_lem\u001b[0m\u001b[1;33m.\u001b[0m\u001b[0mpredict\u001b[0m\u001b[1;33m(\u001b[0m\u001b[0mX_train\u001b[0m\u001b[1;33m)\u001b[0m\u001b[1;33m)\u001b[0m\u001b[1;33m\u001b[0m\u001b[1;33m\u001b[0m\u001b[0m\n\u001b[0m",
      "\u001b[1;32mc:\\users\\anel akiyanova\\anaconda3\\envs\\new\\lib\\site-packages\\sklearn\\utils\\validation.py\u001b[0m in \u001b[0;36minner_f\u001b[1;34m(*args, **kwargs)\u001b[0m\n\u001b[0;32m     61\u001b[0m             \u001b[0mextra_args\u001b[0m \u001b[1;33m=\u001b[0m \u001b[0mlen\u001b[0m\u001b[1;33m(\u001b[0m\u001b[0margs\u001b[0m\u001b[1;33m)\u001b[0m \u001b[1;33m-\u001b[0m \u001b[0mlen\u001b[0m\u001b[1;33m(\u001b[0m\u001b[0mall_args\u001b[0m\u001b[1;33m)\u001b[0m\u001b[1;33m\u001b[0m\u001b[1;33m\u001b[0m\u001b[0m\n\u001b[0;32m     62\u001b[0m             \u001b[1;32mif\u001b[0m \u001b[0mextra_args\u001b[0m \u001b[1;33m<=\u001b[0m \u001b[1;36m0\u001b[0m\u001b[1;33m:\u001b[0m\u001b[1;33m\u001b[0m\u001b[1;33m\u001b[0m\u001b[0m\n\u001b[1;32m---> 63\u001b[1;33m                 \u001b[1;32mreturn\u001b[0m \u001b[0mf\u001b[0m\u001b[1;33m(\u001b[0m\u001b[1;33m*\u001b[0m\u001b[0margs\u001b[0m\u001b[1;33m,\u001b[0m \u001b[1;33m**\u001b[0m\u001b[0mkwargs\u001b[0m\u001b[1;33m)\u001b[0m\u001b[1;33m\u001b[0m\u001b[1;33m\u001b[0m\u001b[0m\n\u001b[0m\u001b[0;32m     64\u001b[0m \u001b[1;33m\u001b[0m\u001b[0m\n\u001b[0;32m     65\u001b[0m             \u001b[1;31m# extra_args > 0\u001b[0m\u001b[1;33m\u001b[0m\u001b[1;33m\u001b[0m\u001b[1;33m\u001b[0m\u001b[0m\n",
      "\u001b[1;32mc:\\users\\anel akiyanova\\anaconda3\\envs\\new\\lib\\site-packages\\sklearn\\metrics\\_classification.py\u001b[0m in \u001b[0;36mf1_score\u001b[1;34m(y_true, y_pred, labels, pos_label, average, sample_weight, zero_division)\u001b[0m\n\u001b[0;32m   1066\u001b[0m     \u001b[0mmodified\u001b[0m \u001b[1;32mwith\u001b[0m\u001b[0;31m \u001b[0m\u001b[0;31m`\u001b[0m\u001b[0;31m`\u001b[0m\u001b[0mzero_division\u001b[0m\u001b[0;31m`\u001b[0m\u001b[0;31m`\u001b[0m\u001b[1;33m.\u001b[0m\u001b[1;33m\u001b[0m\u001b[1;33m\u001b[0m\u001b[0m\n\u001b[0;32m   1067\u001b[0m     \"\"\"\n\u001b[1;32m-> 1068\u001b[1;33m     return fbeta_score(y_true, y_pred, beta=1, labels=labels,\n\u001b[0m\u001b[0;32m   1069\u001b[0m                        \u001b[0mpos_label\u001b[0m\u001b[1;33m=\u001b[0m\u001b[0mpos_label\u001b[0m\u001b[1;33m,\u001b[0m \u001b[0maverage\u001b[0m\u001b[1;33m=\u001b[0m\u001b[0maverage\u001b[0m\u001b[1;33m,\u001b[0m\u001b[1;33m\u001b[0m\u001b[1;33m\u001b[0m\u001b[0m\n\u001b[0;32m   1070\u001b[0m                        \u001b[0msample_weight\u001b[0m\u001b[1;33m=\u001b[0m\u001b[0msample_weight\u001b[0m\u001b[1;33m,\u001b[0m\u001b[1;33m\u001b[0m\u001b[1;33m\u001b[0m\u001b[0m\n",
      "\u001b[1;32mc:\\users\\anel akiyanova\\anaconda3\\envs\\new\\lib\\site-packages\\sklearn\\utils\\validation.py\u001b[0m in \u001b[0;36minner_f\u001b[1;34m(*args, **kwargs)\u001b[0m\n\u001b[0;32m     61\u001b[0m             \u001b[0mextra_args\u001b[0m \u001b[1;33m=\u001b[0m \u001b[0mlen\u001b[0m\u001b[1;33m(\u001b[0m\u001b[0margs\u001b[0m\u001b[1;33m)\u001b[0m \u001b[1;33m-\u001b[0m \u001b[0mlen\u001b[0m\u001b[1;33m(\u001b[0m\u001b[0mall_args\u001b[0m\u001b[1;33m)\u001b[0m\u001b[1;33m\u001b[0m\u001b[1;33m\u001b[0m\u001b[0m\n\u001b[0;32m     62\u001b[0m             \u001b[1;32mif\u001b[0m \u001b[0mextra_args\u001b[0m \u001b[1;33m<=\u001b[0m \u001b[1;36m0\u001b[0m\u001b[1;33m:\u001b[0m\u001b[1;33m\u001b[0m\u001b[1;33m\u001b[0m\u001b[0m\n\u001b[1;32m---> 63\u001b[1;33m                 \u001b[1;32mreturn\u001b[0m \u001b[0mf\u001b[0m\u001b[1;33m(\u001b[0m\u001b[1;33m*\u001b[0m\u001b[0margs\u001b[0m\u001b[1;33m,\u001b[0m \u001b[1;33m**\u001b[0m\u001b[0mkwargs\u001b[0m\u001b[1;33m)\u001b[0m\u001b[1;33m\u001b[0m\u001b[1;33m\u001b[0m\u001b[0m\n\u001b[0m\u001b[0;32m     64\u001b[0m \u001b[1;33m\u001b[0m\u001b[0m\n\u001b[0;32m     65\u001b[0m             \u001b[1;31m# extra_args > 0\u001b[0m\u001b[1;33m\u001b[0m\u001b[1;33m\u001b[0m\u001b[1;33m\u001b[0m\u001b[0m\n",
      "\u001b[1;32mc:\\users\\anel akiyanova\\anaconda3\\envs\\new\\lib\\site-packages\\sklearn\\metrics\\_classification.py\u001b[0m in \u001b[0;36mfbeta_score\u001b[1;34m(y_true, y_pred, beta, labels, pos_label, average, sample_weight, zero_division)\u001b[0m\n\u001b[0;32m   1190\u001b[0m     \"\"\"\n\u001b[0;32m   1191\u001b[0m \u001b[1;33m\u001b[0m\u001b[0m\n\u001b[1;32m-> 1192\u001b[1;33m     _, _, f, _ = precision_recall_fscore_support(y_true, y_pred,\n\u001b[0m\u001b[0;32m   1193\u001b[0m                                                  \u001b[0mbeta\u001b[0m\u001b[1;33m=\u001b[0m\u001b[0mbeta\u001b[0m\u001b[1;33m,\u001b[0m\u001b[1;33m\u001b[0m\u001b[1;33m\u001b[0m\u001b[0m\n\u001b[0;32m   1194\u001b[0m                                                  \u001b[0mlabels\u001b[0m\u001b[1;33m=\u001b[0m\u001b[0mlabels\u001b[0m\u001b[1;33m,\u001b[0m\u001b[1;33m\u001b[0m\u001b[1;33m\u001b[0m\u001b[0m\n",
      "\u001b[1;32mc:\\users\\anel akiyanova\\anaconda3\\envs\\new\\lib\\site-packages\\sklearn\\utils\\validation.py\u001b[0m in \u001b[0;36minner_f\u001b[1;34m(*args, **kwargs)\u001b[0m\n\u001b[0;32m     61\u001b[0m             \u001b[0mextra_args\u001b[0m \u001b[1;33m=\u001b[0m \u001b[0mlen\u001b[0m\u001b[1;33m(\u001b[0m\u001b[0margs\u001b[0m\u001b[1;33m)\u001b[0m \u001b[1;33m-\u001b[0m \u001b[0mlen\u001b[0m\u001b[1;33m(\u001b[0m\u001b[0mall_args\u001b[0m\u001b[1;33m)\u001b[0m\u001b[1;33m\u001b[0m\u001b[1;33m\u001b[0m\u001b[0m\n\u001b[0;32m     62\u001b[0m             \u001b[1;32mif\u001b[0m \u001b[0mextra_args\u001b[0m \u001b[1;33m<=\u001b[0m \u001b[1;36m0\u001b[0m\u001b[1;33m:\u001b[0m\u001b[1;33m\u001b[0m\u001b[1;33m\u001b[0m\u001b[0m\n\u001b[1;32m---> 63\u001b[1;33m                 \u001b[1;32mreturn\u001b[0m \u001b[0mf\u001b[0m\u001b[1;33m(\u001b[0m\u001b[1;33m*\u001b[0m\u001b[0margs\u001b[0m\u001b[1;33m,\u001b[0m \u001b[1;33m**\u001b[0m\u001b[0mkwargs\u001b[0m\u001b[1;33m)\u001b[0m\u001b[1;33m\u001b[0m\u001b[1;33m\u001b[0m\u001b[0m\n\u001b[0m\u001b[0;32m     64\u001b[0m \u001b[1;33m\u001b[0m\u001b[0m\n\u001b[0;32m     65\u001b[0m             \u001b[1;31m# extra_args > 0\u001b[0m\u001b[1;33m\u001b[0m\u001b[1;33m\u001b[0m\u001b[1;33m\u001b[0m\u001b[0m\n",
      "\u001b[1;32mc:\\users\\anel akiyanova\\anaconda3\\envs\\new\\lib\\site-packages\\sklearn\\metrics\\_classification.py\u001b[0m in \u001b[0;36mprecision_recall_fscore_support\u001b[1;34m(y_true, y_pred, beta, labels, pos_label, average, warn_for, sample_weight, zero_division)\u001b[0m\n\u001b[0;32m   1459\u001b[0m     \u001b[1;32mif\u001b[0m \u001b[0mbeta\u001b[0m \u001b[1;33m<\u001b[0m \u001b[1;36m0\u001b[0m\u001b[1;33m:\u001b[0m\u001b[1;33m\u001b[0m\u001b[1;33m\u001b[0m\u001b[0m\n\u001b[0;32m   1460\u001b[0m         \u001b[1;32mraise\u001b[0m \u001b[0mValueError\u001b[0m\u001b[1;33m(\u001b[0m\u001b[1;34m\"beta should be >=0 in the F-beta score\"\u001b[0m\u001b[1;33m)\u001b[0m\u001b[1;33m\u001b[0m\u001b[1;33m\u001b[0m\u001b[0m\n\u001b[1;32m-> 1461\u001b[1;33m     labels = _check_set_wise_labels(y_true, y_pred, average, labels,\n\u001b[0m\u001b[0;32m   1462\u001b[0m                                     pos_label)\n\u001b[0;32m   1463\u001b[0m \u001b[1;33m\u001b[0m\u001b[0m\n",
      "\u001b[1;32mc:\\users\\anel akiyanova\\anaconda3\\envs\\new\\lib\\site-packages\\sklearn\\metrics\\_classification.py\u001b[0m in \u001b[0;36m_check_set_wise_labels\u001b[1;34m(y_true, y_pred, average, labels, pos_label)\u001b[0m\n\u001b[0;32m   1280\u001b[0m             \u001b[1;32mif\u001b[0m \u001b[0mpos_label\u001b[0m \u001b[1;32mnot\u001b[0m \u001b[1;32min\u001b[0m \u001b[0mpresent_labels\u001b[0m\u001b[1;33m:\u001b[0m\u001b[1;33m\u001b[0m\u001b[1;33m\u001b[0m\u001b[0m\n\u001b[0;32m   1281\u001b[0m                 \u001b[1;32mif\u001b[0m \u001b[0mlen\u001b[0m\u001b[1;33m(\u001b[0m\u001b[0mpresent_labels\u001b[0m\u001b[1;33m)\u001b[0m \u001b[1;33m>=\u001b[0m \u001b[1;36m2\u001b[0m\u001b[1;33m:\u001b[0m\u001b[1;33m\u001b[0m\u001b[1;33m\u001b[0m\u001b[0m\n\u001b[1;32m-> 1282\u001b[1;33m                     raise ValueError(\n\u001b[0m\u001b[0;32m   1283\u001b[0m                         \u001b[1;34mf\"pos_label={pos_label} is not a valid label. It \"\u001b[0m\u001b[1;33m\u001b[0m\u001b[1;33m\u001b[0m\u001b[0m\n\u001b[0;32m   1284\u001b[0m                         \u001b[1;34mf\"should be one of {present_labels}\"\u001b[0m\u001b[1;33m\u001b[0m\u001b[1;33m\u001b[0m\u001b[0m\n",
      "\u001b[1;31mValueError\u001b[0m: pos_label=1 is not a valid label. It should be one of ['chess', 'poker']"
     ]
    }
   ],
   "source": [
    "# f1 score on the train data\n",
    "f1_score(y_train, grid_lem.predict(X_train))"
   ]
  },
  {
   "cell_type": "code",
   "execution_count": 60,
   "metadata": {},
   "outputs": [
    {
     "ename": "ValueError",
     "evalue": "pos_label=neg is not a valid label. It should be one of ['chess', 'poker']",
     "output_type": "error",
     "traceback": [
      "\u001b[1;31m---------------------------------------------------------------------------\u001b[0m",
      "\u001b[1;31mValueError\u001b[0m                                Traceback (most recent call last)",
      "\u001b[1;32m<ipython-input-60-0c234f738b5c>\u001b[0m in \u001b[0;36m<module>\u001b[1;34m\u001b[0m\n\u001b[1;32m----> 1\u001b[1;33m \u001b[0mrecall_average\u001b[0m \u001b[1;33m=\u001b[0m \u001b[0mrecall_score\u001b[0m\u001b[1;33m(\u001b[0m\u001b[0my_test\u001b[0m\u001b[1;33m,\u001b[0m \u001b[0mgrid_lem\u001b[0m\u001b[1;33m.\u001b[0m\u001b[0mpredict\u001b[0m\u001b[1;33m(\u001b[0m\u001b[0mX_test\u001b[0m\u001b[1;33m)\u001b[0m\u001b[1;33m,\u001b[0m \u001b[0maverage\u001b[0m\u001b[1;33m=\u001b[0m\u001b[1;34m\"binary\"\u001b[0m\u001b[1;33m,\u001b[0m \u001b[0mpos_label\u001b[0m\u001b[1;33m=\u001b[0m\u001b[1;34m\"neg\"\u001b[0m\u001b[1;33m)\u001b[0m\u001b[1;33m\u001b[0m\u001b[1;33m\u001b[0m\u001b[0m\n\u001b[0m",
      "\u001b[1;32mc:\\users\\anel akiyanova\\anaconda3\\envs\\new\\lib\\site-packages\\sklearn\\utils\\validation.py\u001b[0m in \u001b[0;36minner_f\u001b[1;34m(*args, **kwargs)\u001b[0m\n\u001b[0;32m     61\u001b[0m             \u001b[0mextra_args\u001b[0m \u001b[1;33m=\u001b[0m \u001b[0mlen\u001b[0m\u001b[1;33m(\u001b[0m\u001b[0margs\u001b[0m\u001b[1;33m)\u001b[0m \u001b[1;33m-\u001b[0m \u001b[0mlen\u001b[0m\u001b[1;33m(\u001b[0m\u001b[0mall_args\u001b[0m\u001b[1;33m)\u001b[0m\u001b[1;33m\u001b[0m\u001b[1;33m\u001b[0m\u001b[0m\n\u001b[0;32m     62\u001b[0m             \u001b[1;32mif\u001b[0m \u001b[0mextra_args\u001b[0m \u001b[1;33m<=\u001b[0m \u001b[1;36m0\u001b[0m\u001b[1;33m:\u001b[0m\u001b[1;33m\u001b[0m\u001b[1;33m\u001b[0m\u001b[0m\n\u001b[1;32m---> 63\u001b[1;33m                 \u001b[1;32mreturn\u001b[0m \u001b[0mf\u001b[0m\u001b[1;33m(\u001b[0m\u001b[1;33m*\u001b[0m\u001b[0margs\u001b[0m\u001b[1;33m,\u001b[0m \u001b[1;33m**\u001b[0m\u001b[0mkwargs\u001b[0m\u001b[1;33m)\u001b[0m\u001b[1;33m\u001b[0m\u001b[1;33m\u001b[0m\u001b[0m\n\u001b[0m\u001b[0;32m     64\u001b[0m \u001b[1;33m\u001b[0m\u001b[0m\n\u001b[0;32m     65\u001b[0m             \u001b[1;31m# extra_args > 0\u001b[0m\u001b[1;33m\u001b[0m\u001b[1;33m\u001b[0m\u001b[1;33m\u001b[0m\u001b[0m\n",
      "\u001b[1;32mc:\\users\\anel akiyanova\\anaconda3\\envs\\new\\lib\\site-packages\\sklearn\\metrics\\_classification.py\u001b[0m in \u001b[0;36mrecall_score\u001b[1;34m(y_true, y_pred, labels, pos_label, average, sample_weight, zero_division)\u001b[0m\n\u001b[0;32m   1769\u001b[0m     \u001b[0marray\u001b[0m\u001b[1;33m(\u001b[0m\u001b[1;33m[\u001b[0m\u001b[1;36m0.5\u001b[0m\u001b[1;33m,\u001b[0m \u001b[1;36m1.\u001b[0m \u001b[1;33m,\u001b[0m \u001b[1;36m1.\u001b[0m \u001b[1;33m]\u001b[0m\u001b[1;33m)\u001b[0m\u001b[1;33m\u001b[0m\u001b[1;33m\u001b[0m\u001b[0m\n\u001b[0;32m   1770\u001b[0m     \"\"\"\n\u001b[1;32m-> 1771\u001b[1;33m     _, r, _, _ = precision_recall_fscore_support(y_true, y_pred,\n\u001b[0m\u001b[0;32m   1772\u001b[0m                                                  \u001b[0mlabels\u001b[0m\u001b[1;33m=\u001b[0m\u001b[0mlabels\u001b[0m\u001b[1;33m,\u001b[0m\u001b[1;33m\u001b[0m\u001b[1;33m\u001b[0m\u001b[0m\n\u001b[0;32m   1773\u001b[0m                                                  \u001b[0mpos_label\u001b[0m\u001b[1;33m=\u001b[0m\u001b[0mpos_label\u001b[0m\u001b[1;33m,\u001b[0m\u001b[1;33m\u001b[0m\u001b[1;33m\u001b[0m\u001b[0m\n",
      "\u001b[1;32mc:\\users\\anel akiyanova\\anaconda3\\envs\\new\\lib\\site-packages\\sklearn\\utils\\validation.py\u001b[0m in \u001b[0;36minner_f\u001b[1;34m(*args, **kwargs)\u001b[0m\n\u001b[0;32m     61\u001b[0m             \u001b[0mextra_args\u001b[0m \u001b[1;33m=\u001b[0m \u001b[0mlen\u001b[0m\u001b[1;33m(\u001b[0m\u001b[0margs\u001b[0m\u001b[1;33m)\u001b[0m \u001b[1;33m-\u001b[0m \u001b[0mlen\u001b[0m\u001b[1;33m(\u001b[0m\u001b[0mall_args\u001b[0m\u001b[1;33m)\u001b[0m\u001b[1;33m\u001b[0m\u001b[1;33m\u001b[0m\u001b[0m\n\u001b[0;32m     62\u001b[0m             \u001b[1;32mif\u001b[0m \u001b[0mextra_args\u001b[0m \u001b[1;33m<=\u001b[0m \u001b[1;36m0\u001b[0m\u001b[1;33m:\u001b[0m\u001b[1;33m\u001b[0m\u001b[1;33m\u001b[0m\u001b[0m\n\u001b[1;32m---> 63\u001b[1;33m                 \u001b[1;32mreturn\u001b[0m \u001b[0mf\u001b[0m\u001b[1;33m(\u001b[0m\u001b[1;33m*\u001b[0m\u001b[0margs\u001b[0m\u001b[1;33m,\u001b[0m \u001b[1;33m**\u001b[0m\u001b[0mkwargs\u001b[0m\u001b[1;33m)\u001b[0m\u001b[1;33m\u001b[0m\u001b[1;33m\u001b[0m\u001b[0m\n\u001b[0m\u001b[0;32m     64\u001b[0m \u001b[1;33m\u001b[0m\u001b[0m\n\u001b[0;32m     65\u001b[0m             \u001b[1;31m# extra_args > 0\u001b[0m\u001b[1;33m\u001b[0m\u001b[1;33m\u001b[0m\u001b[1;33m\u001b[0m\u001b[0m\n",
      "\u001b[1;32mc:\\users\\anel akiyanova\\anaconda3\\envs\\new\\lib\\site-packages\\sklearn\\metrics\\_classification.py\u001b[0m in \u001b[0;36mprecision_recall_fscore_support\u001b[1;34m(y_true, y_pred, beta, labels, pos_label, average, warn_for, sample_weight, zero_division)\u001b[0m\n\u001b[0;32m   1459\u001b[0m     \u001b[1;32mif\u001b[0m \u001b[0mbeta\u001b[0m \u001b[1;33m<\u001b[0m \u001b[1;36m0\u001b[0m\u001b[1;33m:\u001b[0m\u001b[1;33m\u001b[0m\u001b[1;33m\u001b[0m\u001b[0m\n\u001b[0;32m   1460\u001b[0m         \u001b[1;32mraise\u001b[0m \u001b[0mValueError\u001b[0m\u001b[1;33m(\u001b[0m\u001b[1;34m\"beta should be >=0 in the F-beta score\"\u001b[0m\u001b[1;33m)\u001b[0m\u001b[1;33m\u001b[0m\u001b[1;33m\u001b[0m\u001b[0m\n\u001b[1;32m-> 1461\u001b[1;33m     labels = _check_set_wise_labels(y_true, y_pred, average, labels,\n\u001b[0m\u001b[0;32m   1462\u001b[0m                                     pos_label)\n\u001b[0;32m   1463\u001b[0m \u001b[1;33m\u001b[0m\u001b[0m\n",
      "\u001b[1;32mc:\\users\\anel akiyanova\\anaconda3\\envs\\new\\lib\\site-packages\\sklearn\\metrics\\_classification.py\u001b[0m in \u001b[0;36m_check_set_wise_labels\u001b[1;34m(y_true, y_pred, average, labels, pos_label)\u001b[0m\n\u001b[0;32m   1280\u001b[0m             \u001b[1;32mif\u001b[0m \u001b[0mpos_label\u001b[0m \u001b[1;32mnot\u001b[0m \u001b[1;32min\u001b[0m \u001b[0mpresent_labels\u001b[0m\u001b[1;33m:\u001b[0m\u001b[1;33m\u001b[0m\u001b[1;33m\u001b[0m\u001b[0m\n\u001b[0;32m   1281\u001b[0m                 \u001b[1;32mif\u001b[0m \u001b[0mlen\u001b[0m\u001b[1;33m(\u001b[0m\u001b[0mpresent_labels\u001b[0m\u001b[1;33m)\u001b[0m \u001b[1;33m>=\u001b[0m \u001b[1;36m2\u001b[0m\u001b[1;33m:\u001b[0m\u001b[1;33m\u001b[0m\u001b[1;33m\u001b[0m\u001b[0m\n\u001b[1;32m-> 1282\u001b[1;33m                     raise ValueError(\n\u001b[0m\u001b[0;32m   1283\u001b[0m                         \u001b[1;34mf\"pos_label={pos_label} is not a valid label. It \"\u001b[0m\u001b[1;33m\u001b[0m\u001b[1;33m\u001b[0m\u001b[0m\n\u001b[0;32m   1284\u001b[0m                         \u001b[1;34mf\"should be one of {present_labels}\"\u001b[0m\u001b[1;33m\u001b[0m\u001b[1;33m\u001b[0m\u001b[0m\n",
      "\u001b[1;31mValueError\u001b[0m: pos_label=neg is not a valid label. It should be one of ['chess', 'poker']"
     ]
    }
   ],
   "source": [
    "recall_average = recall_score(y_test, grid_lem.predict(X_test), average=\"binary\", pos_label=\"neg\")"
   ]
  },
  {
   "cell_type": "code",
   "execution_count": 25,
   "metadata": {},
   "outputs": [
    {
     "data": {
      "text/plain": [
       "{'countvectorizer__max_features': 10000,\n",
       " 'countvectorizer__ngram_range': (1, 1),\n",
       " 'countvectorizer__stop_words': None,\n",
       " 'multinomialnb__alpha': 1}"
      ]
     },
     "execution_count": 25,
     "metadata": {},
     "output_type": "execute_result"
    }
   ],
   "source": [
    "# see what were the best parameters\n",
    "grid_lem.best_params_"
   ]
  },
  {
   "cell_type": "code",
   "execution_count": 26,
   "metadata": {
    "collapsed": true,
    "jupyter": {
     "outputs_hidden": true
    }
   },
   "outputs": [
    {
     "data": {
      "text/html": [
       "<div>\n",
       "<style scoped>\n",
       "    .dataframe tbody tr th:only-of-type {\n",
       "        vertical-align: middle;\n",
       "    }\n",
       "\n",
       "    .dataframe tbody tr th {\n",
       "        vertical-align: top;\n",
       "    }\n",
       "\n",
       "    .dataframe thead th {\n",
       "        text-align: right;\n",
       "    }\n",
       "</style>\n",
       "<table border=\"1\" class=\"dataframe\">\n",
       "  <thead>\n",
       "    <tr style=\"text-align: right;\">\n",
       "      <th></th>\n",
       "      <th>mean_fit_time</th>\n",
       "      <th>std_fit_time</th>\n",
       "      <th>mean_score_time</th>\n",
       "      <th>std_score_time</th>\n",
       "      <th>param_countvectorizer__max_features</th>\n",
       "      <th>param_countvectorizer__ngram_range</th>\n",
       "      <th>param_countvectorizer__stop_words</th>\n",
       "      <th>param_multinomialnb__alpha</th>\n",
       "      <th>params</th>\n",
       "      <th>split0_test_score</th>\n",
       "      <th>split1_test_score</th>\n",
       "      <th>split2_test_score</th>\n",
       "      <th>split3_test_score</th>\n",
       "      <th>split4_test_score</th>\n",
       "      <th>mean_test_score</th>\n",
       "      <th>std_test_score</th>\n",
       "      <th>rank_test_score</th>\n",
       "    </tr>\n",
       "  </thead>\n",
       "  <tbody>\n",
       "    <tr>\n",
       "      <th>24</th>\n",
       "      <td>1.273324</td>\n",
       "      <td>0.088497</td>\n",
       "      <td>0.276885</td>\n",
       "      <td>0.021142</td>\n",
       "      <td>100</td>\n",
       "      <td>(3, 3)</td>\n",
       "      <td>english</td>\n",
       "      <td>10</td>\n",
       "      <td>{'countvectorizer__max_features': 100, 'countv...</td>\n",
       "      <td>0.542949</td>\n",
       "      <td>0.534615</td>\n",
       "      <td>0.544872</td>\n",
       "      <td>0.537821</td>\n",
       "      <td>0.542949</td>\n",
       "      <td>0.540641</td>\n",
       "      <td>0.003816</td>\n",
       "      <td>120</td>\n",
       "    </tr>\n",
       "    <tr>\n",
       "      <th>20</th>\n",
       "      <td>1.255444</td>\n",
       "      <td>0.146566</td>\n",
       "      <td>0.280761</td>\n",
       "      <td>0.028546</td>\n",
       "      <td>100</td>\n",
       "      <td>(3, 3)</td>\n",
       "      <td>english</td>\n",
       "      <td>0.01</td>\n",
       "      <td>{'countvectorizer__max_features': 100, 'countv...</td>\n",
       "      <td>0.542949</td>\n",
       "      <td>0.534615</td>\n",
       "      <td>0.544872</td>\n",
       "      <td>0.537821</td>\n",
       "      <td>0.543590</td>\n",
       "      <td>0.540769</td>\n",
       "      <td>0.003901</td>\n",
       "      <td>116</td>\n",
       "    </tr>\n",
       "    <tr>\n",
       "      <th>23</th>\n",
       "      <td>1.310724</td>\n",
       "      <td>0.101427</td>\n",
       "      <td>0.263945</td>\n",
       "      <td>0.023831</td>\n",
       "      <td>100</td>\n",
       "      <td>(3, 3)</td>\n",
       "      <td>english</td>\n",
       "      <td>5</td>\n",
       "      <td>{'countvectorizer__max_features': 100, 'countv...</td>\n",
       "      <td>0.542949</td>\n",
       "      <td>0.534615</td>\n",
       "      <td>0.544872</td>\n",
       "      <td>0.537821</td>\n",
       "      <td>0.543590</td>\n",
       "      <td>0.540769</td>\n",
       "      <td>0.003901</td>\n",
       "      <td>116</td>\n",
       "    </tr>\n",
       "    <tr>\n",
       "      <th>22</th>\n",
       "      <td>1.295691</td>\n",
       "      <td>0.044122</td>\n",
       "      <td>0.283155</td>\n",
       "      <td>0.016466</td>\n",
       "      <td>100</td>\n",
       "      <td>(3, 3)</td>\n",
       "      <td>english</td>\n",
       "      <td>1</td>\n",
       "      <td>{'countvectorizer__max_features': 100, 'countv...</td>\n",
       "      <td>0.542949</td>\n",
       "      <td>0.534615</td>\n",
       "      <td>0.544872</td>\n",
       "      <td>0.537821</td>\n",
       "      <td>0.543590</td>\n",
       "      <td>0.540769</td>\n",
       "      <td>0.003901</td>\n",
       "      <td>116</td>\n",
       "    </tr>\n",
       "    <tr>\n",
       "      <th>21</th>\n",
       "      <td>1.397148</td>\n",
       "      <td>0.146184</td>\n",
       "      <td>0.320671</td>\n",
       "      <td>0.030998</td>\n",
       "      <td>100</td>\n",
       "      <td>(3, 3)</td>\n",
       "      <td>english</td>\n",
       "      <td>0.10</td>\n",
       "      <td>{'countvectorizer__max_features': 100, 'countv...</td>\n",
       "      <td>0.542949</td>\n",
       "      <td>0.534615</td>\n",
       "      <td>0.544872</td>\n",
       "      <td>0.537821</td>\n",
       "      <td>0.543590</td>\n",
       "      <td>0.540769</td>\n",
       "      <td>0.003901</td>\n",
       "      <td>116</td>\n",
       "    </tr>\n",
       "    <tr>\n",
       "      <th>...</th>\n",
       "      <td>...</td>\n",
       "      <td>...</td>\n",
       "      <td>...</td>\n",
       "      <td>...</td>\n",
       "      <td>...</td>\n",
       "      <td>...</td>\n",
       "      <td>...</td>\n",
       "      <td>...</td>\n",
       "      <td>...</td>\n",
       "      <td>...</td>\n",
       "      <td>...</td>\n",
       "      <td>...</td>\n",
       "      <td>...</td>\n",
       "      <td>...</td>\n",
       "      <td>...</td>\n",
       "      <td>...</td>\n",
       "      <td>...</td>\n",
       "    </tr>\n",
       "    <tr>\n",
       "      <th>95</th>\n",
       "      <td>3.350343</td>\n",
       "      <td>0.686224</td>\n",
       "      <td>1.370180</td>\n",
       "      <td>0.306367</td>\n",
       "      <td>10000</td>\n",
       "      <td>(1, 1)</td>\n",
       "      <td>None</td>\n",
       "      <td>0.01</td>\n",
       "      <td>{'countvectorizer__max_features': 10000, 'coun...</td>\n",
       "      <td>0.923077</td>\n",
       "      <td>0.930769</td>\n",
       "      <td>0.927564</td>\n",
       "      <td>0.925641</td>\n",
       "      <td>0.933333</td>\n",
       "      <td>0.928077</td>\n",
       "      <td>0.003635</td>\n",
       "      <td>5</td>\n",
       "    </tr>\n",
       "    <tr>\n",
       "      <th>91</th>\n",
       "      <td>3.635957</td>\n",
       "      <td>0.476644</td>\n",
       "      <td>0.804419</td>\n",
       "      <td>0.147536</td>\n",
       "      <td>10000</td>\n",
       "      <td>(1, 1)</td>\n",
       "      <td>english</td>\n",
       "      <td>0.10</td>\n",
       "      <td>{'countvectorizer__max_features': 10000, 'coun...</td>\n",
       "      <td>0.920513</td>\n",
       "      <td>0.933974</td>\n",
       "      <td>0.932051</td>\n",
       "      <td>0.926282</td>\n",
       "      <td>0.933974</td>\n",
       "      <td>0.929359</td>\n",
       "      <td>0.005245</td>\n",
       "      <td>4</td>\n",
       "    </tr>\n",
       "    <tr>\n",
       "      <th>92</th>\n",
       "      <td>3.327712</td>\n",
       "      <td>0.583729</td>\n",
       "      <td>0.841409</td>\n",
       "      <td>0.195023</td>\n",
       "      <td>10000</td>\n",
       "      <td>(1, 1)</td>\n",
       "      <td>english</td>\n",
       "      <td>1</td>\n",
       "      <td>{'countvectorizer__max_features': 10000, 'coun...</td>\n",
       "      <td>0.923077</td>\n",
       "      <td>0.933333</td>\n",
       "      <td>0.937179</td>\n",
       "      <td>0.926923</td>\n",
       "      <td>0.935256</td>\n",
       "      <td>0.931154</td>\n",
       "      <td>0.005311</td>\n",
       "      <td>3</td>\n",
       "    </tr>\n",
       "    <tr>\n",
       "      <th>96</th>\n",
       "      <td>4.357672</td>\n",
       "      <td>0.700420</td>\n",
       "      <td>1.039471</td>\n",
       "      <td>0.312508</td>\n",
       "      <td>10000</td>\n",
       "      <td>(1, 1)</td>\n",
       "      <td>None</td>\n",
       "      <td>0.10</td>\n",
       "      <td>{'countvectorizer__max_features': 10000, 'coun...</td>\n",
       "      <td>0.927564</td>\n",
       "      <td>0.935256</td>\n",
       "      <td>0.931410</td>\n",
       "      <td>0.932051</td>\n",
       "      <td>0.937821</td>\n",
       "      <td>0.932821</td>\n",
       "      <td>0.003497</td>\n",
       "      <td>2</td>\n",
       "    </tr>\n",
       "    <tr>\n",
       "      <th>97</th>\n",
       "      <td>3.528437</td>\n",
       "      <td>0.428640</td>\n",
       "      <td>0.858609</td>\n",
       "      <td>0.105569</td>\n",
       "      <td>10000</td>\n",
       "      <td>(1, 1)</td>\n",
       "      <td>None</td>\n",
       "      <td>1</td>\n",
       "      <td>{'countvectorizer__max_features': 10000, 'coun...</td>\n",
       "      <td>0.929487</td>\n",
       "      <td>0.931410</td>\n",
       "      <td>0.937821</td>\n",
       "      <td>0.927564</td>\n",
       "      <td>0.939103</td>\n",
       "      <td>0.933077</td>\n",
       "      <td>0.004580</td>\n",
       "      <td>1</td>\n",
       "    </tr>\n",
       "  </tbody>\n",
       "</table>\n",
       "<p>120 rows × 17 columns</p>\n",
       "</div>"
      ],
      "text/plain": [
       "    mean_fit_time  std_fit_time  mean_score_time  std_score_time  \\\n",
       "24       1.273324      0.088497         0.276885        0.021142   \n",
       "20       1.255444      0.146566         0.280761        0.028546   \n",
       "23       1.310724      0.101427         0.263945        0.023831   \n",
       "22       1.295691      0.044122         0.283155        0.016466   \n",
       "21       1.397148      0.146184         0.320671        0.030998   \n",
       "..            ...           ...              ...             ...   \n",
       "95       3.350343      0.686224         1.370180        0.306367   \n",
       "91       3.635957      0.476644         0.804419        0.147536   \n",
       "92       3.327712      0.583729         0.841409        0.195023   \n",
       "96       4.357672      0.700420         1.039471        0.312508   \n",
       "97       3.528437      0.428640         0.858609        0.105569   \n",
       "\n",
       "   param_countvectorizer__max_features param_countvectorizer__ngram_range  \\\n",
       "24                                 100                             (3, 3)   \n",
       "20                                 100                             (3, 3)   \n",
       "23                                 100                             (3, 3)   \n",
       "22                                 100                             (3, 3)   \n",
       "21                                 100                             (3, 3)   \n",
       "..                                 ...                                ...   \n",
       "95                               10000                             (1, 1)   \n",
       "91                               10000                             (1, 1)   \n",
       "92                               10000                             (1, 1)   \n",
       "96                               10000                             (1, 1)   \n",
       "97                               10000                             (1, 1)   \n",
       "\n",
       "   param_countvectorizer__stop_words param_multinomialnb__alpha  \\\n",
       "24                           english                         10   \n",
       "20                           english                       0.01   \n",
       "23                           english                          5   \n",
       "22                           english                          1   \n",
       "21                           english                       0.10   \n",
       "..                               ...                        ...   \n",
       "95                              None                       0.01   \n",
       "91                           english                       0.10   \n",
       "92                           english                          1   \n",
       "96                              None                       0.10   \n",
       "97                              None                          1   \n",
       "\n",
       "                                               params  split0_test_score  \\\n",
       "24  {'countvectorizer__max_features': 100, 'countv...           0.542949   \n",
       "20  {'countvectorizer__max_features': 100, 'countv...           0.542949   \n",
       "23  {'countvectorizer__max_features': 100, 'countv...           0.542949   \n",
       "22  {'countvectorizer__max_features': 100, 'countv...           0.542949   \n",
       "21  {'countvectorizer__max_features': 100, 'countv...           0.542949   \n",
       "..                                                ...                ...   \n",
       "95  {'countvectorizer__max_features': 10000, 'coun...           0.923077   \n",
       "91  {'countvectorizer__max_features': 10000, 'coun...           0.920513   \n",
       "92  {'countvectorizer__max_features': 10000, 'coun...           0.923077   \n",
       "96  {'countvectorizer__max_features': 10000, 'coun...           0.927564   \n",
       "97  {'countvectorizer__max_features': 10000, 'coun...           0.929487   \n",
       "\n",
       "    split1_test_score  split2_test_score  split3_test_score  \\\n",
       "24           0.534615           0.544872           0.537821   \n",
       "20           0.534615           0.544872           0.537821   \n",
       "23           0.534615           0.544872           0.537821   \n",
       "22           0.534615           0.544872           0.537821   \n",
       "21           0.534615           0.544872           0.537821   \n",
       "..                ...                ...                ...   \n",
       "95           0.930769           0.927564           0.925641   \n",
       "91           0.933974           0.932051           0.926282   \n",
       "92           0.933333           0.937179           0.926923   \n",
       "96           0.935256           0.931410           0.932051   \n",
       "97           0.931410           0.937821           0.927564   \n",
       "\n",
       "    split4_test_score  mean_test_score  std_test_score  rank_test_score  \n",
       "24           0.542949         0.540641        0.003816              120  \n",
       "20           0.543590         0.540769        0.003901              116  \n",
       "23           0.543590         0.540769        0.003901              116  \n",
       "22           0.543590         0.540769        0.003901              116  \n",
       "21           0.543590         0.540769        0.003901              116  \n",
       "..                ...              ...             ...              ...  \n",
       "95           0.933333         0.928077        0.003635                5  \n",
       "91           0.933974         0.929359        0.005245                4  \n",
       "92           0.935256         0.931154        0.005311                3  \n",
       "96           0.937821         0.932821        0.003497                2  \n",
       "97           0.939103         0.933077        0.004580                1  \n",
       "\n",
       "[120 rows x 17 columns]"
      ]
     },
     "execution_count": 26,
     "metadata": {},
     "output_type": "execute_result"
    }
   ],
   "source": [
    "# explore the dataframe of grid results\n",
    "pd.DataFrame(grid_lem.cv_results_).sort_values(by = 'mean_test_score')"
   ]
  },
  {
   "cell_type": "code",
   "execution_count": 27,
   "metadata": {},
   "outputs": [],
   "source": [
    "# get feature names\n",
    "features = grid_lem.best_estimator_.named_steps.countvectorizer.get_feature_names()"
   ]
  },
  {
   "cell_type": "code",
   "execution_count": 28,
   "metadata": {},
   "outputs": [
    {
     "name": "stderr",
     "output_type": "stream",
     "text": [
      "c:\\users\\anel akiyanova\\anaconda3\\envs\\new\\lib\\site-packages\\sklearn\\utils\\deprecation.py:101: FutureWarning: Attribute coef_ was deprecated in version 0.24 and will be removed in 1.1 (renaming of 0.26).\n",
      "  warnings.warn(msg, category=FutureWarning)\n"
     ]
    }
   ],
   "source": [
    "# coefficients\n",
    "coefs = grid_lem.best_estimator_.named_steps['multinomialnb'].coef_"
   ]
  },
  {
   "cell_type": "code",
   "execution_count": 29,
   "metadata": {},
   "outputs": [],
   "source": [
    "coefs_df = pd.DataFrame({'coefs': coefs[0], 'names': features}).sort_values(by = 'coefs', ascending = False).head(20)"
   ]
  },
  {
   "cell_type": "code",
   "execution_count": 30,
   "metadata": {},
   "outputs": [
    {
     "data": {
      "text/html": [
       "<div>\n",
       "<style scoped>\n",
       "    .dataframe tbody tr th:only-of-type {\n",
       "        vertical-align: middle;\n",
       "    }\n",
       "\n",
       "    .dataframe tbody tr th {\n",
       "        vertical-align: top;\n",
       "    }\n",
       "\n",
       "    .dataframe thead th {\n",
       "        text-align: right;\n",
       "    }\n",
       "</style>\n",
       "<table border=\"1\" class=\"dataframe\">\n",
       "  <thead>\n",
       "    <tr style=\"text-align: right;\">\n",
       "      <th></th>\n",
       "      <th>coefs</th>\n",
       "      <th>names</th>\n",
       "    </tr>\n",
       "  </thead>\n",
       "  <tbody>\n",
       "    <tr>\n",
       "      <th>6493</th>\n",
       "      <td>-3.772199</td>\n",
       "      <td>the</td>\n",
       "    </tr>\n",
       "    <tr>\n",
       "      <th>4915</th>\n",
       "      <td>-3.812544</td>\n",
       "      <td>poker</td>\n",
       "    </tr>\n",
       "    <tr>\n",
       "      <th>6585</th>\n",
       "      <td>-3.989894</td>\n",
       "      <td>to</td>\n",
       "    </tr>\n",
       "    <tr>\n",
       "      <th>3362</th>\n",
       "      <td>-4.155538</td>\n",
       "      <td>in</td>\n",
       "    </tr>\n",
       "    <tr>\n",
       "      <th>2739</th>\n",
       "      <td>-4.371077</td>\n",
       "      <td>for</td>\n",
       "    </tr>\n",
       "    <tr>\n",
       "      <th>4551</th>\n",
       "      <td>-4.445768</td>\n",
       "      <td>on</td>\n",
       "    </tr>\n",
       "    <tr>\n",
       "      <th>707</th>\n",
       "      <td>-4.539854</td>\n",
       "      <td>and</td>\n",
       "    </tr>\n",
       "    <tr>\n",
       "      <th>7191</th>\n",
       "      <td>-4.641236</td>\n",
       "      <td>you</td>\n",
       "    </tr>\n",
       "    <tr>\n",
       "      <th>3503</th>\n",
       "      <td>-4.658759</td>\n",
       "      <td>is</td>\n",
       "    </tr>\n",
       "    <tr>\n",
       "      <th>4522</th>\n",
       "      <td>-4.713247</td>\n",
       "      <td>of</td>\n",
       "    </tr>\n",
       "    <tr>\n",
       "      <th>6517</th>\n",
       "      <td>-4.884431</td>\n",
       "      <td>this</td>\n",
       "    </tr>\n",
       "    <tr>\n",
       "      <th>7094</th>\n",
       "      <td>-4.933063</td>\n",
       "      <td>with</td>\n",
       "    </tr>\n",
       "    <tr>\n",
       "      <th>3069</th>\n",
       "      <td>-4.970292</td>\n",
       "      <td>hand</td>\n",
       "    </tr>\n",
       "    <tr>\n",
       "      <th>4291</th>\n",
       "      <td>-5.019772</td>\n",
       "      <td>my</td>\n",
       "    </tr>\n",
       "    <tr>\n",
       "      <th>2859</th>\n",
       "      <td>-5.038054</td>\n",
       "      <td>game</td>\n",
       "    </tr>\n",
       "    <tr>\n",
       "      <th>3250</th>\n",
       "      <td>-5.068019</td>\n",
       "      <td>how</td>\n",
       "    </tr>\n",
       "    <tr>\n",
       "      <th>3515</th>\n",
       "      <td>-5.087213</td>\n",
       "      <td>it</td>\n",
       "    </tr>\n",
       "    <tr>\n",
       "      <th>7036</th>\n",
       "      <td>-5.118712</td>\n",
       "      <td>what</td>\n",
       "    </tr>\n",
       "    <tr>\n",
       "      <th>4556</th>\n",
       "      <td>-5.184852</td>\n",
       "      <td>online</td>\n",
       "    </tr>\n",
       "    <tr>\n",
       "      <th>4854</th>\n",
       "      <td>-5.255678</td>\n",
       "      <td>play</td>\n",
       "    </tr>\n",
       "  </tbody>\n",
       "</table>\n",
       "</div>"
      ],
      "text/plain": [
       "         coefs   names\n",
       "6493 -3.772199     the\n",
       "4915 -3.812544   poker\n",
       "6585 -3.989894      to\n",
       "3362 -4.155538      in\n",
       "2739 -4.371077     for\n",
       "4551 -4.445768      on\n",
       "707  -4.539854     and\n",
       "7191 -4.641236     you\n",
       "3503 -4.658759      is\n",
       "4522 -4.713247      of\n",
       "6517 -4.884431    this\n",
       "7094 -4.933063    with\n",
       "3069 -4.970292    hand\n",
       "4291 -5.019772      my\n",
       "2859 -5.038054    game\n",
       "3250 -5.068019     how\n",
       "3515 -5.087213      it\n",
       "7036 -5.118712    what\n",
       "4556 -5.184852  online\n",
       "4854 -5.255678    play"
      ]
     },
     "execution_count": 30,
     "metadata": {},
     "output_type": "execute_result"
    }
   ],
   "source": [
    "coefs_df"
   ]
  },
  {
   "cell_type": "code",
   "execution_count": 36,
   "metadata": {},
   "outputs": [
    {
     "data": {
      "image/png": "[encoded data removed]",
      "text/plain": [
       "<Figure size 432x288 with 2 Axes>"
      ]
     },
     "metadata": {
      "needs_background": "light"
     },
     "output_type": "display_data"
    }
   ],
   "source": [
    "# plot confusion matrix \n",
    "plot_confusion_matrix(grid_lem, X_test, y_test);"
   ]
  },
  {
   "cell_type": "code",
   "execution_count": null,
   "metadata": {},
   "outputs": [],
   "source": []
  },
  {
   "cell_type": "markdown",
   "metadata": {},
   "source": [
    "#### 3. Logistic Regession"
   ]
  },
  {
   "cell_type": "code",
   "execution_count": 48,
   "metadata": {},
   "outputs": [],
   "source": [
    "# instantiate a pipe\n",
    "pipe_lr = make_pipeline(CountVectorizer(stop_words = 'english', ngram_range = (2,2)), StandardScaler(with_mean = False), LogisticRegression())"
   ]
  },
  {
   "cell_type": "code",
   "execution_count": 49,
   "metadata": {},
   "outputs": [
    {
     "data": {
      "text/plain": [
       "Pipeline(steps=[('countvectorizer',\n",
       "                 CountVectorizer(ngram_range=(2, 2), stop_words='english')),\n",
       "                ('standardscaler', StandardScaler(with_mean=False)),\n",
       "                ('logisticregression', LogisticRegression())])"
      ]
     },
     "execution_count": 49,
     "metadata": {},
     "output_type": "execute_result"
    }
   ],
   "source": [
    "# fit the data\n",
    "pipe_lr.fit(X_train, y_train)"
   ]
  },
  {
   "cell_type": "code",
   "execution_count": 50,
   "metadata": {},
   "outputs": [
    {
     "data": {
      "text/plain": [
       "0.9793589743589743"
      ]
     },
     "execution_count": 50,
     "metadata": {},
     "output_type": "execute_result"
    }
   ],
   "source": [
    "# score on the trian data\n",
    "pipe_lr.score(X_train, y_train)"
   ]
  },
  {
   "cell_type": "code",
   "execution_count": 51,
   "metadata": {},
   "outputs": [
    {
     "data": {
      "text/plain": [
       "0.816923076923077"
      ]
     },
     "execution_count": 51,
     "metadata": {},
     "output_type": "execute_result"
    }
   ],
   "source": [
    "# score on the test data\n",
    "pipe_lr.score(X_test, y_test)"
   ]
  },
  {
   "cell_type": "markdown",
   "metadata": {},
   "source": [
    "#### 4. Random Forest Classifier"
   ]
  },
  {
   "cell_type": "code",
   "execution_count": 42,
   "metadata": {},
   "outputs": [],
   "source": [
    "# instantiate a pipe\n",
    "pipe_forest = make_pipeline(CountVectorizer(stop_words = 'english', ngram_range = (2,2)), RandomForestClassifier())"
   ]
  },
  {
   "cell_type": "code",
   "execution_count": 43,
   "metadata": {},
   "outputs": [
    {
     "data": {
      "text/plain": [
       "Pipeline(steps=[('countvectorizer',\n",
       "                 CountVectorizer(ngram_range=(2, 2), stop_words='english')),\n",
       "                ('randomforestclassifier', RandomForestClassifier())])"
      ]
     },
     "execution_count": 43,
     "metadata": {},
     "output_type": "execute_result"
    }
   ],
   "source": [
    "# fit the data\n",
    "pipe_forest.fit(X_train, y_train)"
   ]
  },
  {
   "cell_type": "code",
   "execution_count": 44,
   "metadata": {},
   "outputs": [
    {
     "data": {
      "text/plain": [
       "0.9793589743589743"
      ]
     },
     "execution_count": 44,
     "metadata": {},
     "output_type": "execute_result"
    }
   ],
   "source": [
    "# score on the train data\n",
    "pipe_forest.score(X_train, y_train)"
   ]
  },
  {
   "cell_type": "code",
   "execution_count": 45,
   "metadata": {},
   "outputs": [
    {
     "data": {
      "text/plain": [
       "0.7753846153846153"
      ]
     },
     "execution_count": 45,
     "metadata": {},
     "output_type": "execute_result"
    }
   ],
   "source": [
    "# score on the test data\n",
    "pipe_forest.score(X_test, y_test)"
   ]
  },
  {
   "cell_type": "markdown",
   "metadata": {},
   "source": [
    "#### 5. SVC"
   ]
  },
  {
   "cell_type": "code",
   "execution_count": 54,
   "metadata": {},
   "outputs": [],
   "source": [
    "# make a pipe\n",
    "pipe_svc = make_pipeline(CountVectorizer(ngram_range = (1,1)), StandardScaler(with_mean = False), SVC())"
   ]
  },
  {
   "cell_type": "code",
   "execution_count": 55,
   "metadata": {},
   "outputs": [
    {
     "data": {
      "text/plain": [
       "Pipeline(steps=[('countvectorizer', CountVectorizer()),\n",
       "                ('standardscaler', StandardScaler(with_mean=False)),\n",
       "                ('svc', SVC())])"
      ]
     },
     "execution_count": 55,
     "metadata": {},
     "output_type": "execute_result"
    }
   ],
   "source": [
    "pipe_svc.fit(X_train, y_train)"
   ]
  },
  {
   "cell_type": "code",
   "execution_count": 19,
   "metadata": {},
   "outputs": [],
   "source": [
    "params_svc = {\n",
    "        'countvectorizer__max_features': [50, 100, 500, 1000, 10_000], \n",
    "        'countvectorizer__ngram_range': [(1,1), (2,2), (3,3)],\n",
    "        'countvectorizer__stop_words': ['english', None],\n",
    "        'svc__gamma': ['scale', 'auto'],\n",
    "        'svc__C': [0.01, 0.1, 1, 3, 5, 10]\n",
    "}"
   ]
  },
  {
   "cell_type": "code",
   "execution_count": 20,
   "metadata": {},
   "outputs": [],
   "source": [
    "grid_svc = GridSearchCV(pipe_svc, param_grid = params_svc, n_jobs = -1)"
   ]
  },
  {
   "cell_type": "code",
   "execution_count": 21,
   "metadata": {},
   "outputs": [
    {
     "data": {
      "text/plain": [
       "GridSearchCV(estimator=Pipeline(steps=[('countvectorizer', CountVectorizer()),\n",
       "                                       ('svc', SVC())]),\n",
       "             n_jobs=-1,\n",
       "             param_grid={'countvectorizer__max_features': [50, 100, 500, 1000,\n",
       "                                                           10000],\n",
       "                         'countvectorizer__ngram_range': [(1, 1), (2, 2),\n",
       "                                                          (3, 3)],\n",
       "                         'countvectorizer__stop_words': ['english', None],\n",
       "                         'svc__C': [0.01, 0.1, 1, 3, 5, 10],\n",
       "                         'svc__gamma': ['scale', 'auto']})"
      ]
     },
     "execution_count": 21,
     "metadata": {},
     "output_type": "execute_result"
    }
   ],
   "source": [
    "grid_svc.fit(X_train, y_train)"
   ]
  },
  {
   "cell_type": "code",
   "execution_count": 22,
   "metadata": {},
   "outputs": [
    {
     "data": {
      "text/plain": [
       "0.9917948717948718"
      ]
     },
     "execution_count": 22,
     "metadata": {},
     "output_type": "execute_result"
    }
   ],
   "source": [
    "grid_svc.score(X_train, y_train)"
   ]
  },
  {
   "cell_type": "code",
   "execution_count": 23,
   "metadata": {},
   "outputs": [
    {
     "data": {
      "text/plain": [
       "0.9180769230769231"
      ]
     },
     "execution_count": 23,
     "metadata": {},
     "output_type": "execute_result"
    }
   ],
   "source": [
    "grid_svc.score(X_test, y_test)"
   ]
  },
  {
   "cell_type": "code",
   "execution_count": 24,
   "metadata": {},
   "outputs": [
    {
     "data": {
      "text/plain": [
       "{'countvectorizer__max_features': 10000,\n",
       " 'countvectorizer__ngram_range': (1, 1),\n",
       " 'countvectorizer__stop_words': 'english',\n",
       " 'svc__C': 3,\n",
       " 'svc__gamma': 'scale'}"
      ]
     },
     "execution_count": 24,
     "metadata": {},
     "output_type": "execute_result"
    }
   ],
   "source": [
    "grid_svc.best_params_"
   ]
  },
  {
   "cell_type": "code",
   "execution_count": 26,
   "metadata": {
    "collapsed": true,
    "jupyter": {
     "outputs_hidden": true
    }
   },
   "outputs": [
    {
     "data": {
      "text/html": [
       "<div>\n",
       "<style scoped>\n",
       "    .dataframe tbody tr th:only-of-type {\n",
       "        vertical-align: middle;\n",
       "    }\n",
       "\n",
       "    .dataframe tbody tr th {\n",
       "        vertical-align: top;\n",
       "    }\n",
       "\n",
       "    .dataframe thead th {\n",
       "        text-align: right;\n",
       "    }\n",
       "</style>\n",
       "<table border=\"1\" class=\"dataframe\">\n",
       "  <thead>\n",
       "    <tr style=\"text-align: right;\">\n",
       "      <th></th>\n",
       "      <th>mean_fit_time</th>\n",
       "      <th>std_fit_time</th>\n",
       "      <th>mean_score_time</th>\n",
       "      <th>std_score_time</th>\n",
       "      <th>param_countvectorizer__max_features</th>\n",
       "      <th>param_countvectorizer__ngram_range</th>\n",
       "      <th>param_countvectorizer__stop_words</th>\n",
       "      <th>param_svc__C</th>\n",
       "      <th>param_svc__gamma</th>\n",
       "      <th>params</th>\n",
       "      <th>split0_test_score</th>\n",
       "      <th>split1_test_score</th>\n",
       "      <th>split2_test_score</th>\n",
       "      <th>split3_test_score</th>\n",
       "      <th>split4_test_score</th>\n",
       "      <th>mean_test_score</th>\n",
       "      <th>std_test_score</th>\n",
       "      <th>rank_test_score</th>\n",
       "    </tr>\n",
       "  </thead>\n",
       "  <tbody>\n",
       "    <tr>\n",
       "      <th>359</th>\n",
       "      <td>3.755439</td>\n",
       "      <td>0.452309</td>\n",
       "      <td>0.427787</td>\n",
       "      <td>0.129377</td>\n",
       "      <td>10000</td>\n",
       "      <td>(3, 3)</td>\n",
       "      <td>None</td>\n",
       "      <td>10</td>\n",
       "      <td>auto</td>\n",
       "      <td>{'countvectorizer__max_features': 10000, 'coun...</td>\n",
       "      <td>0.519872</td>\n",
       "      <td>0.520513</td>\n",
       "      <td>0.520513</td>\n",
       "      <td>0.520513</td>\n",
       "      <td>0.520513</td>\n",
       "      <td>0.520385</td>\n",
       "      <td>0.000256</td>\n",
       "      <td>288</td>\n",
       "    </tr>\n",
       "    <tr>\n",
       "      <th>245</th>\n",
       "      <td>3.152210</td>\n",
       "      <td>0.055856</td>\n",
       "      <td>0.445430</td>\n",
       "      <td>0.016235</td>\n",
       "      <td>1000</td>\n",
       "      <td>(2, 2)</td>\n",
       "      <td>english</td>\n",
       "      <td>1</td>\n",
       "      <td>auto</td>\n",
       "      <td>{'countvectorizer__max_features': 1000, 'count...</td>\n",
       "      <td>0.519872</td>\n",
       "      <td>0.520513</td>\n",
       "      <td>0.520513</td>\n",
       "      <td>0.520513</td>\n",
       "      <td>0.520513</td>\n",
       "      <td>0.520385</td>\n",
       "      <td>0.000256</td>\n",
       "      <td>288</td>\n",
       "    </tr>\n",
       "    <tr>\n",
       "      <th>99</th>\n",
       "      <td>2.618137</td>\n",
       "      <td>0.260380</td>\n",
       "      <td>0.289243</td>\n",
       "      <td>0.012074</td>\n",
       "      <td>100</td>\n",
       "      <td>(2, 2)</td>\n",
       "      <td>english</td>\n",
       "      <td>0.1</td>\n",
       "      <td>auto</td>\n",
       "      <td>{'countvectorizer__max_features': 100, 'countv...</td>\n",
       "      <td>0.519872</td>\n",
       "      <td>0.520513</td>\n",
       "      <td>0.520513</td>\n",
       "      <td>0.520513</td>\n",
       "      <td>0.520513</td>\n",
       "      <td>0.520385</td>\n",
       "      <td>0.000256</td>\n",
       "      <td>288</td>\n",
       "    </tr>\n",
       "    <tr>\n",
       "      <th>97</th>\n",
       "      <td>2.479826</td>\n",
       "      <td>0.212295</td>\n",
       "      <td>0.287431</td>\n",
       "      <td>0.013103</td>\n",
       "      <td>100</td>\n",
       "      <td>(2, 2)</td>\n",
       "      <td>english</td>\n",
       "      <td>0.01</td>\n",
       "      <td>auto</td>\n",
       "      <td>{'countvectorizer__max_features': 100, 'countv...</td>\n",
       "      <td>0.519872</td>\n",
       "      <td>0.520513</td>\n",
       "      <td>0.520513</td>\n",
       "      <td>0.520513</td>\n",
       "      <td>0.520513</td>\n",
       "      <td>0.520385</td>\n",
       "      <td>0.000256</td>\n",
       "      <td>288</td>\n",
       "    </tr>\n",
       "    <tr>\n",
       "      <th>253</th>\n",
       "      <td>3.779804</td>\n",
       "      <td>0.103659</td>\n",
       "      <td>0.622735</td>\n",
       "      <td>0.019106</td>\n",
       "      <td>1000</td>\n",
       "      <td>(2, 2)</td>\n",
       "      <td>None</td>\n",
       "      <td>0.01</td>\n",
       "      <td>auto</td>\n",
       "      <td>{'countvectorizer__max_features': 1000, 'count...</td>\n",
       "      <td>0.519872</td>\n",
       "      <td>0.520513</td>\n",
       "      <td>0.520513</td>\n",
       "      <td>0.520513</td>\n",
       "      <td>0.520513</td>\n",
       "      <td>0.520385</td>\n",
       "      <td>0.000256</td>\n",
       "      <td>288</td>\n",
       "    </tr>\n",
       "    <tr>\n",
       "      <th>...</th>\n",
       "      <td>...</td>\n",
       "      <td>...</td>\n",
       "      <td>...</td>\n",
       "      <td>...</td>\n",
       "      <td>...</td>\n",
       "      <td>...</td>\n",
       "      <td>...</td>\n",
       "      <td>...</td>\n",
       "      <td>...</td>\n",
       "      <td>...</td>\n",
       "      <td>...</td>\n",
       "      <td>...</td>\n",
       "      <td>...</td>\n",
       "      <td>...</td>\n",
       "      <td>...</td>\n",
       "      <td>...</td>\n",
       "      <td>...</td>\n",
       "      <td>...</td>\n",
       "    </tr>\n",
       "    <tr>\n",
       "      <th>298</th>\n",
       "      <td>4.993729</td>\n",
       "      <td>0.075334</td>\n",
       "      <td>0.671114</td>\n",
       "      <td>0.030544</td>\n",
       "      <td>10000</td>\n",
       "      <td>(1, 1)</td>\n",
       "      <td>english</td>\n",
       "      <td>10</td>\n",
       "      <td>scale</td>\n",
       "      <td>{'countvectorizer__max_features': 10000, 'coun...</td>\n",
       "      <td>0.906410</td>\n",
       "      <td>0.907692</td>\n",
       "      <td>0.914744</td>\n",
       "      <td>0.911538</td>\n",
       "      <td>0.916667</td>\n",
       "      <td>0.911410</td>\n",
       "      <td>0.003939</td>\n",
       "      <td>5</td>\n",
       "    </tr>\n",
       "    <tr>\n",
       "      <th>306</th>\n",
       "      <td>6.987944</td>\n",
       "      <td>0.519381</td>\n",
       "      <td>1.051723</td>\n",
       "      <td>0.029812</td>\n",
       "      <td>10000</td>\n",
       "      <td>(1, 1)</td>\n",
       "      <td>None</td>\n",
       "      <td>3</td>\n",
       "      <td>scale</td>\n",
       "      <td>{'countvectorizer__max_features': 10000, 'coun...</td>\n",
       "      <td>0.904487</td>\n",
       "      <td>0.917949</td>\n",
       "      <td>0.917308</td>\n",
       "      <td>0.906410</td>\n",
       "      <td>0.914744</td>\n",
       "      <td>0.912179</td>\n",
       "      <td>0.005632</td>\n",
       "      <td>4</td>\n",
       "    </tr>\n",
       "    <tr>\n",
       "      <th>308</th>\n",
       "      <td>7.292232</td>\n",
       "      <td>0.098028</td>\n",
       "      <td>1.030755</td>\n",
       "      <td>0.042591</td>\n",
       "      <td>10000</td>\n",
       "      <td>(1, 1)</td>\n",
       "      <td>None</td>\n",
       "      <td>5</td>\n",
       "      <td>scale</td>\n",
       "      <td>{'countvectorizer__max_features': 10000, 'coun...</td>\n",
       "      <td>0.909615</td>\n",
       "      <td>0.911538</td>\n",
       "      <td>0.916026</td>\n",
       "      <td>0.910256</td>\n",
       "      <td>0.915385</td>\n",
       "      <td>0.912564</td>\n",
       "      <td>0.002646</td>\n",
       "      <td>3</td>\n",
       "    </tr>\n",
       "    <tr>\n",
       "      <th>296</th>\n",
       "      <td>5.060062</td>\n",
       "      <td>0.088087</td>\n",
       "      <td>0.671911</td>\n",
       "      <td>0.023299</td>\n",
       "      <td>10000</td>\n",
       "      <td>(1, 1)</td>\n",
       "      <td>english</td>\n",
       "      <td>5</td>\n",
       "      <td>scale</td>\n",
       "      <td>{'countvectorizer__max_features': 10000, 'coun...</td>\n",
       "      <td>0.906410</td>\n",
       "      <td>0.915385</td>\n",
       "      <td>0.918590</td>\n",
       "      <td>0.914103</td>\n",
       "      <td>0.921154</td>\n",
       "      <td>0.915128</td>\n",
       "      <td>0.005008</td>\n",
       "      <td>2</td>\n",
       "    </tr>\n",
       "    <tr>\n",
       "      <th>294</th>\n",
       "      <td>4.933030</td>\n",
       "      <td>0.421288</td>\n",
       "      <td>0.681193</td>\n",
       "      <td>0.019294</td>\n",
       "      <td>10000</td>\n",
       "      <td>(1, 1)</td>\n",
       "      <td>english</td>\n",
       "      <td>3</td>\n",
       "      <td>scale</td>\n",
       "      <td>{'countvectorizer__max_features': 10000, 'coun...</td>\n",
       "      <td>0.906410</td>\n",
       "      <td>0.916026</td>\n",
       "      <td>0.924359</td>\n",
       "      <td>0.915385</td>\n",
       "      <td>0.923077</td>\n",
       "      <td>0.917051</td>\n",
       "      <td>0.006431</td>\n",
       "      <td>1</td>\n",
       "    </tr>\n",
       "  </tbody>\n",
       "</table>\n",
       "<p>360 rows × 18 columns</p>\n",
       "</div>"
      ],
      "text/plain": [
       "     mean_fit_time  std_fit_time  mean_score_time  std_score_time  \\\n",
       "359       3.755439      0.452309         0.427787        0.129377   \n",
       "245       3.152210      0.055856         0.445430        0.016235   \n",
       "99        2.618137      0.260380         0.289243        0.012074   \n",
       "97        2.479826      0.212295         0.287431        0.013103   \n",
       "253       3.779804      0.103659         0.622735        0.019106   \n",
       "..             ...           ...              ...             ...   \n",
       "298       4.993729      0.075334         0.671114        0.030544   \n",
       "306       6.987944      0.519381         1.051723        0.029812   \n",
       "308       7.292232      0.098028         1.030755        0.042591   \n",
       "296       5.060062      0.088087         0.671911        0.023299   \n",
       "294       4.933030      0.421288         0.681193        0.019294   \n",
       "\n",
       "    param_countvectorizer__max_features param_countvectorizer__ngram_range  \\\n",
       "359                               10000                             (3, 3)   \n",
       "245                                1000                             (2, 2)   \n",
       "99                                  100                             (2, 2)   \n",
       "97                                  100                             (2, 2)   \n",
       "253                                1000                             (2, 2)   \n",
       "..                                  ...                                ...   \n",
       "298                               10000                             (1, 1)   \n",
       "306                               10000                             (1, 1)   \n",
       "308                               10000                             (1, 1)   \n",
       "296                               10000                             (1, 1)   \n",
       "294                               10000                             (1, 1)   \n",
       "\n",
       "    param_countvectorizer__stop_words param_svc__C param_svc__gamma  \\\n",
       "359                              None           10             auto   \n",
       "245                           english            1             auto   \n",
       "99                            english          0.1             auto   \n",
       "97                            english         0.01             auto   \n",
       "253                              None         0.01             auto   \n",
       "..                                ...          ...              ...   \n",
       "298                           english           10            scale   \n",
       "306                              None            3            scale   \n",
       "308                              None            5            scale   \n",
       "296                           english            5            scale   \n",
       "294                           english            3            scale   \n",
       "\n",
       "                                                params  split0_test_score  \\\n",
       "359  {'countvectorizer__max_features': 10000, 'coun...           0.519872   \n",
       "245  {'countvectorizer__max_features': 1000, 'count...           0.519872   \n",
       "99   {'countvectorizer__max_features': 100, 'countv...           0.519872   \n",
       "97   {'countvectorizer__max_features': 100, 'countv...           0.519872   \n",
       "253  {'countvectorizer__max_features': 1000, 'count...           0.519872   \n",
       "..                                                 ...                ...   \n",
       "298  {'countvectorizer__max_features': 10000, 'coun...           0.906410   \n",
       "306  {'countvectorizer__max_features': 10000, 'coun...           0.904487   \n",
       "308  {'countvectorizer__max_features': 10000, 'coun...           0.909615   \n",
       "296  {'countvectorizer__max_features': 10000, 'coun...           0.906410   \n",
       "294  {'countvectorizer__max_features': 10000, 'coun...           0.906410   \n",
       "\n",
       "     split1_test_score  split2_test_score  split3_test_score  \\\n",
       "359           0.520513           0.520513           0.520513   \n",
       "245           0.520513           0.520513           0.520513   \n",
       "99            0.520513           0.520513           0.520513   \n",
       "97            0.520513           0.520513           0.520513   \n",
       "253           0.520513           0.520513           0.520513   \n",
       "..                 ...                ...                ...   \n",
       "298           0.907692           0.914744           0.911538   \n",
       "306           0.917949           0.917308           0.906410   \n",
       "308           0.911538           0.916026           0.910256   \n",
       "296           0.915385           0.918590           0.914103   \n",
       "294           0.916026           0.924359           0.915385   \n",
       "\n",
       "     split4_test_score  mean_test_score  std_test_score  rank_test_score  \n",
       "359           0.520513         0.520385        0.000256              288  \n",
       "245           0.520513         0.520385        0.000256              288  \n",
       "99            0.520513         0.520385        0.000256              288  \n",
       "97            0.520513         0.520385        0.000256              288  \n",
       "253           0.520513         0.520385        0.000256              288  \n",
       "..                 ...              ...             ...              ...  \n",
       "298           0.916667         0.911410        0.003939                5  \n",
       "306           0.914744         0.912179        0.005632                4  \n",
       "308           0.915385         0.912564        0.002646                3  \n",
       "296           0.921154         0.915128        0.005008                2  \n",
       "294           0.923077         0.917051        0.006431                1  \n",
       "\n",
       "[360 rows x 18 columns]"
      ]
     },
     "execution_count": 26,
     "metadata": {},
     "output_type": "execute_result"
    }
   ],
   "source": [
    "# explore the dataframe of grid results\n",
    "pd.DataFrame(grid_svc.cv_results_).sort_values(by = 'mean_test_score')"
   ]
  },
  {
   "cell_type": "code",
   "execution_count": 37,
   "metadata": {},
   "outputs": [
    {
     "ename": "NameError",
     "evalue": "name 'grid_svc' is not defined",
     "output_type": "error",
     "traceback": [
      "\u001b[1;31m---------------------------------------------------------------------------\u001b[0m",
      "\u001b[1;31mNameError\u001b[0m                                 Traceback (most recent call last)",
      "\u001b[1;32m<ipython-input-37-3a804c8ce1e4>\u001b[0m in \u001b[0;36m<module>\u001b[1;34m\u001b[0m\n\u001b[0;32m      1\u001b[0m \u001b[1;31m# get feature names\u001b[0m\u001b[1;33m\u001b[0m\u001b[1;33m\u001b[0m\u001b[1;33m\u001b[0m\u001b[0m\n\u001b[1;32m----> 2\u001b[1;33m \u001b[0mfeatures\u001b[0m \u001b[1;33m=\u001b[0m \u001b[0mgrid_svc\u001b[0m\u001b[1;33m.\u001b[0m\u001b[0mbest_estimator_\u001b[0m\u001b[1;33m.\u001b[0m\u001b[0mnamed_steps\u001b[0m\u001b[1;33m.\u001b[0m\u001b[0mcountvectorizer\u001b[0m\u001b[1;33m.\u001b[0m\u001b[0mget_feature_names\u001b[0m\u001b[1;33m(\u001b[0m\u001b[1;33m)\u001b[0m\u001b[1;33m\u001b[0m\u001b[1;33m\u001b[0m\u001b[0m\n\u001b[0m",
      "\u001b[1;31mNameError\u001b[0m: name 'grid_svc' is not defined"
     ]
    }
   ],
   "source": [
    "# get feature names\n",
    "features = grid_svc.best_estimator_.named_steps.countvectorizer.get_feature_names()"
   ]
  },
  {
   "cell_type": "code",
   "execution_count": null,
   "metadata": {},
   "outputs": [],
   "source": [
    "# plot confusion matrix \n",
    "plot_confusion_matrix(grid_svc, X_test, y_test);"
   ]
  }
 ],
 "metadata": {
  "kernelspec": {
   "display_name": "Python 3",
   "language": "python",
   "name": "python3"
  },
  "language_info": {
   "codemirror_mode": {
    "name": "ipython",
    "version": 3
   },
   "file_extension": ".py",
   "mimetype": "text/x-python",
   "name": "python",
   "nbconvert_exporter": "python",
   "pygments_lexer": "ipython3",
   "version": "3.8.5"
  }
 },
 "nbformat": 4,
 "nbformat_minor": 4
}
