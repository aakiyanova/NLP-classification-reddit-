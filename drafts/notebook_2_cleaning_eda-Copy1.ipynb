{
 "cells": [
  {
   "cell_type": "markdown",
   "metadata": {},
   "source": [
    "## Project 3: Web API's and NLP"
   ]
  },
  {
   "cell_type": "markdown",
   "metadata": {},
   "source": [
    "### Contents\n",
    "\n",
    "- [Data Cleaning](#cleaning)\n",
    "- [Engineering Features](#engineering)\n",
    "- [Chess Subreddit EDA](#chess)\n",
    "- [Poker Subreddit EDA](#poker)"
   ]
  },
  {
   "cell_type": "code",
   "execution_count": 3,
   "metadata": {},
   "outputs": [],
   "source": [
    "# imports\n",
    "import requests\n",
    "import pandas as pd\n",
    "import matplotlib.pyplot as plt\n",
    "from sklearn.feature_extraction.text import CountVectorizer\n",
    "from textblob import TextBlob"
   ]
  },
  {
   "cell_type": "markdown",
   "metadata": {},
   "source": [
    "<a class=\"anchor\" id=\"cleaning\"></a>"
   ]
  },
  {
   "cell_type": "markdown",
   "metadata": {},
   "source": [
    "### Data Cleaning"
   ]
  },
  {
   "cell_type": "code",
   "execution_count": 7,
   "metadata": {},
   "outputs": [],
   "source": [
    "# read the combined csv file\n",
    "df = pd.read_csv('data/combined_df.csv')"
   ]
  },
  {
   "cell_type": "code",
   "execution_count": 8,
   "metadata": {},
   "outputs": [
    {
     "data": {
      "text/html": [
       "<div>\n",
       "<style scoped>\n",
       "    .dataframe tbody tr th:only-of-type {\n",
       "        vertical-align: middle;\n",
       "    }\n",
       "\n",
       "    .dataframe tbody tr th {\n",
       "        vertical-align: top;\n",
       "    }\n",
       "\n",
       "    .dataframe thead th {\n",
       "        text-align: right;\n",
       "    }\n",
       "</style>\n",
       "<table border=\"1\" class=\"dataframe\">\n",
       "  <thead>\n",
       "    <tr style=\"text-align: right;\">\n",
       "      <th></th>\n",
       "      <th>Unnamed: 0</th>\n",
       "      <th>title</th>\n",
       "      <th>subreddit</th>\n",
       "      <th>selftext</th>\n",
       "      <th>created_utc</th>\n",
       "    </tr>\n",
       "  </thead>\n",
       "  <tbody>\n",
       "    <tr>\n",
       "      <th>0</th>\n",
       "      <td>0</td>\n",
       "      <td>Need help to London System Players. What's the...</td>\n",
       "      <td>chess</td>\n",
       "      <td>NaN</td>\n",
       "      <td>1610545641</td>\n",
       "    </tr>\n",
       "    <tr>\n",
       "      <th>1</th>\n",
       "      <td>1</td>\n",
       "      <td>White to move</td>\n",
       "      <td>chess</td>\n",
       "      <td>NaN</td>\n",
       "      <td>1610545473</td>\n",
       "    </tr>\n",
       "    <tr>\n",
       "      <th>2</th>\n",
       "      <td>2</td>\n",
       "      <td>Start centipawn rating?</td>\n",
       "      <td>chess</td>\n",
       "      <td>I have been looking at some of Nakamura's vide...</td>\n",
       "      <td>1610544449</td>\n",
       "    </tr>\n",
       "    <tr>\n",
       "      <th>3</th>\n",
       "      <td>3</td>\n",
       "      <td>My Christmas project: A tiny program for graph...</td>\n",
       "      <td>chess</td>\n",
       "      <td>NaN</td>\n",
       "      <td>1610544269</td>\n",
       "    </tr>\n",
       "    <tr>\n",
       "      <th>4</th>\n",
       "      <td>4</td>\n",
       "      <td>chess.com Analysis Arrows</td>\n",
       "      <td>chess</td>\n",
       "      <td>So I know chess.com's computer analysis highli...</td>\n",
       "      <td>1610544181</td>\n",
       "    </tr>\n",
       "  </tbody>\n",
       "</table>\n",
       "</div>"
      ],
      "text/plain": [
       "   Unnamed: 0                                              title subreddit  \\\n",
       "0           0  Need help to London System Players. What's the...     chess   \n",
       "1           1                                      White to move     chess   \n",
       "2           2                            Start centipawn rating?     chess   \n",
       "3           3  My Christmas project: A tiny program for graph...     chess   \n",
       "4           4                          chess.com Analysis Arrows     chess   \n",
       "\n",
       "                                            selftext  created_utc  \n",
       "0                                                NaN   1610545641  \n",
       "1                                                NaN   1610545473  \n",
       "2  I have been looking at some of Nakamura's vide...   1610544449  \n",
       "3                                                NaN   1610544269  \n",
       "4  So I know chess.com's computer analysis highli...   1610544181  "
      ]
     },
     "execution_count": 8,
     "metadata": {},
     "output_type": "execute_result"
    }
   ],
   "source": [
    "# display first five rows\n",
    "df.head()"
   ]
  },
  {
   "cell_type": "code",
   "execution_count": 9,
   "metadata": {},
   "outputs": [
    {
     "name": "stdout",
     "output_type": "stream",
     "text": [
      "<class 'pandas.core.frame.DataFrame'>\n",
      "RangeIndex: 10400 entries, 0 to 10399\n",
      "Data columns (total 5 columns):\n",
      " #   Column       Non-Null Count  Dtype \n",
      "---  ------       --------------  ----- \n",
      " 0   Unnamed: 0   10400 non-null  int64 \n",
      " 1   title        10400 non-null  object\n",
      " 2   subreddit    10400 non-null  object\n",
      " 3   selftext     5621 non-null   object\n",
      " 4   created_utc  10400 non-null  int64 \n",
      "dtypes: int64(2), object(3)\n",
      "memory usage: 406.4+ KB\n"
     ]
    }
   ],
   "source": [
    "# explore the type of data\n",
    "df.info()"
   ]
  },
  {
   "cell_type": "code",
   "execution_count": 10,
   "metadata": {},
   "outputs": [],
   "source": [
    "# drop the Unnamed:0 column\n",
    "df.drop(['Unnamed: 0'], axis = 1, inplace = True)"
   ]
  },
  {
   "cell_type": "code",
   "execution_count": 11,
   "metadata": {},
   "outputs": [
    {
     "data": {
      "text/plain": [
       "title             0\n",
       "subreddit         0\n",
       "selftext       4779\n",
       "created_utc       0\n",
       "dtype: int64"
      ]
     },
     "execution_count": 11,
     "metadata": {},
     "output_type": "execute_result"
    }
   ],
   "source": [
    "# look for null values\n",
    "df.isnull().sum()"
   ]
  },
  {
   "cell_type": "markdown",
   "metadata": {},
   "source": [
    "I will skip imputing null values in the 'selftext' variable before I decide to use it as a feature in my model. "
   ]
  },
  {
   "cell_type": "markdown",
   "metadata": {},
   "source": [
    "<a class=\"anchor\" id=\"engineering\"></a>"
   ]
  },
  {
   "cell_type": "markdown",
   "metadata": {},
   "source": [
    "### Engineering Features"
   ]
  },
  {
   "cell_type": "code",
   "execution_count": 43,
   "metadata": {},
   "outputs": [],
   "source": [
    "# create a variable 'title length' counting length of each title\n",
    "df['title_length'] = df['title'].str.len()"
   ]
  },
  {
   "cell_type": "code",
   "execution_count": 44,
   "metadata": {},
   "outputs": [
    {
     "data": {
      "text/plain": [
       "8597       1\n",
       "10023      1\n",
       "7630       1\n",
       "1842       1\n",
       "9576       1\n",
       "        ... \n",
       "6794     299\n",
       "6022     300\n",
       "3769     300\n",
       "6793     300\n",
       "5501     328\n",
       "Name: title_length, Length: 10400, dtype: int64"
      ]
     },
     "execution_count": 44,
     "metadata": {},
     "output_type": "execute_result"
    }
   ],
   "source": [
    "# sort values in the 'title length' variable\n",
    "df['title_length'].sort_values()"
   ]
  },
  {
   "cell_type": "markdown",
   "metadata": {},
   "source": [
    "The shortest title is 1 characer long, while the longest is 328 characters long. "
   ]
  },
  {
   "cell_type": "code",
   "execution_count": 45,
   "metadata": {},
   "outputs": [
    {
     "data": {
      "image/png": "[encoded data removed]",
      "text/plain": [
       "<Figure size 432x288 with 1 Axes>"
      ]
     },
     "metadata": {
      "needs_background": "light"
     },
     "output_type": "display_data"
    }
   ],
   "source": [
    "plt.hist(df['title_length'])\n",
    "plt.title('Title Length Distribution');"
   ]
  },
  {
   "cell_type": "markdown",
   "metadata": {},
   "source": [
    "Majority of the titles have length between ~40 and ~60 characters longs. "
   ]
  },
  {
   "cell_type": "code",
   "execution_count": 46,
   "metadata": {},
   "outputs": [],
   "source": [
    "# create a variable counting words in a 'title' variable\n",
    "df['title_word_count'] = [len(x.split()) for x in df['title'].tolist()]"
   ]
  },
  {
   "cell_type": "code",
   "execution_count": 47,
   "metadata": {},
   "outputs": [
    {
     "data": {
      "text/plain": [
       "6469      1\n",
       "5147      1\n",
       "5148      1\n",
       "8782      1\n",
       "5157      1\n",
       "         ..\n",
       "7206     60\n",
       "8850     60\n",
       "6431     61\n",
       "10396    63\n",
       "6062     66\n",
       "Name: title_word_count, Length: 10400, dtype: int64"
      ]
     },
     "execution_count": 47,
     "metadata": {},
     "output_type": "execute_result"
    }
   ],
   "source": [
    "# sort title word count variable \n",
    "df['title_word_count'].sort_values()"
   ]
  },
  {
   "cell_type": "markdown",
   "metadata": {},
   "source": [
    "The shortest titles have one word, while the longest titles have 66 words. "
   ]
  },
  {
   "cell_type": "code",
   "execution_count": 36,
   "metadata": {},
   "outputs": [
    {
     "data": {
      "image/png": "[encoded data removed]",
      "text/plain": [
       "<Figure size 432x288 with 1 Axes>"
      ]
     },
     "metadata": {
      "needs_background": "light"
     },
     "output_type": "display_data"
    }
   ],
   "source": [
    "plt.hist(df['title_word_count'])\n",
    "plt.title('Distribution of Words in Titles');"
   ]
  },
  {
   "cell_type": "markdown",
   "metadata": {},
   "source": [
    "Looks like majority of titles range between ~1 and ~5 words."
   ]
  },
  {
   "cell_type": "code",
   "execution_count": 37,
   "metadata": {},
   "outputs": [
    {
     "data": {
      "text/plain": [
       "1601184366"
      ]
     },
     "execution_count": 37,
     "metadata": {},
     "output_type": "execute_result"
    }
   ],
   "source": [
    "# earliest timestamp of posted titles\n",
    "df['created_utc'].min()"
   ]
  },
  {
   "cell_type": "markdown",
   "metadata": {},
   "source": [
    "The earlier datapoint is September 27, 2020. The data is fairly recent. "
   ]
  },
  {
   "cell_type": "code",
   "execution_count": 40,
   "metadata": {},
   "outputs": [
    {
     "data": {
      "text/plain": [
       "1610546083"
      ]
     },
     "execution_count": 40,
     "metadata": {},
     "output_type": "execute_result"
    }
   ],
   "source": [
    "# latest timestamp of posted titles\n",
    "df['created_utc'].max()"
   ]
  },
  {
   "cell_type": "markdown",
   "metadata": {},
   "source": [
    "The latest datapoint is January 13, 2021. "
   ]
  },
  {
   "cell_type": "code",
   "execution_count": 38,
   "metadata": {},
   "outputs": [],
   "source": [
    "# # save to csv\n",
    "# df.to_csv('data/clean_combined.csv', index = False)"
   ]
  },
  {
   "cell_type": "markdown",
   "metadata": {},
   "source": [
    "<a class=\"anchor\" id=\"chess\"></a>"
   ]
  },
  {
   "cell_type": "markdown",
   "metadata": {},
   "source": [
    "### Chess subreddit EDA "
   ]
  },
  {
   "cell_type": "code",
   "execution_count": 105,
   "metadata": {},
   "outputs": [],
   "source": [
    "# create a dataframe from the chess subreddit only\n",
    "df_chess = df.loc[df['subreddit'] == 'chess']"
   ]
  },
  {
   "cell_type": "code",
   "execution_count": 106,
   "metadata": {},
   "outputs": [
    {
     "data": {
      "text/plain": [
       "1842      1\n",
       "2772      2\n",
       "664       2\n",
       "669       2\n",
       "456       2\n",
       "       ... \n",
       "2785    296\n",
       "44      296\n",
       "1071    296\n",
       "189     298\n",
       "3769    300\n",
       "Name: title, Length: 5000, dtype: int64"
      ]
     },
     "execution_count": 106,
     "metadata": {},
     "output_type": "execute_result"
    }
   ],
   "source": [
    "# sort title length related to the chess subreddit only \n",
    "df_chess['title'].str.len().sort_values()"
   ]
  },
  {
   "cell_type": "code",
   "execution_count": 107,
   "metadata": {},
   "outputs": [
    {
     "data": {
      "text/plain": [
       "0       Need help to London System Players. What's the...\n",
       "1                                           White to move\n",
       "2                                 Start centipawn rating?\n",
       "3       My Christmas project: A tiny program for graph...\n",
       "4                               chess.com Analysis Arrows\n",
       "                              ...                        \n",
       "4995              Mate in 9. Look for the back and forth!\n",
       "4996                                   why did he resign?\n",
       "4997    Here's an interactive guide I just wrote for a...\n",
       "4998    I chose one of my losses at random and an anal...\n",
       "4999    I chose one of my losses at random and an anal...\n",
       "Name: title, Length: 5000, dtype: object"
      ]
     },
     "execution_count": 107,
     "metadata": {},
     "output_type": "execute_result"
    }
   ],
   "source": [
    "df_chess['title']"
   ]
  },
  {
   "cell_type": "code",
   "execution_count": 108,
   "metadata": {},
   "outputs": [
    {
     "data": {
      "text/plain": [
       "61.9124"
      ]
     },
     "execution_count": 108,
     "metadata": {},
     "output_type": "execute_result"
    }
   ],
   "source": [
    "df_chess['title_length'].mean()"
   ]
  },
  {
   "cell_type": "markdown",
   "metadata": {},
   "source": [
    "Length of the shortest title within the chess subreddit is one character and length of the longest title is 300 characters.  "
   ]
  },
  {
   "cell_type": "code",
   "execution_count": 83,
   "metadata": {},
   "outputs": [
    {
     "data": {
      "image/png": "[encoded data removed]",
      "text/plain": [
       "<Figure size 432x288 with 1 Axes>"
      ]
     },
     "metadata": {
      "needs_background": "light"
     },
     "output_type": "display_data"
    }
   ],
   "source": [
    "plt.hist(df_chess['title_length'])\n",
    "plt.title('Title Length Distribution within Chess Subreddit')\n",
    "plt.savefig('chess_title_length');"
   ]
  },
  {
   "cell_type": "markdown",
   "metadata": {},
   "source": [
    "Majority of the titles contain between ~40 and ~60 characters."
   ]
  },
  {
   "cell_type": "code",
   "execution_count": 84,
   "metadata": {},
   "outputs": [],
   "source": [
    "# create a datframe of number of words in 'title' within the chess subreddit\n",
    "chess_word_count = pd.DataFrame([len(x.split()) for x in df_chess['title'].tolist()])"
   ]
  },
  {
   "cell_type": "code",
   "execution_count": 85,
   "metadata": {},
   "outputs": [
    {
     "data": {
      "text/html": [
       "<div>\n",
       "<style scoped>\n",
       "    .dataframe tbody tr th:only-of-type {\n",
       "        vertical-align: middle;\n",
       "    }\n",
       "\n",
       "    .dataframe tbody tr th {\n",
       "        vertical-align: top;\n",
       "    }\n",
       "\n",
       "    .dataframe thead th {\n",
       "        text-align: right;\n",
       "    }\n",
       "</style>\n",
       "<table border=\"1\" class=\"dataframe\">\n",
       "  <thead>\n",
       "    <tr style=\"text-align: right;\">\n",
       "      <th></th>\n",
       "      <th>0</th>\n",
       "    </tr>\n",
       "  </thead>\n",
       "  <tbody>\n",
       "    <tr>\n",
       "      <th>2938</th>\n",
       "      <td>1</td>\n",
       "    </tr>\n",
       "    <tr>\n",
       "      <th>3256</th>\n",
       "      <td>1</td>\n",
       "    </tr>\n",
       "    <tr>\n",
       "      <th>2772</th>\n",
       "      <td>1</td>\n",
       "    </tr>\n",
       "    <tr>\n",
       "      <th>4666</th>\n",
       "      <td>1</td>\n",
       "    </tr>\n",
       "    <tr>\n",
       "      <th>3049</th>\n",
       "      <td>1</td>\n",
       "    </tr>\n",
       "    <tr>\n",
       "      <th>...</th>\n",
       "      <td>...</td>\n",
       "    </tr>\n",
       "    <tr>\n",
       "      <th>2306</th>\n",
       "      <td>59</td>\n",
       "    </tr>\n",
       "    <tr>\n",
       "      <th>2869</th>\n",
       "      <td>59</td>\n",
       "    </tr>\n",
       "    <tr>\n",
       "      <th>4335</th>\n",
       "      <td>59</td>\n",
       "    </tr>\n",
       "    <tr>\n",
       "      <th>3901</th>\n",
       "      <td>59</td>\n",
       "    </tr>\n",
       "    <tr>\n",
       "      <th>4934</th>\n",
       "      <td>60</td>\n",
       "    </tr>\n",
       "  </tbody>\n",
       "</table>\n",
       "<p>5000 rows × 1 columns</p>\n",
       "</div>"
      ],
      "text/plain": [
       "       0\n",
       "2938   1\n",
       "3256   1\n",
       "2772   1\n",
       "4666   1\n",
       "3049   1\n",
       "...   ..\n",
       "2306  59\n",
       "2869  59\n",
       "4335  59\n",
       "3901  59\n",
       "4934  60\n",
       "\n",
       "[5000 rows x 1 columns]"
      ]
     },
     "execution_count": 85,
     "metadata": {},
     "output_type": "execute_result"
    }
   ],
   "source": [
    "chess_word_count.sort_values(by = 0)"
   ]
  },
  {
   "cell_type": "markdown",
   "metadata": {},
   "source": [
    "In the chess subreddit, shortest title consisted of one word and the longest consisted of 60 words."
   ]
  },
  {
   "cell_type": "code",
   "execution_count": 75,
   "metadata": {},
   "outputs": [
    {
     "data": {
      "image/png": "[encoded data removed]",
      "text/plain": [
       "<Figure size 432x288 with 1 Axes>"
      ]
     },
     "metadata": {
      "needs_background": "light"
     },
     "output_type": "display_data"
    }
   ],
   "source": [
    "plt.hist(chess_word_count[0])\n",
    "plt.title('Distribution of Words within Chess Subreddit')\n",
    "plt.savefig('chess_words');"
   ]
  },
  {
   "cell_type": "markdown",
   "metadata": {},
   "source": [
    "Most of the title contain between ~1 and 11 words. "
   ]
  },
  {
   "cell_type": "markdown",
   "metadata": {},
   "source": [
    "#### Countvectorizing the Chess Titles"
   ]
  },
  {
   "cell_type": "code",
   "execution_count": 76,
   "metadata": {},
   "outputs": [],
   "source": [
    "# instantiate CountVectorizer (used max features 500)\n",
    "cvect = CountVectorizer(stop_words = 'english', ngram_range = (2,2), max_features = 500)"
   ]
  },
  {
   "cell_type": "code",
   "execution_count": 77,
   "metadata": {},
   "outputs": [],
   "source": [
    "# count-vectorize the title column\n",
    "title_vect = cvect.fit_transform(df_chess['title'])"
   ]
  },
  {
   "cell_type": "code",
   "execution_count": 78,
   "metadata": {},
   "outputs": [],
   "source": [
    "# make a dataframe\n",
    "df_vect = pd.DataFrame(title_vect.toarray(), columns = cvect.get_feature_names())"
   ]
  },
  {
   "cell_type": "code",
   "execution_count": 90,
   "metadata": {},
   "outputs": [
    {
     "data": {
      "text/plain": [
       "chess com         302\n",
       "white play         90\n",
       "white mate         79\n",
       "chess set          67\n",
       "new chess          61\n",
       "black play         60\n",
       "play win           52\n",
       "mate white         50\n",
       "queen gambit       46\n",
       "blitz game         44\n",
       "magnus carlsen     41\n",
       "white win          39\n",
       "playing chess      36\n",
       "black mate         36\n",
       "chess board        34\n",
       "play chess         31\n",
       "game white         30\n",
       "game played        29\n",
       "game black         28\n",
       "queens gambit      25\n",
       "dtype: int64"
      ]
     },
     "execution_count": 90,
     "metadata": {},
     "output_type": "execute_result"
    }
   ],
   "source": [
    "# sort values in a vectorized dataframe and show 15 most commong words\n",
    "df_vect.sum().sort_values(ascending = False).head(20)"
   ]
  },
  {
   "cell_type": "code",
   "execution_count": 67,
   "metadata": {},
   "outputs": [
    {
     "data": {
      "image/png": "[encoded data removed]",
      "text/plain": [
       "<Figure size 576x432 with 1 Axes>"
      ]
     },
     "metadata": {
      "needs_background": "light"
     },
     "output_type": "display_data"
    }
   ],
   "source": [
    "# plot a bar chart of top 15 words\n",
    "plt.figure(figsize = (8, 6))\n",
    "df_vect.sum().sort_values(ascending = False).head(15).plot(kind = 'bar')\n",
    "plt.title('Top 15 words in Chess Subreddit', fontsize = 20)\n",
    "plt.xticks(ha='right', rotation=40, fontsize=15)\n",
    "plt.yticks(fontsize = 15)\n",
    "plt.savefig('chess_top_words');"
   ]
  },
  {
   "cell_type": "markdown",
   "metadata": {},
   "source": [
    "Most used words in the chess subreddit are: chess, game, white, mate, black, play, com, just, win, best, queen, checkmate, playing, lichess, played. "
   ]
  },
  {
   "cell_type": "code",
   "execution_count": 219,
   "metadata": {},
   "outputs": [
    {
     "data": {
      "text/plain": [
       "['My Christmas project: A tiny program for graphing playtime and some other stats from Chess.com',\n",
       " 'chess.com Analysis Arrows',\n",
       " 'Wooden chess set',\n",
       " 'My Christmas project: A tiny program for graphing playtime and some other stats from Chess.com',\n",
       " \"What's your favourite piece in chess?\",\n",
       " 'Is there a chess database containing all official matches ever played?',\n",
       " 'After using chess.com for 1 day, I do my best check mate yet, anyone what this is called or if it has a name?',\n",
       " 'What chess opening book is betted?',\n",
       " 'Lichess (Accuracy % vs AI)',\n",
       " 'Man i was almost 1400 and took a break from playing chess to work on school more. i was 1390ish and then boom im now 1290.',\n",
       " 'Problem with Lesson on Chess.com',\n",
       " 'Problem found on Chess.com',\n",
       " 'Thanks to @gothamchess \\'s video, I got this position today. I am 800 rated and also my highest accuracy since I started playing 6 months back, \"98.9\".',\n",
       " 'If Chess Was An Anime!',\n",
       " 'Why does lichess feel so smooth compared to chess24 and chess com?',\n",
       " 'Where do you find the videos on Chessable?',\n",
       " 'hey chess reddit i need some help i lost this game any help to get better',\n",
       " 'New lichess tactic I just found',\n",
       " 'Got some chess new books to help push me over 2000, and hopefully to 2200',\n",
       " 'Hello everyone, chess novice here! Can someone pls tell me the theoritcal name for this mate? Or any instance where the queen is guarded by the knight? Want to read up on lines that utilize this kind of checkmate.']"
      ]
     },
     "execution_count": 219,
     "metadata": {},
     "output_type": "execute_result"
    }
   ],
   "source": [
    "# shows first 20 titles containing the word 'chess'\n",
    "[title for title in df_chess['title'] if 'chess' in title.lower()][:20]"
   ]
  },
  {
   "cell_type": "markdown",
   "metadata": {},
   "source": [
    "#### Sentiment Analysis of Chess Titles"
   ]
  },
  {
   "cell_type": "code",
   "execution_count": 119,
   "metadata": {},
   "outputs": [],
   "source": [
    "# create textblob objects of the 'title' in the chess dataframe\n",
    "sentiment_objects_chess = [TextBlob(i) for i in df_chess['title']]"
   ]
  },
  {
   "cell_type": "code",
   "execution_count": 122,
   "metadata": {},
   "outputs": [],
   "source": [
    "# Create list of polarity values\n",
    "sentiment_values_chess = [[i.sentiment.polarity, str(i)] for i in sentiment_objects_chess]"
   ]
  },
  {
   "cell_type": "code",
   "execution_count": 125,
   "metadata": {},
   "outputs": [],
   "source": [
    "# Create dataframe containing the polarity value and title text\n",
    "sentiment_df_chess = pd.DataFrame(sentiment_values_chess, columns = ['polarity', 'title'])"
   ]
  },
  {
   "cell_type": "code",
   "execution_count": 223,
   "metadata": {},
   "outputs": [
    {
     "data": {
      "text/html": [
       "<div>\n",
       "<style scoped>\n",
       "    .dataframe tbody tr th:only-of-type {\n",
       "        vertical-align: middle;\n",
       "    }\n",
       "\n",
       "    .dataframe tbody tr th {\n",
       "        vertical-align: top;\n",
       "    }\n",
       "\n",
       "    .dataframe thead th {\n",
       "        text-align: right;\n",
       "    }\n",
       "</style>\n",
       "<table border=\"1\" class=\"dataframe\">\n",
       "  <thead>\n",
       "    <tr style=\"text-align: right;\">\n",
       "      <th></th>\n",
       "      <th>polarity</th>\n",
       "      <th>title</th>\n",
       "    </tr>\n",
       "  </thead>\n",
       "  <tbody>\n",
       "    <tr>\n",
       "      <th>0</th>\n",
       "      <td>1.0</td>\n",
       "      <td>Need help to London System Players. What's the...</td>\n",
       "    </tr>\n",
       "    <tr>\n",
       "      <th>1419</th>\n",
       "      <td>1.0</td>\n",
       "      <td>Best chess discord ever!</td>\n",
       "    </tr>\n",
       "    <tr>\n",
       "      <th>3643</th>\n",
       "      <td>1.0</td>\n",
       "      <td>Why was this best?</td>\n",
       "    </tr>\n",
       "    <tr>\n",
       "      <th>1604</th>\n",
       "      <td>1.0</td>\n",
       "      <td>Whites move, what’s the best way to approach t...</td>\n",
       "    </tr>\n",
       "    <tr>\n",
       "      <th>3802</th>\n",
       "      <td>1.0</td>\n",
       "      <td>Why does it say Nf7 is best, but if I try that...</td>\n",
       "    </tr>\n",
       "    <tr>\n",
       "      <th>3833</th>\n",
       "      <td>1.0</td>\n",
       "      <td>Best place to play online?</td>\n",
       "    </tr>\n",
       "    <tr>\n",
       "      <th>1526</th>\n",
       "      <td>1.0</td>\n",
       "      <td>Beautiful Symmetric Mate in 1!</td>\n",
       "    </tr>\n",
       "    <tr>\n",
       "      <th>1509</th>\n",
       "      <td>1.0</td>\n",
       "      <td>Spot the best move which I played</td>\n",
       "    </tr>\n",
       "    <tr>\n",
       "      <th>1507</th>\n",
       "      <td>1.0</td>\n",
       "      <td>Can you explain why was that move the best opt...</td>\n",
       "    </tr>\n",
       "    <tr>\n",
       "      <th>3869</th>\n",
       "      <td>1.0</td>\n",
       "      <td>Why is D5 considered a blunder and D6 best?</td>\n",
       "    </tr>\n",
       "  </tbody>\n",
       "</table>\n",
       "</div>"
      ],
      "text/plain": [
       "      polarity                                              title\n",
       "0          1.0  Need help to London System Players. What's the...\n",
       "1419       1.0                           Best chess discord ever!\n",
       "3643       1.0                                 Why was this best?\n",
       "1604       1.0  Whites move, what’s the best way to approach t...\n",
       "3802       1.0  Why does it say Nf7 is best, but if I try that...\n",
       "3833       1.0                         Best place to play online?\n",
       "1526       1.0                     Beautiful Symmetric Mate in 1!\n",
       "1509       1.0                  Spot the best move which I played\n",
       "1507       1.0  Can you explain why was that move the best opt...\n",
       "3869       1.0        Why is D5 considered a blunder and D6 best?"
      ]
     },
     "execution_count": 223,
     "metadata": {},
     "output_type": "execute_result"
    }
   ],
   "source": [
    "# display top 10 with rows with positive sentiment\n",
    "sentiment_df_chess.sort_values(by = 'polarity', ascending = False).head(10)"
   ]
  },
  {
   "cell_type": "code",
   "execution_count": 215,
   "metadata": {},
   "outputs": [
    {
     "data": {
      "text/html": [
       "<div>\n",
       "<style scoped>\n",
       "    .dataframe tbody tr th:only-of-type {\n",
       "        vertical-align: middle;\n",
       "    }\n",
       "\n",
       "    .dataframe tbody tr th {\n",
       "        vertical-align: top;\n",
       "    }\n",
       "\n",
       "    .dataframe thead th {\n",
       "        text-align: right;\n",
       "    }\n",
       "</style>\n",
       "<table border=\"1\" class=\"dataframe\">\n",
       "  <thead>\n",
       "    <tr style=\"text-align: right;\">\n",
       "      <th></th>\n",
       "      <th>polarity</th>\n",
       "      <th>title</th>\n",
       "    </tr>\n",
       "  </thead>\n",
       "  <tbody>\n",
       "    <tr>\n",
       "      <th>1404</th>\n",
       "      <td>-1.0</td>\n",
       "      <td>Absolutely insane mate in 2</td>\n",
       "    </tr>\n",
       "    <tr>\n",
       "      <th>1299</th>\n",
       "      <td>-1.0</td>\n",
       "      <td>Chess.com app is horrible</td>\n",
       "    </tr>\n",
       "    <tr>\n",
       "      <th>2483</th>\n",
       "      <td>-1.0</td>\n",
       "      <td>the worst played chess ending with 4 missed ch...</td>\n",
       "    </tr>\n",
       "    <tr>\n",
       "      <th>4572</th>\n",
       "      <td>-1.0</td>\n",
       "      <td>Life or death chess. Insane pressure.</td>\n",
       "    </tr>\n",
       "    <tr>\n",
       "      <th>519</th>\n",
       "      <td>-1.0</td>\n",
       "      <td>Is there a program or engine that can find the...</td>\n",
       "    </tr>\n",
       "    <tr>\n",
       "      <th>3895</th>\n",
       "      <td>-1.0</td>\n",
       "      <td>Chess is just so fucking boring tbh. Lost majo...</td>\n",
       "    </tr>\n",
       "    <tr>\n",
       "      <th>2702</th>\n",
       "      <td>-1.0</td>\n",
       "      <td>Why am I so terrible at chess?</td>\n",
       "    </tr>\n",
       "    <tr>\n",
       "      <th>479</th>\n",
       "      <td>-1.0</td>\n",
       "      <td>A disgusting checkmate I got with the king on e5</td>\n",
       "    </tr>\n",
       "    <tr>\n",
       "      <th>1862</th>\n",
       "      <td>-1.0</td>\n",
       "      <td>Insane Stockfish Line: Mate in 6</td>\n",
       "    </tr>\n",
       "    <tr>\n",
       "      <th>4553</th>\n",
       "      <td>-1.0</td>\n",
       "      <td>Life or death chess. Insane pressure.</td>\n",
       "    </tr>\n",
       "  </tbody>\n",
       "</table>\n",
       "</div>"
      ],
      "text/plain": [
       "      polarity                                              title\n",
       "1404      -1.0                        Absolutely insane mate in 2\n",
       "1299      -1.0                          Chess.com app is horrible\n",
       "2483      -1.0  the worst played chess ending with 4 missed ch...\n",
       "4572      -1.0              Life or death chess. Insane pressure.\n",
       "519       -1.0  Is there a program or engine that can find the...\n",
       "3895      -1.0  Chess is just so fucking boring tbh. Lost majo...\n",
       "2702      -1.0                     Why am I so terrible at chess?\n",
       "479       -1.0   A disgusting checkmate I got with the king on e5\n",
       "1862      -1.0                   Insane Stockfish Line: Mate in 6\n",
       "4553      -1.0              Life or death chess. Insane pressure."
      ]
     },
     "execution_count": 215,
     "metadata": {},
     "output_type": "execute_result"
    }
   ],
   "source": [
    "# display bottom 10 with rows with negative sentiment\n",
    "sentiment_df_chess.sort_values(by = 'polarity', ascending = False).tail(10)"
   ]
  },
  {
   "cell_type": "code",
   "execution_count": 145,
   "metadata": {},
   "outputs": [],
   "source": [
    "# Remove polarity values equal to zero to better visualize values\n",
    "sentiment_df_chess = sentiment_df_chess[sentiment_df_chess.polarity != 0]"
   ]
  },
  {
   "cell_type": "code",
   "execution_count": 152,
   "metadata": {},
   "outputs": [
    {
     "data": {
      "image/png": "[encoded data removed]",
      "text/plain": [
       "<Figure size 576x432 with 1 Axes>"
      ]
     },
     "metadata": {
      "needs_background": "light"
     },
     "output_type": "display_data"
    }
   ],
   "source": [
    "fig, ax = plt.subplots(figsize=(8, 6))\n",
    "\n",
    "# Plot histogram with break at zero\n",
    "sentiment_df_chess.hist(bins=[-1, -0.75, -0.5, -0.25, 0.0, 0.25, 0.5, 0.75, 1],\n",
    "             ax=ax,\n",
    "             color=\"blue\")\n",
    "\n",
    "plt.title(\"Sentiments in the Chess Titles\")\n",
    "plt.savefig('chess_sentiment');"
   ]
  },
  {
   "cell_type": "markdown",
   "metadata": {},
   "source": [
    "After removing titles with 0 polarity, it looks like majority of the titles have -0.25 to 0.5 polarity. "
   ]
  },
  {
   "cell_type": "markdown",
   "metadata": {},
   "source": [
    "<a class=\"anchor\" id=\"poker\"></a>"
   ]
  },
  {
   "cell_type": "markdown",
   "metadata": {},
   "source": [
    "### Poker subreddit EDA"
   ]
  },
  {
   "cell_type": "code",
   "execution_count": 109,
   "metadata": {},
   "outputs": [],
   "source": [
    "# create a dataframe from poker subreddit only\n",
    "df_poker = df.loc[df['subreddit'] == 'poker']"
   ]
  },
  {
   "cell_type": "code",
   "execution_count": 110,
   "metadata": {},
   "outputs": [
    {
     "data": {
      "text/plain": [
       "8427       1\n",
       "10023      1\n",
       "6748       1\n",
       "9576       1\n",
       "7630       1\n",
       "        ... \n",
       "7206     298\n",
       "6794     299\n",
       "6793     300\n",
       "6022     300\n",
       "5501     328\n",
       "Name: title, Length: 5400, dtype: int64"
      ]
     },
     "execution_count": 110,
     "metadata": {},
     "output_type": "execute_result"
    }
   ],
   "source": [
    "# sort title length related to the poker subreddit only \n",
    "df_poker['title'].str.len().sort_values()"
   ]
  },
  {
   "cell_type": "markdown",
   "metadata": {},
   "source": [
    "In the poker subreddit, the shortest title consisted of 1 character, while the longest title consisted of 328 characters. "
   ]
  },
  {
   "cell_type": "code",
   "execution_count": 111,
   "metadata": {},
   "outputs": [
    {
     "data": {
      "text/plain": [
       "48.82259259259259"
      ]
     },
     "execution_count": 111,
     "metadata": {},
     "output_type": "execute_result"
    }
   ],
   "source": [
    "df_poker['title_length'].mean()"
   ]
  },
  {
   "cell_type": "code",
   "execution_count": 95,
   "metadata": {},
   "outputs": [
    {
     "data": {
      "image/png": "[encoded data removed]",
      "text/plain": [
       "<Figure size 432x288 with 1 Axes>"
      ]
     },
     "metadata": {
      "needs_background": "light"
     },
     "output_type": "display_data"
    }
   ],
   "source": [
    "plt.hist(df_poker['title_length'])\n",
    "plt.title('Title Length Distribution within Poker Subreddit')\n",
    "plt.savefig('poker_title_length');"
   ]
  },
  {
   "cell_type": "markdown",
   "metadata": {},
   "source": [
    "In the poker subreddit, majority of the titles are between ~1 and ~60 characters long. "
   ]
  },
  {
   "cell_type": "code",
   "execution_count": 96,
   "metadata": {},
   "outputs": [],
   "source": [
    "# create a datframe of number of words in 'title' within the poker subreddit\n",
    "poker_word_count = pd.DataFrame([len(x.split()) for x in df_poker['title'].tolist()])"
   ]
  },
  {
   "cell_type": "code",
   "execution_count": 97,
   "metadata": {},
   "outputs": [
    {
     "data": {
      "text/html": [
       "<div>\n",
       "<style scoped>\n",
       "    .dataframe tbody tr th:only-of-type {\n",
       "        vertical-align: middle;\n",
       "    }\n",
       "\n",
       "    .dataframe tbody tr th {\n",
       "        vertical-align: top;\n",
       "    }\n",
       "\n",
       "    .dataframe thead th {\n",
       "        text-align: right;\n",
       "    }\n",
       "</style>\n",
       "<table border=\"1\" class=\"dataframe\">\n",
       "  <thead>\n",
       "    <tr style=\"text-align: right;\">\n",
       "      <th></th>\n",
       "      <th>0</th>\n",
       "    </tr>\n",
       "  </thead>\n",
       "  <tbody>\n",
       "    <tr>\n",
       "      <th>5076</th>\n",
       "      <td>1</td>\n",
       "    </tr>\n",
       "    <tr>\n",
       "      <th>3200</th>\n",
       "      <td>1</td>\n",
       "    </tr>\n",
       "    <tr>\n",
       "      <th>2017</th>\n",
       "      <td>1</td>\n",
       "    </tr>\n",
       "    <tr>\n",
       "      <th>96</th>\n",
       "      <td>1</td>\n",
       "    </tr>\n",
       "    <tr>\n",
       "      <th>2018</th>\n",
       "      <td>1</td>\n",
       "    </tr>\n",
       "    <tr>\n",
       "      <th>...</th>\n",
       "      <td>...</td>\n",
       "    </tr>\n",
       "    <tr>\n",
       "      <th>2206</th>\n",
       "      <td>60</td>\n",
       "    </tr>\n",
       "    <tr>\n",
       "      <th>3850</th>\n",
       "      <td>60</td>\n",
       "    </tr>\n",
       "    <tr>\n",
       "      <th>1431</th>\n",
       "      <td>61</td>\n",
       "    </tr>\n",
       "    <tr>\n",
       "      <th>5396</th>\n",
       "      <td>63</td>\n",
       "    </tr>\n",
       "    <tr>\n",
       "      <th>1062</th>\n",
       "      <td>66</td>\n",
       "    </tr>\n",
       "  </tbody>\n",
       "</table>\n",
       "<p>5400 rows × 1 columns</p>\n",
       "</div>"
      ],
      "text/plain": [
       "       0\n",
       "5076   1\n",
       "3200   1\n",
       "2017   1\n",
       "96     1\n",
       "2018   1\n",
       "...   ..\n",
       "2206  60\n",
       "3850  60\n",
       "1431  61\n",
       "5396  63\n",
       "1062  66\n",
       "\n",
       "[5400 rows x 1 columns]"
      ]
     },
     "execution_count": 97,
     "metadata": {},
     "output_type": "execute_result"
    }
   ],
   "source": [
    "poker_word_count.sort_values(by = 0)"
   ]
  },
  {
   "cell_type": "code",
   "execution_count": 98,
   "metadata": {},
   "outputs": [
    {
     "data": {
      "image/png": "[encoded data removed]",
      "text/plain": [
       "<Figure size 432x288 with 1 Axes>"
      ]
     },
     "metadata": {
      "needs_background": "light"
     },
     "output_type": "display_data"
    }
   ],
   "source": [
    "plt.hist(poker_word_count[0])\n",
    "plt.title('Distribution of Words Within Poker Subreddit')\n",
    "plt.savefig('poker_words');"
   ]
  },
  {
   "cell_type": "markdown",
   "metadata": {},
   "source": [
    "Majority of the titles are made of 1-6 words within the poker subreddit."
   ]
  },
  {
   "cell_type": "markdown",
   "metadata": {},
   "source": [
    "#### Countvectorizing the Poker Titles"
   ]
  },
  {
   "cell_type": "code",
   "execution_count": 99,
   "metadata": {},
   "outputs": [],
   "source": [
    "# instantiate CountVectorizer (used max features 500)\n",
    "cvect_poker = CountVectorizer(stop_words = 'english', ngram_range = (2,2), max_features = 500)"
   ]
  },
  {
   "cell_type": "code",
   "execution_count": 100,
   "metadata": {},
   "outputs": [],
   "source": [
    "# count-vectorize the title column\n",
    "title_vect_poker = cvect_poker.fit_transform(df_poker['title'])"
   ]
  },
  {
   "cell_type": "code",
   "execution_count": 101,
   "metadata": {},
   "outputs": [],
   "source": [
    "# make a dataframe\n",
    "df_vect_poker = pd.DataFrame(title_vect_poker.toarray(), columns = cvect_poker.get_feature_names())"
   ]
  },
  {
   "cell_type": "code",
   "execution_count": 104,
   "metadata": {},
   "outputs": [
    {
     "data": {
      "text/plain": [
       "online poker       117\n",
       "home game           58\n",
       "live poker          52\n",
       "cash game           49\n",
       "global poker        39\n",
       "high stakes         38\n",
       "hold em             38\n",
       "hand analysis       37\n",
       "bad beat            36\n",
       "doug polk           34\n",
       "sheldon adelson     34\n",
       "hand review         33\n",
       "final table         31\n",
       "cash games          31\n",
       "poker online        30\n",
       "daniel negreanu     30\n",
       "play poker          29\n",
       "id pro              28\n",
       "pkv games           27\n",
       "gg poker            27\n",
       "dtype: int64"
      ]
     },
     "execution_count": 104,
     "metadata": {},
     "output_type": "execute_result"
    }
   ],
   "source": [
    "# sort values in a vectorized dataframe and show 15 most commong words\n",
    "df_vect_poker.sum().sort_values(ascending = False).head(20)"
   ]
  },
  {
   "cell_type": "code",
   "execution_count": 103,
   "metadata": {},
   "outputs": [
    {
     "data": {
      "image/png": "[encoded data removed]",
      "text/plain": [
       "<Figure size 576x432 with 1 Axes>"
      ]
     },
     "metadata": {
      "needs_background": "light"
     },
     "output_type": "display_data"
    }
   ],
   "source": [
    "# plot a bar chart of top 15 words\n",
    "plt.figure(figsize = (8, 6))\n",
    "df_vect_poker.sum().sort_values(ascending = False).head(15).plot(kind = 'bar')\n",
    "plt.title('Top 15 words in Poker Subreddit', fontsize = 20)\n",
    "plt.xticks(ha='right', rotation=40, fontsize=15)\n",
    "plt.yticks(fontsize = 15)\n",
    "plt.savefig('poker_top_words');"
   ]
  },
  {
   "cell_type": "markdown",
   "metadata": {},
   "source": [
    "Most used words in the chess subreddit are: poker, online, hand, play, game, live, vs, best, players, pokerstars, games, cash, playing, player, tournament\n"
   ]
  },
  {
   "cell_type": "code",
   "execution_count": 217,
   "metadata": {},
   "outputs": [
    {
     "data": {
      "text/plain": [
       "['Pokerstars ZOOM IN PLAYCHIP (100000, 200000) vs REAL MONEY',\n",
       " 'Starting poker part-time career in my 40s, give me the real truth',\n",
       " 'How to play Poker?',\n",
       " 'VPN GGpoker?',\n",
       " 'Does the Borgata in Atlantic City have live poker TOURNAMENTS, not cash games?',\n",
       " 'Looking to build your bankroll? The Track is a fully transparent club on Pokerrr 2. .25/.50 NLHE',\n",
       " 'Trusted online poker?',\n",
       " 'Anyone ever had a problem with not receiving win funds on betonline poker',\n",
       " 'The best poker play in the world',\n",
       " 'Come join BASTARDS club, code R2V9Z! THE #1 Trusted Club since 2019 - with the best player promos available anywhere on Pokerrrr 2 app! Come join today',\n",
       " 'Pokerstars cardschat pw?',\n",
       " '5 card poker app?',\n",
       " 'GLOBAL POKER isTHIRD WORLD MALAYSIA scamming trash.....its run like a ponzi scheme...',\n",
       " 'Best research materials and/or theories for improving my poker game?',\n",
       " 'Poker Tournaments !!',\n",
       " 'Sheldon Adelson, Biggest Online Poker Foe, Dies at 87',\n",
       " 'Online poker opponent Sheldon Adelson has died',\n",
       " 'Best Poker Player In The World?',\n",
       " 'Sheldon Adelson -- primary funding source of anti-online poker legislation in the US -- dead at 87',\n",
       " 'Fishiest online poker site?']"
      ]
     },
     "execution_count": 217,
     "metadata": {},
     "output_type": "execute_result"
    }
   ],
   "source": [
    "# shows first 20 titles containing the word 'poker'\n",
    "[title for title in df_poker['title'] if 'poker' in title.lower()][:20]"
   ]
  },
  {
   "cell_type": "markdown",
   "metadata": {},
   "source": [
    "#### Sentiment Analysis of Poker Titles"
   ]
  },
  {
   "cell_type": "code",
   "execution_count": 133,
   "metadata": {},
   "outputs": [],
   "source": [
    "# create textblob objects of the 'title' in the poker dataframe\n",
    "sentiment_objects_poker = [TextBlob(i) for i in df_poker['title']]"
   ]
  },
  {
   "cell_type": "code",
   "execution_count": 134,
   "metadata": {},
   "outputs": [],
   "source": [
    "# Create list of polarity values\n",
    "sentiment_values_poker = [[i.sentiment.polarity, str(i)] for i in sentiment_objects_poker]"
   ]
  },
  {
   "cell_type": "code",
   "execution_count": 135,
   "metadata": {},
   "outputs": [],
   "source": [
    "# Create dataframe containing the polarity value and title text\n",
    "sentiment_df_poker = pd.DataFrame(sentiment_values_poker, columns = ['polarity', 'title'])"
   ]
  },
  {
   "cell_type": "code",
   "execution_count": 136,
   "metadata": {},
   "outputs": [
    {
     "data": {
      "text/html": [
       "<div>\n",
       "<style scoped>\n",
       "    .dataframe tbody tr th:only-of-type {\n",
       "        vertical-align: middle;\n",
       "    }\n",
       "\n",
       "    .dataframe tbody tr th {\n",
       "        vertical-align: top;\n",
       "    }\n",
       "\n",
       "    .dataframe thead th {\n",
       "        text-align: right;\n",
       "    }\n",
       "</style>\n",
       "<table border=\"1\" class=\"dataframe\">\n",
       "  <thead>\n",
       "    <tr style=\"text-align: right;\">\n",
       "      <th></th>\n",
       "      <th>polarity</th>\n",
       "      <th>title</th>\n",
       "    </tr>\n",
       "  </thead>\n",
       "  <tbody>\n",
       "    <tr>\n",
       "      <th>4344</th>\n",
       "      <td>1.0</td>\n",
       "      <td>What is the best Bitcoin withdrawal method for...</td>\n",
       "    </tr>\n",
       "    <tr>\n",
       "      <th>4937</th>\n",
       "      <td>1.0</td>\n",
       "      <td>Best hand to crack aces</td>\n",
       "    </tr>\n",
       "    <tr>\n",
       "      <th>3852</th>\n",
       "      <td>1.0</td>\n",
       "      <td>WA state, best loophole with bitcoin to go aro...</td>\n",
       "    </tr>\n",
       "    <tr>\n",
       "      <th>5006</th>\n",
       "      <td>1.0</td>\n",
       "      <td>Best way to study a book</td>\n",
       "    </tr>\n",
       "    <tr>\n",
       "      <th>3108</th>\n",
       "      <td>1.0</td>\n",
       "      <td>Best platform for iPad experience?</td>\n",
       "    </tr>\n",
       "    <tr>\n",
       "      <th>3109</th>\n",
       "      <td>1.0</td>\n",
       "      <td>The best flop in PLO8 I’ve ever had.</td>\n",
       "    </tr>\n",
       "    <tr>\n",
       "      <th>3120</th>\n",
       "      <td>1.0</td>\n",
       "      <td>Come check out my awesome stream layout!! Ask ...</td>\n",
       "    </tr>\n",
       "    <tr>\n",
       "      <th>2125</th>\n",
       "      <td>1.0</td>\n",
       "      <td>What are some of the best online casinos now?</td>\n",
       "    </tr>\n",
       "    <tr>\n",
       "      <th>3138</th>\n",
       "      <td>1.0</td>\n",
       "      <td>Best rake deals at the moment?</td>\n",
       "    </tr>\n",
       "    <tr>\n",
       "      <th>5350</th>\n",
       "      <td>1.0</td>\n",
       "      <td>Best payout poker club yet</td>\n",
       "    </tr>\n",
       "  </tbody>\n",
       "</table>\n",
       "</div>"
      ],
      "text/plain": [
       "      polarity                                              title\n",
       "4344       1.0  What is the best Bitcoin withdrawal method for...\n",
       "4937       1.0                            Best hand to crack aces\n",
       "3852       1.0  WA state, best loophole with bitcoin to go aro...\n",
       "5006       1.0                           Best way to study a book\n",
       "3108       1.0                 Best platform for iPad experience?\n",
       "3109       1.0               The best flop in PLO8 I’ve ever had.\n",
       "3120       1.0  Come check out my awesome stream layout!! Ask ...\n",
       "2125       1.0      What are some of the best online casinos now?\n",
       "3138       1.0                     Best rake deals at the moment?\n",
       "5350       1.0                         Best payout poker club yet"
      ]
     },
     "execution_count": 136,
     "metadata": {},
     "output_type": "execute_result"
    }
   ],
   "source": [
    "# display top 10 with rows with positive sentiment\n",
    "sentiment_df_poker.sort_values(by = 'polarity', ascending = False).head(10)"
   ]
  },
  {
   "cell_type": "code",
   "execution_count": 137,
   "metadata": {},
   "outputs": [
    {
     "data": {
      "text/html": [
       "<div>\n",
       "<style scoped>\n",
       "    .dataframe tbody tr th:only-of-type {\n",
       "        vertical-align: middle;\n",
       "    }\n",
       "\n",
       "    .dataframe tbody tr th {\n",
       "        vertical-align: top;\n",
       "    }\n",
       "\n",
       "    .dataframe thead th {\n",
       "        text-align: right;\n",
       "    }\n",
       "</style>\n",
       "<table border=\"1\" class=\"dataframe\">\n",
       "  <thead>\n",
       "    <tr style=\"text-align: right;\">\n",
       "      <th></th>\n",
       "      <th>polarity</th>\n",
       "      <th>title</th>\n",
       "    </tr>\n",
       "  </thead>\n",
       "  <tbody>\n",
       "    <tr>\n",
       "      <th>5292</th>\n",
       "      <td>-1.0</td>\n",
       "      <td>what is the worst argument or fight you witnes...</td>\n",
       "    </tr>\n",
       "    <tr>\n",
       "      <th>1334</th>\n",
       "      <td>-1.0</td>\n",
       "      <td>I just won the biggest pot of my life in casin...</td>\n",
       "    </tr>\n",
       "    <tr>\n",
       "      <th>4281</th>\n",
       "      <td>-1.0</td>\n",
       "      <td>Horribly played hand reflection</td>\n",
       "    </tr>\n",
       "    <tr>\n",
       "      <th>3299</th>\n",
       "      <td>-1.0</td>\n",
       "      <td>What's the worst you've ever been unintentiona...</td>\n",
       "    </tr>\n",
       "    <tr>\n",
       "      <th>5313</th>\n",
       "      <td>-1.0</td>\n",
       "      <td>Worst beat I’ve had in a while ..</td>\n",
       "    </tr>\n",
       "    <tr>\n",
       "      <th>1492</th>\n",
       "      <td>-1.0</td>\n",
       "      <td>The Horrible Graphics on High-stakes Poker 202...</td>\n",
       "    </tr>\n",
       "    <tr>\n",
       "      <th>3353</th>\n",
       "      <td>-1.0</td>\n",
       "      <td>When researching penguins gets boring</td>\n",
       "    </tr>\n",
       "    <tr>\n",
       "      <th>4378</th>\n",
       "      <td>-1.0</td>\n",
       "      <td>The worst hand in poker</td>\n",
       "    </tr>\n",
       "    <tr>\n",
       "      <th>1394</th>\n",
       "      <td>-1.0</td>\n",
       "      <td>Advice for after a terrible session</td>\n",
       "    </tr>\n",
       "    <tr>\n",
       "      <th>2947</th>\n",
       "      <td>-1.0</td>\n",
       "      <td>Insane laydown at 2018 Colossus FT</td>\n",
       "    </tr>\n",
       "  </tbody>\n",
       "</table>\n",
       "</div>"
      ],
      "text/plain": [
       "      polarity                                              title\n",
       "5292      -1.0  what is the worst argument or fight you witnes...\n",
       "1334      -1.0  I just won the biggest pot of my life in casin...\n",
       "4281      -1.0                    Horribly played hand reflection\n",
       "3299      -1.0  What's the worst you've ever been unintentiona...\n",
       "5313      -1.0                  Worst beat I’ve had in a while ..\n",
       "1492      -1.0  The Horrible Graphics on High-stakes Poker 202...\n",
       "3353      -1.0              When researching penguins gets boring\n",
       "4378      -1.0                            The worst hand in poker\n",
       "1394      -1.0                Advice for after a terrible session\n",
       "2947      -1.0                 Insane laydown at 2018 Colossus FT"
      ]
     },
     "execution_count": 137,
     "metadata": {},
     "output_type": "execute_result"
    }
   ],
   "source": [
    "# display bottom 10 with rows with negative sentiment\n",
    "sentiment_df_poker.sort_values(by = 'polarity', ascending = False).tail(10)"
   ]
  },
  {
   "cell_type": "code",
   "execution_count": 139,
   "metadata": {},
   "outputs": [],
   "source": [
    "# Remove polarity values equal to zero to better visualize values\n",
    "sentiment_df_poker = sentiment_df_poker[sentiment_df_poker.polarity != 0]"
   ]
  },
  {
   "cell_type": "code",
   "execution_count": 156,
   "metadata": {},
   "outputs": [
    {
     "data": {
      "image/png": "[encoded data removed]",
      "text/plain": [
       "<Figure size 576x432 with 1 Axes>"
      ]
     },
     "metadata": {
      "needs_background": "light"
     },
     "output_type": "display_data"
    }
   ],
   "source": [
    "fig, ax = plt.subplots(figsize=(8, 6))\n",
    "\n",
    "# Plot histogram with break at zero\n",
    "sentiment_df_poker.hist(bins=[-1, -0.75, -0.5, -0.25, 0.0, 0.25, 0.5, 0.75, 1],\n",
    "             ax=ax,\n",
    "             color=\"blue\")\n",
    "\n",
    "plt.title(\"Sentiments in the Poker Titles\")\n",
    "plt.savefig('poker_sentiment')"
   ]
  },
  {
   "cell_type": "markdown",
   "metadata": {},
   "source": [
    "After removing titles that have polarity equal to 0, it seems that majority of the titles are between 0 and 0.5 polarity. "
   ]
  }
 ],
 "metadata": {
  "kernelspec": {
   "display_name": "Python 3",
   "language": "python",
   "name": "python3"
  },
  "language_info": {
   "codemirror_mode": {
    "name": "ipython",
    "version": 3
   },
   "file_extension": ".py",
   "mimetype": "text/x-python",
   "name": "python",
   "nbconvert_exporter": "python",
   "pygments_lexer": "ipython3",
   "version": "3.8.5"
  }
 },
 "nbformat": 4,
 "nbformat_minor": 4
}
