{
 "cells": [
  {
   "cell_type": "markdown",
   "metadata": {},
   "source": [
    "## Project 3: Web API's and NLP"
   ]
  },
  {
   "cell_type": "markdown",
   "metadata": {},
   "source": [
    "Contents:\n",
    "\n",
    "- [Pushshift API Request Example](#request)\n",
    "- [Chess Subreddit Data Collection](#chess_data)\n",
    "- [Poker Subreddit Data Collection](#poker_data)\n",
    "- [Combine dataframe and save to csv](#concat)"
   ]
  },
  {
   "cell_type": "markdown",
   "metadata": {},
   "source": [
    "### Collecting posts via API"
   ]
  },
  {
   "cell_type": "code",
   "execution_count": 24,
   "metadata": {},
   "outputs": [],
   "source": [
    "# Imports \n",
    "import requests\n",
    "import pandas as pd\n",
    "import datetime as dt\n",
    "import time"
   ]
  },
  {
   "cell_type": "markdown",
   "metadata": {},
   "source": [
    "<a class=\"anchor\" id=\"request\"></a>"
   ]
  },
  {
   "cell_type": "markdown",
   "metadata": {},
   "source": [
    "### Example of one Pushshift API request"
   ]
  },
  {
   "cell_type": "code",
   "execution_count": 25,
   "metadata": {},
   "outputs": [],
   "source": [
    "# base url\n",
    "url = 'https://api.pushshift.io/reddit/search/submission'"
   ]
  },
  {
   "cell_type": "code",
   "execution_count": 26,
   "metadata": {},
   "outputs": [],
   "source": [
    "# params for chess subreddit\n",
    "params = {\n",
    "    'subreddit': 'chess',\n",
    "    'size': 500, \n",
    "    'after': 1515851746\n",
    "}"
   ]
  },
  {
   "cell_type": "code",
   "execution_count": 27,
   "metadata": {},
   "outputs": [],
   "source": [
    "# create a request for the base url + subreddit\n",
    "res = requests.get(url, params)"
   ]
  },
  {
   "cell_type": "code",
   "execution_count": 28,
   "metadata": {},
   "outputs": [
    {
     "data": {
      "text/plain": [
       "200"
      ]
     },
     "execution_count": 28,
     "metadata": {},
     "output_type": "execute_result"
    }
   ],
   "source": [
    "# status code for the request\n",
    "res.status_code"
   ]
  },
  {
   "cell_type": "code",
   "execution_count": 29,
   "metadata": {},
   "outputs": [],
   "source": [
    "# request json\n",
    "data = res.json()"
   ]
  },
  {
   "cell_type": "code",
   "execution_count": 30,
   "metadata": {},
   "outputs": [],
   "source": [
    "# create post variable\n",
    "posts = data['data']"
   ]
  },
  {
   "cell_type": "code",
   "execution_count": 31,
   "metadata": {},
   "outputs": [
    {
     "data": {
      "text/plain": [
       "100"
      ]
     },
     "execution_count": 31,
     "metadata": {},
     "output_type": "execute_result"
    }
   ],
   "source": [
    "# generates 100 posts at a time\n",
    "len(posts)"
   ]
  },
  {
   "cell_type": "code",
   "execution_count": 32,
   "metadata": {},
   "outputs": [],
   "source": [
    "# save posts to a dataframe\n",
    "df = pd.DataFrame(posts)"
   ]
  },
  {
   "cell_type": "code",
   "execution_count": 33,
   "metadata": {},
   "outputs": [
    {
     "data": {
      "text/html": [
       "<div>\n",
       "<style scoped>\n",
       "    .dataframe tbody tr th:only-of-type {\n",
       "        vertical-align: middle;\n",
       "    }\n",
       "\n",
       "    .dataframe tbody tr th {\n",
       "        vertical-align: top;\n",
       "    }\n",
       "\n",
       "    .dataframe thead th {\n",
       "        text-align: right;\n",
       "    }\n",
       "</style>\n",
       "<table border=\"1\" class=\"dataframe\">\n",
       "  <thead>\n",
       "    <tr style=\"text-align: right;\">\n",
       "      <th></th>\n",
       "      <th>subreddit</th>\n",
       "      <th>selftext</th>\n",
       "      <th>title</th>\n",
       "    </tr>\n",
       "  </thead>\n",
       "  <tbody>\n",
       "    <tr>\n",
       "      <th>0</th>\n",
       "      <td>chess</td>\n",
       "      <td></td>\n",
       "      <td>One of my favorite chess puzzles of all time. ...</td>\n",
       "    </tr>\n",
       "    <tr>\n",
       "      <th>1</th>\n",
       "      <td>chess</td>\n",
       "      <td>In Pump Up Your Rating, Axel Smith says:\\n\\n&amp;g...</td>\n",
       "      <td>Do you \"say\" moves in your mind when calculating?</td>\n",
       "    </tr>\n",
       "    <tr>\n",
       "      <th>2</th>\n",
       "      <td>chess</td>\n",
       "      <td></td>\n",
       "      <td>Experience sheer luxury with the Sher-E-Punjab...</td>\n",
       "    </tr>\n",
       "    <tr>\n",
       "      <th>3</th>\n",
       "      <td>chess</td>\n",
       "      <td>[removed]</td>\n",
       "      <td>Kingscrusher forces subscribing to watch his T...</td>\n",
       "    </tr>\n",
       "    <tr>\n",
       "      <th>4</th>\n",
       "      <td>chess</td>\n",
       "      <td></td>\n",
       "      <td>I have this thing where I love revealed mates.</td>\n",
       "    </tr>\n",
       "    <tr>\n",
       "      <th>...</th>\n",
       "      <td>...</td>\n",
       "      <td>...</td>\n",
       "      <td>...</td>\n",
       "    </tr>\n",
       "    <tr>\n",
       "      <th>95</th>\n",
       "      <td>chess</td>\n",
       "      <td>Chess.com has tactics and daily puzzles but re...</td>\n",
       "      <td>Short Chess puzzles for dementia patients</td>\n",
       "    </tr>\n",
       "    <tr>\n",
       "      <th>96</th>\n",
       "      <td>chess</td>\n",
       "      <td></td>\n",
       "      <td>White to move (Tactic I missed)</td>\n",
       "    </tr>\n",
       "    <tr>\n",
       "      <th>97</th>\n",
       "      <td>chess</td>\n",
       "      <td></td>\n",
       "      <td>Would be much appreciated if you could vote fo...</td>\n",
       "    </tr>\n",
       "    <tr>\n",
       "      <th>98</th>\n",
       "      <td>chess</td>\n",
       "      <td></td>\n",
       "      <td>GM norm requirements are more complicated than...</td>\n",
       "    </tr>\n",
       "    <tr>\n",
       "      <th>99</th>\n",
       "      <td>chess</td>\n",
       "      <td>[removed]</td>\n",
       "      <td>For you beginners. Fastest possible checkmate ...</td>\n",
       "    </tr>\n",
       "  </tbody>\n",
       "</table>\n",
       "<p>100 rows × 3 columns</p>\n",
       "</div>"
      ],
      "text/plain": [
       "   subreddit                                           selftext  \\\n",
       "0      chess                                                      \n",
       "1      chess  In Pump Up Your Rating, Axel Smith says:\\n\\n&g...   \n",
       "2      chess                                                      \n",
       "3      chess                                          [removed]   \n",
       "4      chess                                                      \n",
       "..       ...                                                ...   \n",
       "95     chess  Chess.com has tactics and daily puzzles but re...   \n",
       "96     chess                                                      \n",
       "97     chess                                                      \n",
       "98     chess                                                      \n",
       "99     chess                                          [removed]   \n",
       "\n",
       "                                                title  \n",
       "0   One of my favorite chess puzzles of all time. ...  \n",
       "1   Do you \"say\" moves in your mind when calculating?  \n",
       "2   Experience sheer luxury with the Sher-E-Punjab...  \n",
       "3   Kingscrusher forces subscribing to watch his T...  \n",
       "4      I have this thing where I love revealed mates.  \n",
       "..                                                ...  \n",
       "95          Short Chess puzzles for dementia patients  \n",
       "96                    White to move (Tactic I missed)  \n",
       "97  Would be much appreciated if you could vote fo...  \n",
       "98  GM norm requirements are more complicated than...  \n",
       "99  For you beginners. Fastest possible checkmate ...  \n",
       "\n",
       "[100 rows x 3 columns]"
      ]
     },
     "execution_count": 33,
     "metadata": {},
     "output_type": "execute_result"
    }
   ],
   "source": [
    "# columns to inspect first\n",
    "df[['subreddit', 'selftext', 'title']]"
   ]
  },
  {
   "cell_type": "markdown",
   "metadata": {},
   "source": [
    "<a class=\"anchor\" id=\"function\"></a>"
   ]
  },
  {
   "cell_type": "markdown",
   "metadata": {},
   "source": [
    "### Function to run multiple requests at a time "
   ]
  },
  {
   "cell_type": "markdown",
   "metadata": {},
   "source": [
    "<a class=\"anchor\" id=\"chess_data\"></a>"
   ]
  },
  {
   "cell_type": "markdown",
   "metadata": {},
   "source": [
    "#### Chess Subreddit Data Collection"
   ]
  },
  {
   "cell_type": "code",
   "execution_count": 41,
   "metadata": {},
   "outputs": [
    {
     "data": {
      "text/html": [
       "<div>\n",
       "<style scoped>\n",
       "    .dataframe tbody tr th:only-of-type {\n",
       "        vertical-align: middle;\n",
       "    }\n",
       "\n",
       "    .dataframe tbody tr th {\n",
       "        vertical-align: top;\n",
       "    }\n",
       "\n",
       "    .dataframe thead th {\n",
       "        text-align: right;\n",
       "    }\n",
       "</style>\n",
       "<table border=\"1\" class=\"dataframe\">\n",
       "  <thead>\n",
       "    <tr style=\"text-align: right;\">\n",
       "      <th></th>\n",
       "      <th>title</th>\n",
       "      <th>subreddit</th>\n",
       "      <th>selftext</th>\n",
       "      <th>created_utc</th>\n",
       "    </tr>\n",
       "  </thead>\n",
       "  <tbody>\n",
       "  </tbody>\n",
       "</table>\n",
       "</div>"
      ],
      "text/plain": [
       "Empty DataFrame\n",
       "Columns: [title, subreddit, selftext, created_utc]\n",
       "Index: []"
      ]
     },
     "execution_count": 41,
     "metadata": {},
     "output_type": "execute_result"
    }
   ],
   "source": [
    "# chess posts master - create a dataframe variables\n",
    "posts_master = pd.DataFrame(columns = ['title', 'subreddit', 'selftext', 'created_utc'])\n",
    "posts_master"
   ]
  },
  {
   "cell_type": "code",
   "execution_count": 42,
   "metadata": {},
   "outputs": [
    {
     "name": "stdout",
     "output_type": "stream",
     "text": [
      "pull number 1 Complete\n",
      "pull number 2 Complete\n",
      "pull number 3 Complete\n",
      "pull number 4 Complete\n",
      "pull number 5 Complete\n",
      "pull number 6 Complete\n",
      "pull number 7 Complete\n",
      "pull number 8 Complete\n",
      "pull number 9 Complete\n",
      "pull number 10 Complete\n"
     ]
    }
   ],
   "source": [
    "# for loop to run through the chess subreddit\n",
    "utc = 1605448546\n",
    "for pull in range(10):\n",
    "        query = 'https://api.pushshift.io/reddit/search/submission'\n",
    "        params = {'subreddit': 'chess', \n",
    "                 'size': 500, \n",
    "                 'before' : utc}\n",
    "        res = requests.get(query, params)\n",
    "        data = res.json()['data']\n",
    "        pull_dict = {\n",
    "            'title' : [],\n",
    "            'subreddit': [],\n",
    "            'selftext': [],\n",
    "            'created_utc': [],\n",
    "    }\n",
    "        for i in data:\n",
    "            pull_dict['title'].append(i['title'])\n",
    "            pull_dict['subreddit'].append(i['subreddit'])\n",
    "            pull_dict['selftext'].append(i['selftext'])\n",
    "            pull_dict['created_utc'].append(i['created_utc'])\n",
    "        temp_posts = pd.DataFrame(pull_dict)\n",
    "        posts_master = pd.concat([posts_master, temp_posts])\n",
    "        utc = posts_master['created_utc'].astype('int64').min()\n",
    "        time.sleep(3)\n",
    "        print(f'pull number {pull + 1} Complete')\n"
   ]
  },
  {
   "cell_type": "code",
   "execution_count": 43,
   "metadata": {},
   "outputs": [
    {
     "data": {
      "text/html": [
       "<div>\n",
       "<style scoped>\n",
       "    .dataframe tbody tr th:only-of-type {\n",
       "        vertical-align: middle;\n",
       "    }\n",
       "\n",
       "    .dataframe tbody tr th {\n",
       "        vertical-align: top;\n",
       "    }\n",
       "\n",
       "    .dataframe thead th {\n",
       "        text-align: right;\n",
       "    }\n",
       "</style>\n",
       "<table border=\"1\" class=\"dataframe\">\n",
       "  <thead>\n",
       "    <tr style=\"text-align: right;\">\n",
       "      <th></th>\n",
       "      <th>title</th>\n",
       "      <th>subreddit</th>\n",
       "      <th>selftext</th>\n",
       "      <th>created_utc</th>\n",
       "    </tr>\n",
       "  </thead>\n",
       "  <tbody>\n",
       "    <tr>\n",
       "      <th>0</th>\n",
       "      <td>Atalik-Sevgi, from Turkish Chess Championship ...</td>\n",
       "      <td>chess</td>\n",
       "      <td></td>\n",
       "      <td>1605447514</td>\n",
       "    </tr>\n",
       "    <tr>\n",
       "      <th>1</th>\n",
       "      <td>Searching for a chess board</td>\n",
       "      <td>chess</td>\n",
       "      <td>[deleted]</td>\n",
       "      <td>1605446338</td>\n",
       "    </tr>\n",
       "    <tr>\n",
       "      <th>2</th>\n",
       "      <td>How did I possibly lose this game?</td>\n",
       "      <td>chess</td>\n",
       "      <td>[deleted]</td>\n",
       "      <td>1605446041</td>\n",
       "    </tr>\n",
       "    <tr>\n",
       "      <th>3</th>\n",
       "      <td>What could I have done better?</td>\n",
       "      <td>chess</td>\n",
       "      <td>I am a quite a new player, and I just got this...</td>\n",
       "      <td>1605444239</td>\n",
       "    </tr>\n",
       "    <tr>\n",
       "      <th>4</th>\n",
       "      <td>The Giuocco Piano for black</td>\n",
       "      <td>chess</td>\n",
       "      <td>Hello, I am looking for a book or video series...</td>\n",
       "      <td>1605442798</td>\n",
       "    </tr>\n",
       "    <tr>\n",
       "      <th>...</th>\n",
       "      <td>...</td>\n",
       "      <td>...</td>\n",
       "      <td>...</td>\n",
       "      <td>...</td>\n",
       "    </tr>\n",
       "    <tr>\n",
       "      <th>95</th>\n",
       "      <td>Mate in 9. Look for the back and forth!</td>\n",
       "      <td>chess</td>\n",
       "      <td></td>\n",
       "      <td>1604792036</td>\n",
       "    </tr>\n",
       "    <tr>\n",
       "      <th>96</th>\n",
       "      <td>why did he resign?</td>\n",
       "      <td>chess</td>\n",
       "      <td>&amp;amp;#x200B;\\n\\n[Hey guys, I've just started p...</td>\n",
       "      <td>1604791686</td>\n",
       "    </tr>\n",
       "    <tr>\n",
       "      <th>97</th>\n",
       "      <td>Here's an interactive guide I just wrote for a...</td>\n",
       "      <td>chess</td>\n",
       "      <td></td>\n",
       "      <td>1604790408</td>\n",
       "    </tr>\n",
       "    <tr>\n",
       "      <th>98</th>\n",
       "      <td>I chose one of my losses at random and an anal...</td>\n",
       "      <td>chess</td>\n",
       "      <td>Check out this #chess game: Matty5812 vs juanm...</td>\n",
       "      <td>1604789841</td>\n",
       "    </tr>\n",
       "    <tr>\n",
       "      <th>99</th>\n",
       "      <td>I chose one of my losses at random and an anal...</td>\n",
       "      <td>chess</td>\n",
       "      <td>Check out this #chess game: Matty5812 vs juanm...</td>\n",
       "      <td>1604789841</td>\n",
       "    </tr>\n",
       "  </tbody>\n",
       "</table>\n",
       "<p>1000 rows × 4 columns</p>\n",
       "</div>"
      ],
      "text/plain": [
       "                                                title subreddit  \\\n",
       "0   Atalik-Sevgi, from Turkish Chess Championship ...     chess   \n",
       "1                         Searching for a chess board     chess   \n",
       "2                  How did I possibly lose this game?     chess   \n",
       "3                      What could I have done better?     chess   \n",
       "4                         The Giuocco Piano for black     chess   \n",
       "..                                                ...       ...   \n",
       "95            Mate in 9. Look for the back and forth!     chess   \n",
       "96                                 why did he resign?     chess   \n",
       "97  Here's an interactive guide I just wrote for a...     chess   \n",
       "98  I chose one of my losses at random and an anal...     chess   \n",
       "99  I chose one of my losses at random and an anal...     chess   \n",
       "\n",
       "                                             selftext created_utc  \n",
       "0                                                      1605447514  \n",
       "1                                           [deleted]  1605446338  \n",
       "2                                           [deleted]  1605446041  \n",
       "3   I am a quite a new player, and I just got this...  1605444239  \n",
       "4   Hello, I am looking for a book or video series...  1605442798  \n",
       "..                                                ...         ...  \n",
       "95                                                     1604792036  \n",
       "96  &amp;#x200B;\\n\\n[Hey guys, I've just started p...  1604791686  \n",
       "97                                                     1604790408  \n",
       "98  Check out this #chess game: Matty5812 vs juanm...  1604789841  \n",
       "99  Check out this #chess game: Matty5812 vs juanm...  1604789841  \n",
       "\n",
       "[1000 rows x 4 columns]"
      ]
     },
     "execution_count": 43,
     "metadata": {},
     "output_type": "execute_result"
    }
   ],
   "source": [
    "# print out a chess df\n",
    "posts_master"
   ]
  },
  {
   "cell_type": "code",
   "execution_count": 44,
   "metadata": {},
   "outputs": [
    {
     "data": {
      "text/plain": [
       "1604789841"
      ]
     },
     "execution_count": 44,
     "metadata": {},
     "output_type": "execute_result"
    }
   ],
   "source": [
    "# minimum value of created utc column\n",
    "posts_master['created_utc'].min()"
   ]
  },
  {
   "cell_type": "markdown",
   "metadata": {},
   "source": [
    "<a class=\"anchor\" id=\"poker_data\"></a>"
   ]
  },
  {
   "cell_type": "markdown",
   "metadata": {},
   "source": [
    "#### Poker Subreddit Data Collection"
   ]
  },
  {
   "cell_type": "code",
   "execution_count": 45,
   "metadata": {},
   "outputs": [
    {
     "data": {
      "text/html": [
       "<div>\n",
       "<style scoped>\n",
       "    .dataframe tbody tr th:only-of-type {\n",
       "        vertical-align: middle;\n",
       "    }\n",
       "\n",
       "    .dataframe tbody tr th {\n",
       "        vertical-align: top;\n",
       "    }\n",
       "\n",
       "    .dataframe thead th {\n",
       "        text-align: right;\n",
       "    }\n",
       "</style>\n",
       "<table border=\"1\" class=\"dataframe\">\n",
       "  <thead>\n",
       "    <tr style=\"text-align: right;\">\n",
       "      <th></th>\n",
       "      <th>title</th>\n",
       "      <th>subreddit</th>\n",
       "      <th>selftext</th>\n",
       "      <th>created_utc</th>\n",
       "    </tr>\n",
       "  </thead>\n",
       "  <tbody>\n",
       "  </tbody>\n",
       "</table>\n",
       "</div>"
      ],
      "text/plain": [
       "Empty DataFrame\n",
       "Columns: [title, subreddit, selftext, created_utc]\n",
       "Index: []"
      ]
     },
     "execution_count": 45,
     "metadata": {},
     "output_type": "execute_result"
    }
   ],
   "source": [
    "# poker posts master - create a dataframe variables\n",
    "posts_master_poker = pd.DataFrame(columns = ['title', 'subreddit', 'selftext', 'created_utc'])\n",
    "posts_master_poker"
   ]
  },
  {
   "cell_type": "code",
   "execution_count": 46,
   "metadata": {},
   "outputs": [
    {
     "name": "stdout",
     "output_type": "stream",
     "text": [
      "pull number 1 Complete\n",
      "pull number 2 Complete\n",
      "pull number 3 Complete\n",
      "pull number 4 Complete\n",
      "pull number 5 Complete\n",
      "pull number 6 Complete\n",
      "pull number 7 Complete\n",
      "pull number 8 Complete\n",
      "pull number 9 Complete\n",
      "pull number 10 Complete\n"
     ]
    }
   ],
   "source": [
    "# for loop to loop through the poker subreddit\n",
    "utc = 1602770146\n",
    "for pull in range(10):\n",
    "        query = 'https://api.pushshift.io/reddit/search/submission'\n",
    "        params = {'subreddit': 'poker', \n",
    "                 'size': 500, \n",
    "                 'before' : utc}\n",
    "        res = requests.get(query, params)\n",
    "        data = res.json()['data']\n",
    "        pull_dict = {\n",
    "            'title' : [],\n",
    "            'subreddit': [],\n",
    "            'selftext': [],\n",
    "            'created_utc': [],\n",
    "    }\n",
    "        for i in data:\n",
    "            pull_dict['title'].append(i['title'])\n",
    "            pull_dict['subreddit'].append(i['subreddit'])\n",
    "            pull_dict['selftext'].append(i['selftext'])\n",
    "            pull_dict['created_utc'].append(i['created_utc'])\n",
    "        temp_posts_poker = pd.DataFrame(pull_dict)\n",
    "        posts_master_poker = pd.concat([posts_master_poker, temp_posts_poker])\n",
    "        utc = posts_master_poker['created_utc'].astype('int64').min()\n",
    "        time.sleep(3)\n",
    "        print(f'pull number {pull + 1} Complete')\n"
   ]
  },
  {
   "cell_type": "code",
   "execution_count": 47,
   "metadata": {},
   "outputs": [
    {
     "data": {
      "text/html": [
       "<div>\n",
       "<style scoped>\n",
       "    .dataframe tbody tr th:only-of-type {\n",
       "        vertical-align: middle;\n",
       "    }\n",
       "\n",
       "    .dataframe tbody tr th {\n",
       "        vertical-align: top;\n",
       "    }\n",
       "\n",
       "    .dataframe thead th {\n",
       "        text-align: right;\n",
       "    }\n",
       "</style>\n",
       "<table border=\"1\" class=\"dataframe\">\n",
       "  <thead>\n",
       "    <tr style=\"text-align: right;\">\n",
       "      <th></th>\n",
       "      <th>title</th>\n",
       "      <th>subreddit</th>\n",
       "      <th>selftext</th>\n",
       "      <th>created_utc</th>\n",
       "    </tr>\n",
       "  </thead>\n",
       "  <tbody>\n",
       "    <tr>\n",
       "      <th>0</th>\n",
       "      <td>I completely butchered this hand. Villain had ...</td>\n",
       "      <td>poker</td>\n",
       "      <td></td>\n",
       "      <td>1602767797</td>\n",
       "    </tr>\n",
       "    <tr>\n",
       "      <th>1</th>\n",
       "      <td>Poker in Poland</td>\n",
       "      <td>poker</td>\n",
       "      <td>Are there live poker rooms in Poland? I know o...</td>\n",
       "      <td>1602767632</td>\n",
       "    </tr>\n",
       "    <tr>\n",
       "      <th>2</th>\n",
       "      <td>What's the most profitable way to exchange tou...</td>\n",
       "      <td>poker</td>\n",
       "      <td>I have several thousand bucks tournament money...</td>\n",
       "      <td>1602765918</td>\n",
       "    </tr>\n",
       "    <tr>\n",
       "      <th>3</th>\n",
       "      <td>Hand reading vs weak opponent!</td>\n",
       "      <td>poker</td>\n",
       "      <td></td>\n",
       "      <td>1602764506</td>\n",
       "    </tr>\n",
       "    <tr>\n",
       "      <th>4</th>\n",
       "      <td>When I'm trying to divide my range on the flop...</td>\n",
       "      <td>poker</td>\n",
       "      <td>Thank you:)</td>\n",
       "      <td>1602764486</td>\n",
       "    </tr>\n",
       "    <tr>\n",
       "      <th>...</th>\n",
       "      <td>...</td>\n",
       "      <td>...</td>\n",
       "      <td>...</td>\n",
       "      <td>...</td>\n",
       "    </tr>\n",
       "    <tr>\n",
       "      <th>95</th>\n",
       "      <td>Help with chip denominations and blinds?</td>\n",
       "      <td>poker</td>\n",
       "      <td>Playing a friendly game between friends (4 of ...</td>\n",
       "      <td>1601203176</td>\n",
       "    </tr>\n",
       "    <tr>\n",
       "      <th>96</th>\n",
       "      <td>MP who reshoved had 100+BB and i had 70BB on t...</td>\n",
       "      <td>poker</td>\n",
       "      <td></td>\n",
       "      <td>1601197576</td>\n",
       "    </tr>\n",
       "    <tr>\n",
       "      <th>97</th>\n",
       "      <td>What do you do in this situation</td>\n",
       "      <td>poker</td>\n",
       "      <td>I have AdQd in middle position (6 person cash ...</td>\n",
       "      <td>1601192473</td>\n",
       "    </tr>\n",
       "    <tr>\n",
       "      <th>98</th>\n",
       "      <td>HUNL against an opponent who always seems to h...</td>\n",
       "      <td>poker</td>\n",
       "      <td>Any tips for HUNL against an opponent who seem...</td>\n",
       "      <td>1601191875</td>\n",
       "    </tr>\n",
       "    <tr>\n",
       "      <th>99</th>\n",
       "      <td>Heads-Up Advice.</td>\n",
       "      <td>poker</td>\n",
       "      <td>Hey everyone, so i’m a casual poker player, bu...</td>\n",
       "      <td>1601184366</td>\n",
       "    </tr>\n",
       "  </tbody>\n",
       "</table>\n",
       "<p>1000 rows × 4 columns</p>\n",
       "</div>"
      ],
      "text/plain": [
       "                                                title subreddit  \\\n",
       "0   I completely butchered this hand. Villain had ...     poker   \n",
       "1                                     Poker in Poland     poker   \n",
       "2   What's the most profitable way to exchange tou...     poker   \n",
       "3                      Hand reading vs weak opponent!     poker   \n",
       "4   When I'm trying to divide my range on the flop...     poker   \n",
       "..                                                ...       ...   \n",
       "95           Help with chip denominations and blinds?     poker   \n",
       "96  MP who reshoved had 100+BB and i had 70BB on t...     poker   \n",
       "97                   What do you do in this situation     poker   \n",
       "98  HUNL against an opponent who always seems to h...     poker   \n",
       "99                                   Heads-Up Advice.     poker   \n",
       "\n",
       "                                             selftext created_utc  \n",
       "0                                                      1602767797  \n",
       "1   Are there live poker rooms in Poland? I know o...  1602767632  \n",
       "2   I have several thousand bucks tournament money...  1602765918  \n",
       "3                                                      1602764506  \n",
       "4                                         Thank you:)  1602764486  \n",
       "..                                                ...         ...  \n",
       "95  Playing a friendly game between friends (4 of ...  1601203176  \n",
       "96                                                     1601197576  \n",
       "97  I have AdQd in middle position (6 person cash ...  1601192473  \n",
       "98  Any tips for HUNL against an opponent who seem...  1601191875  \n",
       "99  Hey everyone, so i’m a casual poker player, bu...  1601184366  \n",
       "\n",
       "[1000 rows x 4 columns]"
      ]
     },
     "execution_count": 47,
     "metadata": {},
     "output_type": "execute_result"
    }
   ],
   "source": [
    "# print out a poker df\n",
    "posts_master_poker"
   ]
  },
  {
   "cell_type": "code",
   "execution_count": 48,
   "metadata": {},
   "outputs": [
    {
     "data": {
      "text/plain": [
       "1601184366"
      ]
     },
     "execution_count": 48,
     "metadata": {},
     "output_type": "execute_result"
    }
   ],
   "source": [
    "# minimum value of created utc column\n",
    "posts_master_poker['created_utc'].min()"
   ]
  },
  {
   "cell_type": "markdown",
   "metadata": {},
   "source": [
    "<a class=\"anchor\" id=\"concat\"></a>"
   ]
  },
  {
   "cell_type": "markdown",
   "metadata": {},
   "source": [
    "### Combine Dataframes"
   ]
  },
  {
   "cell_type": "code",
   "execution_count": null,
   "metadata": {},
   "outputs": [],
   "source": [
    "# concatenate 'chess' and 'poker' subreddit dataframes\n",
    "df = pd.concat([posts_master, posts_master_poker], ignore_index = False, sort=False)"
   ]
  },
  {
   "cell_type": "code",
   "execution_count": null,
   "metadata": {},
   "outputs": [],
   "source": [
    "# save df to a csv file\n",
    "df.to_csv('data/combined_df.csv')"
   ]
  }
 ],
 "metadata": {
  "kernelspec": {
   "display_name": "Python 3",
   "language": "python",
   "name": "python3"
  },
  "language_info": {
   "codemirror_mode": {
    "name": "ipython",
    "version": 3
   },
   "file_extension": ".py",
   "mimetype": "text/x-python",
   "name": "python",
   "nbconvert_exporter": "python",
   "pygments_lexer": "ipython3",
   "version": "3.8.5"
  }
 },
 "nbformat": 4,
 "nbformat_minor": 4
}
