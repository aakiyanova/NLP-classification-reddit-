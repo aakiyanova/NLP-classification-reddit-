{
 "cells": [
  {
   "cell_type": "markdown",
   "metadata": {},
   "source": [
    "## Project 3: Web API's and NLP"
   ]
  },
  {
   "cell_type": "markdown",
   "metadata": {},
   "source": [
    "## Model and Predictions"
   ]
  },
  {
   "cell_type": "markdown",
   "metadata": {},
   "source": [
    "### Contents:\n",
    "\n",
    "- [Model Comparison and Summary](#summary)\n",
    "- [Baseline Model](#baseline)\n",
    "- [1. CountVectorizer / Naive Bayes](#cv/nb)\n",
    "- [2. Lemmatizer / Naive Bayes](#lem/nb)\n",
    "- [3. Logistic Regression](#lr)\n",
    "- [4. Random Forest](#forest)\n",
    "- [5. KNeighbors Classifier](#knn)\n",
    "- [6. SVC](#svc)"
   ]
  },
  {
   "cell_type": "code",
   "execution_count": 31,
   "metadata": {},
   "outputs": [],
   "source": [
    "# imports\n",
    "import numpy as np\n",
    "import pandas as pd\n",
    "import matplotlib.pyplot as plt\n",
    "from sklearn.model_selection import train_test_split, GridSearchCV\n",
    "from sklearn.pipeline import make_pipeline\n",
    "from sklearn.preprocessing import StandardScaler\n",
    "from sklearn.linear_model import LogisticRegression\n",
    "from sklearn.feature_extraction.text import CountVectorizer\n",
    "from sklearn.naive_bayes import MultinomialNB\n",
    "from sklearn.ensemble import RandomForestClassifier \n",
    "from sklearn.metrics import balanced_accuracy_score, f1_score, recall_score\n",
    "from sklearn.neighbors import KNeighborsClassifier\n",
    "from sklearn.svm import SVC\n",
    "from sklearn.naive_bayes import MultinomialNB\n",
    "from nltk.stem import WordNetLemmatizer\n",
    "from sklearn.metrics import plot_confusion_matrix"
   ]
  },
  {
   "cell_type": "code",
   "execution_count": 6,
   "metadata": {},
   "outputs": [],
   "source": [
    "# read the csv file\n",
    "df = pd.read_csv('data/clean_combined.csv')"
   ]
  },
  {
   "cell_type": "code",
   "execution_count": 38,
   "metadata": {},
   "outputs": [],
   "source": [
    "df['subreddit'].replace({'chess': 1, 'poker': 0}, inplace = True)"
   ]
  },
  {
   "cell_type": "markdown",
   "metadata": {},
   "source": [
    "<a class=\"anchor\" id=\"summary\"></a>"
   ]
  },
  {
   "cell_type": "markdown",
   "metadata": {},
   "source": [
    "### Model Comparison and Summary"
   ]
  },
  {
   "cell_type": "markdown",
   "metadata": {},
   "source": [
    "| Model | Accuracy | F1 Score | Recall|\n",
    "|-------|----------|----------|-------|\n",
    "| Lemmatizer / Naive Bayes | 0.93 | 0.92 | 0.94 |\n",
    "| CountVectorizer / StandardScaler / SVC | 0.9 | 0.89 | 0.87 |\n",
    "| CountVectorizer / Naive Bayes | 0.83 | 0.79 | 0.69 |\n",
    "| CountVectorizer / StandardScaler / Logistic Regression | 0.82 | 0.78 | 0.66 |\n",
    "| CountVectorizer / StandardScaler / KNeighbors Classifier | 0.78 | 0.77 | 0.73 |\n",
    "| CountVectorizer / Random Forest | 0.77 | 0.70 | 0.55 |\n"
   ]
  },
  {
   "cell_type": "markdown",
   "metadata": {},
   "source": [
    "<a class=\"anchor\" id=\"baseline\"></a>"
   ]
  },
  {
   "cell_type": "markdown",
   "metadata": {},
   "source": [
    "## Null Model / Baseline"
   ]
  },
  {
   "cell_type": "code",
   "execution_count": 39,
   "metadata": {},
   "outputs": [
    {
     "data": {
      "text/plain": [
       "0    0.519231\n",
       "1    0.480769\n",
       "Name: subreddit, dtype: float64"
      ]
     },
     "execution_count": 39,
     "metadata": {},
     "output_type": "execute_result"
    }
   ],
   "source": [
    "# value composition in the target column\n",
    "df['subreddit'].value_counts(normalize = True)"
   ]
  },
  {
   "cell_type": "markdown",
   "metadata": {},
   "source": [
    "#### Train Test Split"
   ]
  },
  {
   "cell_type": "code",
   "execution_count": 40,
   "metadata": {},
   "outputs": [],
   "source": [
    "# define X and y\n",
    "X = df['title']\n",
    "y = df['subreddit']"
   ]
  },
  {
   "cell_type": "code",
   "execution_count": 41,
   "metadata": {},
   "outputs": [],
   "source": [
    "# train test split\n",
    "X_train, X_test, y_train, y_test = train_test_split(X, y, random_state = 123)"
   ]
  },
  {
   "cell_type": "markdown",
   "metadata": {},
   "source": [
    "<a class=\"anchor\" id=\"cv/nb\"></a>"
   ]
  },
  {
   "cell_type": "markdown",
   "metadata": {},
   "source": [
    "## 1. Naive Bayes"
   ]
  },
  {
   "cell_type": "code",
   "execution_count": 42,
   "metadata": {},
   "outputs": [],
   "source": [
    "# instantiate a pipe\n",
    "pipe_nb = make_pipeline(CountVectorizer(stop_words = 'english', ngram_range = (2,2)), MultinomialNB())"
   ]
  },
  {
   "cell_type": "code",
   "execution_count": 43,
   "metadata": {},
   "outputs": [
    {
     "data": {
      "text/plain": [
       "Pipeline(steps=[('countvectorizer',\n",
       "                 CountVectorizer(ngram_range=(2, 2), stop_words='english')),\n",
       "                ('multinomialnb', MultinomialNB())])"
      ]
     },
     "execution_count": 43,
     "metadata": {},
     "output_type": "execute_result"
    }
   ],
   "source": [
    "# fit the data\n",
    "pipe_nb.fit(X_train, y_train)"
   ]
  },
  {
   "cell_type": "markdown",
   "metadata": {},
   "source": [
    "#### Accuracy score on the train and the test data"
   ]
  },
  {
   "cell_type": "code",
   "execution_count": 44,
   "metadata": {},
   "outputs": [
    {
     "data": {
      "text/plain": [
       "0.9774358974358974"
      ]
     },
     "execution_count": 44,
     "metadata": {},
     "output_type": "execute_result"
    }
   ],
   "source": [
    "# score on the train data\n",
    "pipe_nb.score(X_train, y_train)"
   ]
  },
  {
   "cell_type": "code",
   "execution_count": 45,
   "metadata": {},
   "outputs": [
    {
     "data": {
      "text/plain": [
       "0.8257692307692308"
      ]
     },
     "execution_count": 45,
     "metadata": {},
     "output_type": "execute_result"
    }
   ],
   "source": [
    "# score on the test data\n",
    "pipe_nb.score(X_test, y_test)"
   ]
  },
  {
   "cell_type": "markdown",
   "metadata": {},
   "source": [
    "#### F1 score on the train and the test data"
   ]
  },
  {
   "cell_type": "code",
   "execution_count": 86,
   "metadata": {},
   "outputs": [
    {
     "data": {
      "text/plain": [
       "0.9759890859481583"
      ]
     },
     "execution_count": 86,
     "metadata": {},
     "output_type": "execute_result"
    }
   ],
   "source": [
    "# f1 score on the train data\n",
    "f1_score(y_train, pipe_nb.predict(X_train))"
   ]
  },
  {
   "cell_type": "code",
   "execution_count": 87,
   "metadata": {},
   "outputs": [
    {
     "data": {
      "text/plain": [
       "0.7938097405553027"
      ]
     },
     "execution_count": 87,
     "metadata": {},
     "output_type": "execute_result"
    }
   ],
   "source": [
    "# f1 score on the test data\n",
    "f1_score(y_test, pipe_nb.predict(X_test))"
   ]
  },
  {
   "cell_type": "markdown",
   "metadata": {},
   "source": [
    "#### Recall score on the train and the test data"
   ]
  },
  {
   "cell_type": "code",
   "execution_count": 88,
   "metadata": {},
   "outputs": [
    {
     "data": {
      "text/plain": [
       "0.9561614541566426"
      ]
     },
     "execution_count": 88,
     "metadata": {},
     "output_type": "execute_result"
    }
   ],
   "source": [
    "# recall score on the train data\n",
    "recall_score(y_train, pipe_nb.predict(X_train))"
   ]
  },
  {
   "cell_type": "code",
   "execution_count": 89,
   "metadata": {},
   "outputs": [
    {
     "data": {
      "text/plain": [
       "0.6926131850675139"
      ]
     },
     "execution_count": 89,
     "metadata": {},
     "output_type": "execute_result"
    }
   ],
   "source": [
    "# recall score on the test data\n",
    "recall_score(y_test, pipe_nb.predict(X_test))"
   ]
  },
  {
   "cell_type": "markdown",
   "metadata": {},
   "source": [
    "<a class=\"anchor\" id=\"lem/nb\"></a>"
   ]
  },
  {
   "cell_type": "markdown",
   "metadata": {},
   "source": [
    "## 2. Naive Bayes with lemmatizing"
   ]
  },
  {
   "cell_type": "code",
   "execution_count": 119,
   "metadata": {},
   "outputs": [],
   "source": [
    "# define a function that return a lowercase lemmatized list of words\n",
    "def split_lemmatize(text):\n",
    "    text_lower = text.lower()\n",
    "    lemmatizer = WordNetLemmatizer()\n",
    "    return ' '.join([lemmatizer.lemmatize(x) for x in text_lower.split()])"
   ]
  },
  {
   "cell_type": "code",
   "execution_count": 120,
   "metadata": {},
   "outputs": [],
   "source": [
    "# make a pipe with lemmatizer function\n",
    "pipe_lem = make_pipeline(CountVectorizer(preprocessor = split_lemmatize, ngram_range = (2,2)), MultinomialNB())"
   ]
  },
  {
   "cell_type": "code",
   "execution_count": 49,
   "metadata": {},
   "outputs": [
    {
     "data": {
      "text/plain": [
       "Pipeline(steps=[('countvectorizer',\n",
       "                 CountVectorizer(ngram_range=(2, 2),\n",
       "                                 preprocessor=<function split_lemmatize at 0x00000216D09BC1F0>)),\n",
       "                ('multinomialnb', MultinomialNB())])"
      ]
     },
     "execution_count": 49,
     "metadata": {},
     "output_type": "execute_result"
    }
   ],
   "source": [
    "# fit the data\n",
    "pipe_lem.fit(X_train, y_train)"
   ]
  },
  {
   "cell_type": "code",
   "execution_count": 50,
   "metadata": {},
   "outputs": [
    {
     "data": {
      "text/plain": [
       "0.9862820512820513"
      ]
     },
     "execution_count": 50,
     "metadata": {},
     "output_type": "execute_result"
    }
   ],
   "source": [
    "# score on the train data\n",
    "pipe_lem.score(X_train, y_train)"
   ]
  },
  {
   "cell_type": "code",
   "execution_count": 51,
   "metadata": {},
   "outputs": [
    {
     "data": {
      "text/plain": [
       "0.8661538461538462"
      ]
     },
     "execution_count": 51,
     "metadata": {},
     "output_type": "execute_result"
    }
   ],
   "source": [
    "# score on the test data\n",
    "pipe_lem.score(X_test, y_test)"
   ]
  },
  {
   "cell_type": "code",
   "execution_count": 121,
   "metadata": {},
   "outputs": [],
   "source": [
    "params_lem = {\n",
    "            'countvectorizer__max_features': [100, 500, 1000, 10_000,],\n",
    "            'countvectorizer__ngram_range': [(1,1), (2,2), (3,3)],\n",
    "            'countvectorizer__stop_words': ['english', None],\n",
    "            'multinomialnb__alpha': [0.01, 0.1, 1, 5, 10]\n",
    "}"
   ]
  },
  {
   "cell_type": "code",
   "execution_count": 122,
   "metadata": {},
   "outputs": [],
   "source": [
    "# start a gridsearch\n",
    "grid_lem = GridSearchCV(pipe_lem, param_grid = params_lem, n_jobs = -1)"
   ]
  },
  {
   "cell_type": "code",
   "execution_count": 123,
   "metadata": {},
   "outputs": [
    {
     "data": {
      "text/plain": [
       "GridSearchCV(estimator=Pipeline(steps=[('countvectorizer',\n",
       "                                        CountVectorizer(ngram_range=(2, 2),\n",
       "                                                        preprocessor=<function split_lemmatize at 0x00000216D456F280>)),\n",
       "                                       ('multinomialnb', MultinomialNB())]),\n",
       "             n_jobs=-1,\n",
       "             param_grid={'countvectorizer__max_features': [100, 500, 1000,\n",
       "                                                           10000],\n",
       "                         'countvectorizer__ngram_range': [(1, 1), (2, 2),\n",
       "                                                          (3, 3)],\n",
       "                         'countvectorizer__stop_words': ['english', None],\n",
       "                         'multinomialnb__alpha': [0.01, 0.1, 1, 5, 10]})"
      ]
     },
     "execution_count": 123,
     "metadata": {},
     "output_type": "execute_result"
    }
   ],
   "source": [
    "# fit the data\n",
    "grid_lem.fit(X_train, y_train)"
   ]
  },
  {
   "cell_type": "markdown",
   "metadata": {},
   "source": [
    "#### Accuracy score on the train and the test data"
   ]
  },
  {
   "cell_type": "code",
   "execution_count": 124,
   "metadata": {},
   "outputs": [
    {
     "data": {
      "text/plain": [
       "0.9624358974358974"
      ]
     },
     "execution_count": 124,
     "metadata": {},
     "output_type": "execute_result"
    }
   ],
   "source": [
    "# score on the train data\n",
    "grid_lem.score(X_train, y_train)"
   ]
  },
  {
   "cell_type": "code",
   "execution_count": 125,
   "metadata": {},
   "outputs": [
    {
     "data": {
      "text/plain": [
       "0.9253846153846154"
      ]
     },
     "execution_count": 125,
     "metadata": {},
     "output_type": "execute_result"
    }
   ],
   "source": [
    "# accuracy score on the test data\n",
    "grid_lem.score(X_test, y_test)"
   ]
  },
  {
   "cell_type": "markdown",
   "metadata": {},
   "source": [
    "#### F1 score on the train and the test data"
   ]
  },
  {
   "cell_type": "code",
   "execution_count": 126,
   "metadata": {},
   "outputs": [
    {
     "data": {
      "text/plain": [
       "0.9611663353214048"
      ]
     },
     "execution_count": 126,
     "metadata": {},
     "output_type": "execute_result"
    }
   ],
   "source": [
    "# f1 score on the train data\n",
    "f1_score(y_train, grid_lem.predict(X_train))"
   ]
  },
  {
   "cell_type": "code",
   "execution_count": 127,
   "metadata": {},
   "outputs": [
    {
     "data": {
      "text/plain": [
       "0.92421875"
      ]
     },
     "execution_count": 127,
     "metadata": {},
     "output_type": "execute_result"
    }
   ],
   "source": [
    "f1_score(y_test, grid_lem.predict(X_test))"
   ]
  },
  {
   "cell_type": "markdown",
   "metadata": {},
   "source": [
    "#### Recall score on the train and the test data"
   ]
  },
  {
   "cell_type": "code",
   "execution_count": 128,
   "metadata": {},
   "outputs": [
    {
     "data": {
      "text/plain": [
       "0.9692595562683775"
      ]
     },
     "execution_count": 128,
     "metadata": {},
     "output_type": "execute_result"
    }
   ],
   "source": [
    "recall_score(y_train, grid_lem.predict(X_train))"
   ]
  },
  {
   "cell_type": "code",
   "execution_count": 129,
   "metadata": {},
   "outputs": [
    {
     "data": {
      "text/plain": [
       "0.9396346306592533"
      ]
     },
     "execution_count": 129,
     "metadata": {},
     "output_type": "execute_result"
    }
   ],
   "source": [
    "recall_score(y_test, grid_lem.predict(X_test))"
   ]
  },
  {
   "cell_type": "code",
   "execution_count": 130,
   "metadata": {},
   "outputs": [
    {
     "data": {
      "text/plain": [
       "{'countvectorizer__max_features': 10000,\n",
       " 'countvectorizer__ngram_range': (1, 1),\n",
       " 'countvectorizer__stop_words': None,\n",
       " 'multinomialnb__alpha': 1}"
      ]
     },
     "execution_count": 130,
     "metadata": {},
     "output_type": "execute_result"
    }
   ],
   "source": [
    "# see what were the best parameters\n",
    "grid_lem.best_params_"
   ]
  },
  {
   "cell_type": "code",
   "execution_count": 131,
   "metadata": {},
   "outputs": [
    {
     "data": {
      "text/html": [
       "<div>\n",
       "<style scoped>\n",
       "    .dataframe tbody tr th:only-of-type {\n",
       "        vertical-align: middle;\n",
       "    }\n",
       "\n",
       "    .dataframe tbody tr th {\n",
       "        vertical-align: top;\n",
       "    }\n",
       "\n",
       "    .dataframe thead th {\n",
       "        text-align: right;\n",
       "    }\n",
       "</style>\n",
       "<table border=\"1\" class=\"dataframe\">\n",
       "  <thead>\n",
       "    <tr style=\"text-align: right;\">\n",
       "      <th></th>\n",
       "      <th>mean_fit_time</th>\n",
       "      <th>std_fit_time</th>\n",
       "      <th>mean_score_time</th>\n",
       "      <th>std_score_time</th>\n",
       "      <th>param_countvectorizer__max_features</th>\n",
       "      <th>param_countvectorizer__ngram_range</th>\n",
       "      <th>param_countvectorizer__stop_words</th>\n",
       "      <th>param_multinomialnb__alpha</th>\n",
       "      <th>params</th>\n",
       "      <th>split0_test_score</th>\n",
       "      <th>split1_test_score</th>\n",
       "      <th>split2_test_score</th>\n",
       "      <th>split3_test_score</th>\n",
       "      <th>split4_test_score</th>\n",
       "      <th>mean_test_score</th>\n",
       "      <th>std_test_score</th>\n",
       "      <th>rank_test_score</th>\n",
       "    </tr>\n",
       "  </thead>\n",
       "  <tbody>\n",
       "    <tr>\n",
       "      <th>24</th>\n",
       "      <td>1.185946</td>\n",
       "      <td>0.041912</td>\n",
       "      <td>0.267652</td>\n",
       "      <td>0.040514</td>\n",
       "      <td>100</td>\n",
       "      <td>(3, 3)</td>\n",
       "      <td>english</td>\n",
       "      <td>10</td>\n",
       "      <td>{'countvectorizer__max_features': 100, 'countv...</td>\n",
       "      <td>0.542949</td>\n",
       "      <td>0.534615</td>\n",
       "      <td>0.544872</td>\n",
       "      <td>0.537821</td>\n",
       "      <td>0.542949</td>\n",
       "      <td>0.540641</td>\n",
       "      <td>0.003816</td>\n",
       "      <td>120</td>\n",
       "    </tr>\n",
       "    <tr>\n",
       "      <th>20</th>\n",
       "      <td>1.240702</td>\n",
       "      <td>0.039204</td>\n",
       "      <td>0.303857</td>\n",
       "      <td>0.021246</td>\n",
       "      <td>100</td>\n",
       "      <td>(3, 3)</td>\n",
       "      <td>english</td>\n",
       "      <td>0.01</td>\n",
       "      <td>{'countvectorizer__max_features': 100, 'countv...</td>\n",
       "      <td>0.542949</td>\n",
       "      <td>0.534615</td>\n",
       "      <td>0.544872</td>\n",
       "      <td>0.537821</td>\n",
       "      <td>0.543590</td>\n",
       "      <td>0.540769</td>\n",
       "      <td>0.003901</td>\n",
       "      <td>116</td>\n",
       "    </tr>\n",
       "    <tr>\n",
       "      <th>23</th>\n",
       "      <td>1.209662</td>\n",
       "      <td>0.073081</td>\n",
       "      <td>0.278436</td>\n",
       "      <td>0.018902</td>\n",
       "      <td>100</td>\n",
       "      <td>(3, 3)</td>\n",
       "      <td>english</td>\n",
       "      <td>5</td>\n",
       "      <td>{'countvectorizer__max_features': 100, 'countv...</td>\n",
       "      <td>0.542949</td>\n",
       "      <td>0.534615</td>\n",
       "      <td>0.544872</td>\n",
       "      <td>0.537821</td>\n",
       "      <td>0.543590</td>\n",
       "      <td>0.540769</td>\n",
       "      <td>0.003901</td>\n",
       "      <td>116</td>\n",
       "    </tr>\n",
       "    <tr>\n",
       "      <th>22</th>\n",
       "      <td>1.228408</td>\n",
       "      <td>0.048342</td>\n",
       "      <td>0.264648</td>\n",
       "      <td>0.014892</td>\n",
       "      <td>100</td>\n",
       "      <td>(3, 3)</td>\n",
       "      <td>english</td>\n",
       "      <td>1</td>\n",
       "      <td>{'countvectorizer__max_features': 100, 'countv...</td>\n",
       "      <td>0.542949</td>\n",
       "      <td>0.534615</td>\n",
       "      <td>0.544872</td>\n",
       "      <td>0.537821</td>\n",
       "      <td>0.543590</td>\n",
       "      <td>0.540769</td>\n",
       "      <td>0.003901</td>\n",
       "      <td>116</td>\n",
       "    </tr>\n",
       "    <tr>\n",
       "      <th>21</th>\n",
       "      <td>1.241599</td>\n",
       "      <td>0.027012</td>\n",
       "      <td>0.275663</td>\n",
       "      <td>0.010064</td>\n",
       "      <td>100</td>\n",
       "      <td>(3, 3)</td>\n",
       "      <td>english</td>\n",
       "      <td>0.10</td>\n",
       "      <td>{'countvectorizer__max_features': 100, 'countv...</td>\n",
       "      <td>0.542949</td>\n",
       "      <td>0.534615</td>\n",
       "      <td>0.544872</td>\n",
       "      <td>0.537821</td>\n",
       "      <td>0.543590</td>\n",
       "      <td>0.540769</td>\n",
       "      <td>0.003901</td>\n",
       "      <td>116</td>\n",
       "    </tr>\n",
       "    <tr>\n",
       "      <th>...</th>\n",
       "      <td>...</td>\n",
       "      <td>...</td>\n",
       "      <td>...</td>\n",
       "      <td>...</td>\n",
       "      <td>...</td>\n",
       "      <td>...</td>\n",
       "      <td>...</td>\n",
       "      <td>...</td>\n",
       "      <td>...</td>\n",
       "      <td>...</td>\n",
       "      <td>...</td>\n",
       "      <td>...</td>\n",
       "      <td>...</td>\n",
       "      <td>...</td>\n",
       "      <td>...</td>\n",
       "      <td>...</td>\n",
       "      <td>...</td>\n",
       "    </tr>\n",
       "    <tr>\n",
       "      <th>95</th>\n",
       "      <td>3.784048</td>\n",
       "      <td>0.184085</td>\n",
       "      <td>0.957294</td>\n",
       "      <td>0.076628</td>\n",
       "      <td>10000</td>\n",
       "      <td>(1, 1)</td>\n",
       "      <td>None</td>\n",
       "      <td>0.01</td>\n",
       "      <td>{'countvectorizer__max_features': 10000, 'coun...</td>\n",
       "      <td>0.923077</td>\n",
       "      <td>0.930769</td>\n",
       "      <td>0.927564</td>\n",
       "      <td>0.925641</td>\n",
       "      <td>0.933333</td>\n",
       "      <td>0.928077</td>\n",
       "      <td>0.003635</td>\n",
       "      <td>5</td>\n",
       "    </tr>\n",
       "    <tr>\n",
       "      <th>91</th>\n",
       "      <td>2.343962</td>\n",
       "      <td>0.105065</td>\n",
       "      <td>0.617520</td>\n",
       "      <td>0.059442</td>\n",
       "      <td>10000</td>\n",
       "      <td>(1, 1)</td>\n",
       "      <td>english</td>\n",
       "      <td>0.10</td>\n",
       "      <td>{'countvectorizer__max_features': 10000, 'coun...</td>\n",
       "      <td>0.920513</td>\n",
       "      <td>0.933974</td>\n",
       "      <td>0.932051</td>\n",
       "      <td>0.926282</td>\n",
       "      <td>0.933974</td>\n",
       "      <td>0.929359</td>\n",
       "      <td>0.005245</td>\n",
       "      <td>4</td>\n",
       "    </tr>\n",
       "    <tr>\n",
       "      <th>92</th>\n",
       "      <td>2.607534</td>\n",
       "      <td>0.409710</td>\n",
       "      <td>0.786538</td>\n",
       "      <td>0.183913</td>\n",
       "      <td>10000</td>\n",
       "      <td>(1, 1)</td>\n",
       "      <td>english</td>\n",
       "      <td>1</td>\n",
       "      <td>{'countvectorizer__max_features': 10000, 'coun...</td>\n",
       "      <td>0.923077</td>\n",
       "      <td>0.933333</td>\n",
       "      <td>0.937179</td>\n",
       "      <td>0.926923</td>\n",
       "      <td>0.935256</td>\n",
       "      <td>0.931154</td>\n",
       "      <td>0.005311</td>\n",
       "      <td>3</td>\n",
       "    </tr>\n",
       "    <tr>\n",
       "      <th>96</th>\n",
       "      <td>3.706997</td>\n",
       "      <td>0.285641</td>\n",
       "      <td>0.658839</td>\n",
       "      <td>0.247925</td>\n",
       "      <td>10000</td>\n",
       "      <td>(1, 1)</td>\n",
       "      <td>None</td>\n",
       "      <td>0.10</td>\n",
       "      <td>{'countvectorizer__max_features': 10000, 'coun...</td>\n",
       "      <td>0.927564</td>\n",
       "      <td>0.935256</td>\n",
       "      <td>0.931410</td>\n",
       "      <td>0.932051</td>\n",
       "      <td>0.937821</td>\n",
       "      <td>0.932821</td>\n",
       "      <td>0.003497</td>\n",
       "      <td>2</td>\n",
       "    </tr>\n",
       "    <tr>\n",
       "      <th>97</th>\n",
       "      <td>3.336440</td>\n",
       "      <td>0.314246</td>\n",
       "      <td>0.577108</td>\n",
       "      <td>0.049339</td>\n",
       "      <td>10000</td>\n",
       "      <td>(1, 1)</td>\n",
       "      <td>None</td>\n",
       "      <td>1</td>\n",
       "      <td>{'countvectorizer__max_features': 10000, 'coun...</td>\n",
       "      <td>0.929487</td>\n",
       "      <td>0.931410</td>\n",
       "      <td>0.937821</td>\n",
       "      <td>0.927564</td>\n",
       "      <td>0.939103</td>\n",
       "      <td>0.933077</td>\n",
       "      <td>0.004580</td>\n",
       "      <td>1</td>\n",
       "    </tr>\n",
       "  </tbody>\n",
       "</table>\n",
       "<p>120 rows × 17 columns</p>\n",
       "</div>"
      ],
      "text/plain": [
       "    mean_fit_time  std_fit_time  mean_score_time  std_score_time  \\\n",
       "24       1.185946      0.041912         0.267652        0.040514   \n",
       "20       1.240702      0.039204         0.303857        0.021246   \n",
       "23       1.209662      0.073081         0.278436        0.018902   \n",
       "22       1.228408      0.048342         0.264648        0.014892   \n",
       "21       1.241599      0.027012         0.275663        0.010064   \n",
       "..            ...           ...              ...             ...   \n",
       "95       3.784048      0.184085         0.957294        0.076628   \n",
       "91       2.343962      0.105065         0.617520        0.059442   \n",
       "92       2.607534      0.409710         0.786538        0.183913   \n",
       "96       3.706997      0.285641         0.658839        0.247925   \n",
       "97       3.336440      0.314246         0.577108        0.049339   \n",
       "\n",
       "   param_countvectorizer__max_features param_countvectorizer__ngram_range  \\\n",
       "24                                 100                             (3, 3)   \n",
       "20                                 100                             (3, 3)   \n",
       "23                                 100                             (3, 3)   \n",
       "22                                 100                             (3, 3)   \n",
       "21                                 100                             (3, 3)   \n",
       "..                                 ...                                ...   \n",
       "95                               10000                             (1, 1)   \n",
       "91                               10000                             (1, 1)   \n",
       "92                               10000                             (1, 1)   \n",
       "96                               10000                             (1, 1)   \n",
       "97                               10000                             (1, 1)   \n",
       "\n",
       "   param_countvectorizer__stop_words param_multinomialnb__alpha  \\\n",
       "24                           english                         10   \n",
       "20                           english                       0.01   \n",
       "23                           english                          5   \n",
       "22                           english                          1   \n",
       "21                           english                       0.10   \n",
       "..                               ...                        ...   \n",
       "95                              None                       0.01   \n",
       "91                           english                       0.10   \n",
       "92                           english                          1   \n",
       "96                              None                       0.10   \n",
       "97                              None                          1   \n",
       "\n",
       "                                               params  split0_test_score  \\\n",
       "24  {'countvectorizer__max_features': 100, 'countv...           0.542949   \n",
       "20  {'countvectorizer__max_features': 100, 'countv...           0.542949   \n",
       "23  {'countvectorizer__max_features': 100, 'countv...           0.542949   \n",
       "22  {'countvectorizer__max_features': 100, 'countv...           0.542949   \n",
       "21  {'countvectorizer__max_features': 100, 'countv...           0.542949   \n",
       "..                                                ...                ...   \n",
       "95  {'countvectorizer__max_features': 10000, 'coun...           0.923077   \n",
       "91  {'countvectorizer__max_features': 10000, 'coun...           0.920513   \n",
       "92  {'countvectorizer__max_features': 10000, 'coun...           0.923077   \n",
       "96  {'countvectorizer__max_features': 10000, 'coun...           0.927564   \n",
       "97  {'countvectorizer__max_features': 10000, 'coun...           0.929487   \n",
       "\n",
       "    split1_test_score  split2_test_score  split3_test_score  \\\n",
       "24           0.534615           0.544872           0.537821   \n",
       "20           0.534615           0.544872           0.537821   \n",
       "23           0.534615           0.544872           0.537821   \n",
       "22           0.534615           0.544872           0.537821   \n",
       "21           0.534615           0.544872           0.537821   \n",
       "..                ...                ...                ...   \n",
       "95           0.930769           0.927564           0.925641   \n",
       "91           0.933974           0.932051           0.926282   \n",
       "92           0.933333           0.937179           0.926923   \n",
       "96           0.935256           0.931410           0.932051   \n",
       "97           0.931410           0.937821           0.927564   \n",
       "\n",
       "    split4_test_score  mean_test_score  std_test_score  rank_test_score  \n",
       "24           0.542949         0.540641        0.003816              120  \n",
       "20           0.543590         0.540769        0.003901              116  \n",
       "23           0.543590         0.540769        0.003901              116  \n",
       "22           0.543590         0.540769        0.003901              116  \n",
       "21           0.543590         0.540769        0.003901              116  \n",
       "..                ...              ...             ...              ...  \n",
       "95           0.933333         0.928077        0.003635                5  \n",
       "91           0.933974         0.929359        0.005245                4  \n",
       "92           0.935256         0.931154        0.005311                3  \n",
       "96           0.937821         0.932821        0.003497                2  \n",
       "97           0.939103         0.933077        0.004580                1  \n",
       "\n",
       "[120 rows x 17 columns]"
      ]
     },
     "execution_count": 131,
     "metadata": {},
     "output_type": "execute_result"
    }
   ],
   "source": [
    "# explore the dataframe of grid results\n",
    "pd.DataFrame(grid_lem.cv_results_).sort_values(by = 'mean_test_score')"
   ]
  },
  {
   "cell_type": "code",
   "execution_count": 132,
   "metadata": {},
   "outputs": [],
   "source": [
    "# get feature names\n",
    "features = grid_lem.best_estimator_.named_steps.countvectorizer.get_feature_names()"
   ]
  },
  {
   "cell_type": "code",
   "execution_count": 133,
   "metadata": {},
   "outputs": [
    {
     "name": "stderr",
     "output_type": "stream",
     "text": [
      "c:\\users\\anel akiyanova\\anaconda3\\envs\\new\\lib\\site-packages\\sklearn\\utils\\deprecation.py:101: FutureWarning: Attribute coef_ was deprecated in version 0.24 and will be removed in 1.1 (renaming of 0.26).\n",
      "  warnings.warn(msg, category=FutureWarning)\n"
     ]
    }
   ],
   "source": [
    "# coefficients\n",
    "coefs = grid_lem.best_estimator_.named_steps['multinomialnb'].coef_"
   ]
  },
  {
   "cell_type": "code",
   "execution_count": 142,
   "metadata": {},
   "outputs": [],
   "source": [
    "coefs_df = pd.DataFrame({'coefs': coefs[0], 'names': features}).sort_values(by = 'coefs', ascending = False).head(30)"
   ]
  },
  {
   "cell_type": "code",
   "execution_count": 143,
   "metadata": {},
   "outputs": [
    {
     "data": {
      "text/html": [
       "<div>\n",
       "<style scoped>\n",
       "    .dataframe tbody tr th:only-of-type {\n",
       "        vertical-align: middle;\n",
       "    }\n",
       "\n",
       "    .dataframe tbody tr th {\n",
       "        vertical-align: top;\n",
       "    }\n",
       "\n",
       "    .dataframe thead th {\n",
       "        text-align: right;\n",
       "    }\n",
       "</style>\n",
       "<table border=\"1\" class=\"dataframe\">\n",
       "  <thead>\n",
       "    <tr style=\"text-align: right;\">\n",
       "      <th></th>\n",
       "      <th>coefs</th>\n",
       "      <th>names</th>\n",
       "    </tr>\n",
       "  </thead>\n",
       "  <tbody>\n",
       "    <tr>\n",
       "      <th>6585</th>\n",
       "      <td>-3.540704</td>\n",
       "      <td>to</td>\n",
       "    </tr>\n",
       "    <tr>\n",
       "      <th>6493</th>\n",
       "      <td>-3.668170</td>\n",
       "      <td>the</td>\n",
       "    </tr>\n",
       "    <tr>\n",
       "      <th>1521</th>\n",
       "      <td>-3.789504</td>\n",
       "      <td>chess</td>\n",
       "    </tr>\n",
       "    <tr>\n",
       "      <th>3362</th>\n",
       "      <td>-3.942871</td>\n",
       "      <td>in</td>\n",
       "    </tr>\n",
       "    <tr>\n",
       "      <th>707</th>\n",
       "      <td>-4.160268</td>\n",
       "      <td>and</td>\n",
       "    </tr>\n",
       "    <tr>\n",
       "      <th>6517</th>\n",
       "      <td>-4.190741</td>\n",
       "      <td>this</td>\n",
       "    </tr>\n",
       "    <tr>\n",
       "      <th>4261</th>\n",
       "      <td>-4.241220</td>\n",
       "      <td>move</td>\n",
       "    </tr>\n",
       "    <tr>\n",
       "      <th>3503</th>\n",
       "      <td>-4.348885</td>\n",
       "      <td>is</td>\n",
       "    </tr>\n",
       "    <tr>\n",
       "      <th>4291</th>\n",
       "      <td>-4.384094</td>\n",
       "      <td>my</td>\n",
       "    </tr>\n",
       "    <tr>\n",
       "      <th>2859</th>\n",
       "      <td>-4.465844</td>\n",
       "      <td>game</td>\n",
       "    </tr>\n",
       "    <tr>\n",
       "      <th>2739</th>\n",
       "      <td>-4.579469</td>\n",
       "      <td>for</td>\n",
       "    </tr>\n",
       "    <tr>\n",
       "      <th>4522</th>\n",
       "      <td>-4.596206</td>\n",
       "      <td>of</td>\n",
       "    </tr>\n",
       "    <tr>\n",
       "      <th>3515</th>\n",
       "      <td>-4.643731</td>\n",
       "      <td>it</td>\n",
       "    </tr>\n",
       "    <tr>\n",
       "      <th>7051</th>\n",
       "      <td>-4.710041</td>\n",
       "      <td>white</td>\n",
       "    </tr>\n",
       "    <tr>\n",
       "      <th>4036</th>\n",
       "      <td>-4.786152</td>\n",
       "      <td>mate</td>\n",
       "    </tr>\n",
       "    <tr>\n",
       "      <th>4551</th>\n",
       "      <td>-4.849330</td>\n",
       "      <td>on</td>\n",
       "    </tr>\n",
       "    <tr>\n",
       "      <th>1125</th>\n",
       "      <td>-5.014410</td>\n",
       "      <td>black</td>\n",
       "    </tr>\n",
       "    <tr>\n",
       "      <th>3250</th>\n",
       "      <td>-5.043681</td>\n",
       "      <td>how</td>\n",
       "    </tr>\n",
       "    <tr>\n",
       "      <th>1364</th>\n",
       "      <td>-5.077241</td>\n",
       "      <td>can</td>\n",
       "    </tr>\n",
       "    <tr>\n",
       "      <th>7191</th>\n",
       "      <td>-5.084090</td>\n",
       "      <td>you</td>\n",
       "    </tr>\n",
       "    <tr>\n",
       "      <th>4854</th>\n",
       "      <td>-5.115506</td>\n",
       "      <td>play</td>\n",
       "    </tr>\n",
       "    <tr>\n",
       "      <th>7036</th>\n",
       "      <td>-5.122624</td>\n",
       "      <td>what</td>\n",
       "    </tr>\n",
       "    <tr>\n",
       "      <th>7094</th>\n",
       "      <td>-5.185259</td>\n",
       "      <td>with</td>\n",
       "    </tr>\n",
       "    <tr>\n",
       "      <th>7061</th>\n",
       "      <td>-5.224024</td>\n",
       "      <td>why</td>\n",
       "    </tr>\n",
       "    <tr>\n",
       "      <th>1318</th>\n",
       "      <td>-5.260245</td>\n",
       "      <td>but</td>\n",
       "    </tr>\n",
       "    <tr>\n",
       "      <th>1677</th>\n",
       "      <td>-5.289353</td>\n",
       "      <td>com</td>\n",
       "    </tr>\n",
       "    <tr>\n",
       "      <th>4062</th>\n",
       "      <td>-5.332463</td>\n",
       "      <td>me</td>\n",
       "    </tr>\n",
       "    <tr>\n",
       "      <th>6963</th>\n",
       "      <td>-5.341313</td>\n",
       "      <td>wa</td>\n",
       "    </tr>\n",
       "    <tr>\n",
       "      <th>6492</th>\n",
       "      <td>-5.429537</td>\n",
       "      <td>that</td>\n",
       "    </tr>\n",
       "    <tr>\n",
       "      <th>7076</th>\n",
       "      <td>-5.499918</td>\n",
       "      <td>win</td>\n",
       "    </tr>\n",
       "  </tbody>\n",
       "</table>\n",
       "</div>"
      ],
      "text/plain": [
       "         coefs  names\n",
       "6585 -3.540704     to\n",
       "6493 -3.668170    the\n",
       "1521 -3.789504  chess\n",
       "3362 -3.942871     in\n",
       "707  -4.160268    and\n",
       "6517 -4.190741   this\n",
       "4261 -4.241220   move\n",
       "3503 -4.348885     is\n",
       "4291 -4.384094     my\n",
       "2859 -4.465844   game\n",
       "2739 -4.579469    for\n",
       "4522 -4.596206     of\n",
       "3515 -4.643731     it\n",
       "7051 -4.710041  white\n",
       "4036 -4.786152   mate\n",
       "4551 -4.849330     on\n",
       "1125 -5.014410  black\n",
       "3250 -5.043681    how\n",
       "1364 -5.077241    can\n",
       "7191 -5.084090    you\n",
       "4854 -5.115506   play\n",
       "7036 -5.122624   what\n",
       "7094 -5.185259   with\n",
       "7061 -5.224024    why\n",
       "1318 -5.260245    but\n",
       "1677 -5.289353    com\n",
       "4062 -5.332463     me\n",
       "6963 -5.341313     wa\n",
       "6492 -5.429537   that\n",
       "7076 -5.499918    win"
      ]
     },
     "execution_count": 143,
     "metadata": {},
     "output_type": "execute_result"
    }
   ],
   "source": [
    "coefs_df"
   ]
  },
  {
   "cell_type": "code",
   "execution_count": 66,
   "metadata": {},
   "outputs": [
    {
     "data": {
      "image/png": "[encoded data removed]",
      "text/plain": [
       "<Figure size 432x288 with 2 Axes>"
      ]
     },
     "metadata": {
      "needs_background": "light"
     },
     "output_type": "display_data"
    }
   ],
   "source": [
    "# plot confusion matrix \n",
    "plot_confusion_matrix(grid_lem, X_test, y_test);"
   ]
  },
  {
   "cell_type": "markdown",
   "metadata": {},
   "source": [
    "<a class=\"anchor\" id=\"lr\"></a>"
   ]
  },
  {
   "cell_type": "markdown",
   "metadata": {},
   "source": [
    "## 3. Logistic Regession"
   ]
  },
  {
   "cell_type": "code",
   "execution_count": 67,
   "metadata": {},
   "outputs": [],
   "source": [
    "# instantiate a pipe\n",
    "pipe_lr = make_pipeline(CountVectorizer(stop_words = 'english', ngram_range = (2,2)), StandardScaler(with_mean = False), LogisticRegression())"
   ]
  },
  {
   "cell_type": "code",
   "execution_count": 68,
   "metadata": {},
   "outputs": [
    {
     "data": {
      "text/plain": [
       "Pipeline(steps=[('countvectorizer',\n",
       "                 CountVectorizer(ngram_range=(2, 2), stop_words='english')),\n",
       "                ('standardscaler', StandardScaler(with_mean=False)),\n",
       "                ('logisticregression', LogisticRegression())])"
      ]
     },
     "execution_count": 68,
     "metadata": {},
     "output_type": "execute_result"
    }
   ],
   "source": [
    "# fit the data\n",
    "pipe_lr.fit(X_train, y_train)"
   ]
  },
  {
   "cell_type": "markdown",
   "metadata": {},
   "source": [
    "#### Accuracy score on the train and the test data"
   ]
  },
  {
   "cell_type": "code",
   "execution_count": 69,
   "metadata": {},
   "outputs": [
    {
     "data": {
      "text/plain": [
       "0.9793589743589743"
      ]
     },
     "execution_count": 69,
     "metadata": {},
     "output_type": "execute_result"
    }
   ],
   "source": [
    "# score on the trian data\n",
    "pipe_lr.score(X_train, y_train)"
   ]
  },
  {
   "cell_type": "code",
   "execution_count": 70,
   "metadata": {},
   "outputs": [
    {
     "data": {
      "text/plain": [
       "0.816923076923077"
      ]
     },
     "execution_count": 70,
     "metadata": {},
     "output_type": "execute_result"
    }
   ],
   "source": [
    "# score on the test data\n",
    "pipe_lr.score(X_test, y_test)"
   ]
  },
  {
   "cell_type": "markdown",
   "metadata": {},
   "source": [
    "#### F1 score on the train and the test data"
   ]
  },
  {
   "cell_type": "code",
   "execution_count": 76,
   "metadata": {},
   "outputs": [
    {
     "data": {
      "text/plain": [
       "0.9780144749419636"
      ]
     },
     "execution_count": 76,
     "metadata": {},
     "output_type": "execute_result"
    }
   ],
   "source": [
    "# f1 score on the train data\n",
    "f1_score(y_train, pipe_lr.predict(X_train))"
   ]
  },
  {
   "cell_type": "code",
   "execution_count": 77,
   "metadata": {},
   "outputs": [
    {
     "data": {
      "text/plain": [
       "0.7783985102420857"
      ]
     },
     "execution_count": 77,
     "metadata": {},
     "output_type": "execute_result"
    }
   ],
   "source": [
    "# f1 score on the test data\n",
    "f1_score(y_test, pipe_lr.predict(X_test))"
   ]
  },
  {
   "cell_type": "markdown",
   "metadata": {},
   "source": [
    "#### Recall score on the train and the test data"
   ]
  },
  {
   "cell_type": "code",
   "execution_count": 78,
   "metadata": {},
   "outputs": [
    {
     "data": {
      "text/plain": [
       "0.9572306869820904"
      ]
     },
     "execution_count": 78,
     "metadata": {},
     "output_type": "execute_result"
    }
   ],
   "source": [
    "# recall score on the train data\n",
    "recall_score(y_train, pipe_lr.predict(X_train))"
   ]
  },
  {
   "cell_type": "code",
   "execution_count": 80,
   "metadata": {},
   "outputs": [
    {
     "data": {
      "text/plain": [
       "0.6640190627482129"
      ]
     },
     "execution_count": 80,
     "metadata": {},
     "output_type": "execute_result"
    }
   ],
   "source": [
    "# recall score on the test data\n",
    "recall_score(y_test, pipe_lr.predict(X_test))"
   ]
  },
  {
   "cell_type": "markdown",
   "metadata": {},
   "source": [
    "<a class=\"anchor\" id=\"forest\"></a>"
   ]
  },
  {
   "cell_type": "markdown",
   "metadata": {},
   "source": [
    "## 4. Random Forest Classifier"
   ]
  },
  {
   "cell_type": "code",
   "execution_count": 71,
   "metadata": {},
   "outputs": [],
   "source": [
    "# instantiate a pipe\n",
    "pipe_forest = make_pipeline(CountVectorizer(stop_words = 'english', ngram_range = (2,2)), RandomForestClassifier())"
   ]
  },
  {
   "cell_type": "code",
   "execution_count": 72,
   "metadata": {},
   "outputs": [
    {
     "data": {
      "text/plain": [
       "Pipeline(steps=[('countvectorizer',\n",
       "                 CountVectorizer(ngram_range=(2, 2), stop_words='english')),\n",
       "                ('randomforestclassifier', RandomForestClassifier())])"
      ]
     },
     "execution_count": 72,
     "metadata": {},
     "output_type": "execute_result"
    }
   ],
   "source": [
    "# fit the data\n",
    "pipe_forest.fit(X_train, y_train)"
   ]
  },
  {
   "cell_type": "markdown",
   "metadata": {},
   "source": [
    "#### Accuracy score on the train and the test data"
   ]
  },
  {
   "cell_type": "code",
   "execution_count": 73,
   "metadata": {},
   "outputs": [
    {
     "data": {
      "text/plain": [
       "0.9793589743589743"
      ]
     },
     "execution_count": 73,
     "metadata": {},
     "output_type": "execute_result"
    }
   ],
   "source": [
    "# score on the train data\n",
    "pipe_forest.score(X_train, y_train)"
   ]
  },
  {
   "cell_type": "code",
   "execution_count": 74,
   "metadata": {},
   "outputs": [
    {
     "data": {
      "text/plain": [
       "0.7742307692307693"
      ]
     },
     "execution_count": 74,
     "metadata": {},
     "output_type": "execute_result"
    }
   ],
   "source": [
    "# score on the test data\n",
    "pipe_forest.score(X_test, y_test)"
   ]
  },
  {
   "cell_type": "markdown",
   "metadata": {},
   "source": [
    "#### F1 score on the train and the test data"
   ]
  },
  {
   "cell_type": "code",
   "execution_count": 81,
   "metadata": {},
   "outputs": [
    {
     "data": {
      "text/plain": [
       "0.9780084687884169"
      ]
     },
     "execution_count": 81,
     "metadata": {},
     "output_type": "execute_result"
    }
   ],
   "source": [
    "# f1 score on the train data\n",
    "f1_score(y_train, pipe_forest.predict(X_train))"
   ]
  },
  {
   "cell_type": "code",
   "execution_count": 82,
   "metadata": {},
   "outputs": [
    {
     "data": {
      "text/plain": [
       "0.7036850075719333"
      ]
     },
     "execution_count": 82,
     "metadata": {},
     "output_type": "execute_result"
    }
   ],
   "source": [
    "# f1 score on the test data\n",
    "f1_score(y_test, pipe_forest.predict(X_test))"
   ]
  },
  {
   "cell_type": "markdown",
   "metadata": {},
   "source": [
    "#### Recall score on the train and the test data"
   ]
  },
  {
   "cell_type": "code",
   "execution_count": 83,
   "metadata": {},
   "outputs": [
    {
     "data": {
      "text/plain": [
       "0.9569633787757285"
      ]
     },
     "execution_count": 83,
     "metadata": {},
     "output_type": "execute_result"
    }
   ],
   "source": [
    "# recall score on the train data\n",
    "recall_score(y_train, pipe_forest.predict(X_train))"
   ]
  },
  {
   "cell_type": "code",
   "execution_count": 84,
   "metadata": {},
   "outputs": [
    {
     "data": {
      "text/plain": [
       "0.5536139793486894"
      ]
     },
     "execution_count": 84,
     "metadata": {},
     "output_type": "execute_result"
    }
   ],
   "source": [
    "# recall score on the test data\n",
    "recall_score(y_test, pipe_forest.predict(X_test))"
   ]
  },
  {
   "cell_type": "markdown",
   "metadata": {},
   "source": [
    "<a class=\"anchor\" id=\"knn\"></a>"
   ]
  },
  {
   "cell_type": "markdown",
   "metadata": {},
   "source": [
    "## 5. KNeighbors Classifier"
   ]
  },
  {
   "cell_type": "code",
   "execution_count": 94,
   "metadata": {},
   "outputs": [],
   "source": [
    "# start a pipe\n",
    "pipe_knn = make_pipeline(CountVectorizer(stop_words = 'english', ngram_range = (1,1)), StandardScaler(with_mean = False), KNeighborsClassifier())"
   ]
  },
  {
   "cell_type": "code",
   "execution_count": 95,
   "metadata": {},
   "outputs": [
    {
     "data": {
      "text/plain": [
       "Pipeline(steps=[('countvectorizer', CountVectorizer(stop_words='english')),\n",
       "                ('standardscaler', StandardScaler(with_mean=False)),\n",
       "                ('kneighborsclassifier', KNeighborsClassifier())])"
      ]
     },
     "execution_count": 95,
     "metadata": {},
     "output_type": "execute_result"
    }
   ],
   "source": [
    "# fit the train data\n",
    "pipe_knn.fit(X_train, y_train)"
   ]
  },
  {
   "cell_type": "markdown",
   "metadata": {},
   "source": [
    "#### Accuracy score on the train and the test data"
   ]
  },
  {
   "cell_type": "code",
   "execution_count": 96,
   "metadata": {},
   "outputs": [
    {
     "data": {
      "text/plain": [
       "0.8703846153846154"
      ]
     },
     "execution_count": 96,
     "metadata": {},
     "output_type": "execute_result"
    }
   ],
   "source": [
    "# score on the train data\n",
    "pipe_knn.score(X_train, y_train)"
   ]
  },
  {
   "cell_type": "code",
   "execution_count": 97,
   "metadata": {},
   "outputs": [
    {
     "data": {
      "text/plain": [
       "0.7834615384615384"
      ]
     },
     "execution_count": 97,
     "metadata": {},
     "output_type": "execute_result"
    }
   ],
   "source": [
    "# score on the test data\n",
    "pipe_knn.score(X_test, y_test)"
   ]
  },
  {
   "cell_type": "markdown",
   "metadata": {},
   "source": [
    "#### F1 score on the train and the test data"
   ]
  },
  {
   "cell_type": "code",
   "execution_count": 98,
   "metadata": {},
   "outputs": [
    {
     "data": {
      "text/plain": [
       "0.8620171966698512"
      ]
     },
     "execution_count": 98,
     "metadata": {},
     "output_type": "execute_result"
    }
   ],
   "source": [
    "# f1 score on the train data\n",
    "f1_score(y_train, pipe_knn.predict(X_train))"
   ]
  },
  {
   "cell_type": "code",
   "execution_count": 99,
   "metadata": {},
   "outputs": [
    {
     "data": {
      "text/plain": [
       "0.7666804807293826"
      ]
     },
     "execution_count": 99,
     "metadata": {},
     "output_type": "execute_result"
    }
   ],
   "source": [
    "# f1 score on the test data\n",
    "f1_score(y_test, pipe_knn.predict(X_test))"
   ]
  },
  {
   "cell_type": "markdown",
   "metadata": {},
   "source": [
    "#### Recall score on the train and the test data"
   ]
  },
  {
   "cell_type": "code",
   "execution_count": 100,
   "metadata": {},
   "outputs": [
    {
     "data": {
      "text/plain": [
       "0.8441593156909917"
      ]
     },
     "execution_count": 100,
     "metadata": {},
     "output_type": "execute_result"
    }
   ],
   "source": [
    "# recall score on the train data\n",
    "recall_score(y_train, pipe_knn.predict(X_train))"
   ]
  },
  {
   "cell_type": "code",
   "execution_count": 101,
   "metadata": {},
   "outputs": [
    {
     "data": {
      "text/plain": [
       "0.7347100873709294"
      ]
     },
     "execution_count": 101,
     "metadata": {},
     "output_type": "execute_result"
    }
   ],
   "source": [
    "# recall score on the test data\n",
    "recall_score(y_test, pipe_knn.predict(X_test))"
   ]
  },
  {
   "cell_type": "markdown",
   "metadata": {},
   "source": [
    "<a class=\"anchor\" id=\"svc\"></a>"
   ]
  },
  {
   "cell_type": "markdown",
   "metadata": {},
   "source": [
    "## 6. SVC"
   ]
  },
  {
   "cell_type": "code",
   "execution_count": 102,
   "metadata": {},
   "outputs": [],
   "source": [
    "# make a pipe\n",
    "pipe_svc = make_pipeline(CountVectorizer(ngram_range = (1,1)), StandardScaler(with_mean = False), SVC())"
   ]
  },
  {
   "cell_type": "code",
   "execution_count": 55,
   "metadata": {},
   "outputs": [
    {
     "data": {
      "text/plain": [
       "Pipeline(steps=[('countvectorizer', CountVectorizer()),\n",
       "                ('standardscaler', StandardScaler(with_mean=False)),\n",
       "                ('svc', SVC())])"
      ]
     },
     "execution_count": 55,
     "metadata": {},
     "output_type": "execute_result"
    }
   ],
   "source": [
    "pipe_svc.fit(X_train, y_train)"
   ]
  },
  {
   "cell_type": "code",
   "execution_count": 103,
   "metadata": {},
   "outputs": [],
   "source": [
    "params_svc = {\n",
    "        'countvectorizer__max_features': [50, 100, 500, 1000, 10_000], \n",
    "        'countvectorizer__ngram_range': [(1,1), (2,2), (3,3)],\n",
    "        'countvectorizer__stop_words': ['english', None],\n",
    "        'svc__gamma': ['scale', 'auto'],\n",
    "        'svc__C': [0.01, 0.1, 1, 3, 5, 10]\n",
    "}"
   ]
  },
  {
   "cell_type": "code",
   "execution_count": 104,
   "metadata": {},
   "outputs": [],
   "source": [
    "grid_svc = GridSearchCV(pipe_svc, param_grid = params_svc, n_jobs = -1)"
   ]
  },
  {
   "cell_type": "code",
   "execution_count": 105,
   "metadata": {},
   "outputs": [
    {
     "data": {
      "text/plain": [
       "GridSearchCV(estimator=Pipeline(steps=[('countvectorizer', CountVectorizer()),\n",
       "                                       ('standardscaler',\n",
       "                                        StandardScaler(with_mean=False)),\n",
       "                                       ('svc', SVC())]),\n",
       "             n_jobs=-1,\n",
       "             param_grid={'countvectorizer__max_features': [50, 100, 500, 1000,\n",
       "                                                           10000],\n",
       "                         'countvectorizer__ngram_range': [(1, 1), (2, 2),\n",
       "                                                          (3, 3)],\n",
       "                         'countvectorizer__stop_words': ['english', None],\n",
       "                         'svc__C': [0.01, 0.1, 1, 3, 5, 10],\n",
       "                         'svc__gamma': ['scale', 'auto']})"
      ]
     },
     "execution_count": 105,
     "metadata": {},
     "output_type": "execute_result"
    }
   ],
   "source": [
    "grid_svc.fit(X_train, y_train)"
   ]
  },
  {
   "cell_type": "markdown",
   "metadata": {},
   "source": [
    "#### Accuracy score on the train and the test data"
   ]
  },
  {
   "cell_type": "code",
   "execution_count": 106,
   "metadata": {},
   "outputs": [
    {
     "data": {
      "text/plain": [
       "0.955"
      ]
     },
     "execution_count": 106,
     "metadata": {},
     "output_type": "execute_result"
    }
   ],
   "source": [
    "# score on the train data\n",
    "grid_svc.score(X_train, y_train)"
   ]
  },
  {
   "cell_type": "code",
   "execution_count": 107,
   "metadata": {},
   "outputs": [
    {
     "data": {
      "text/plain": [
       "0.9011538461538462"
      ]
     },
     "execution_count": 107,
     "metadata": {},
     "output_type": "execute_result"
    }
   ],
   "source": [
    "# score on the test data\n",
    "grid_svc.score(X_test, y_test)"
   ]
  },
  {
   "cell_type": "markdown",
   "metadata": {},
   "source": [
    "#### F1 score on the train and the test data"
   ]
  },
  {
   "cell_type": "code",
   "execution_count": 108,
   "metadata": {},
   "outputs": [
    {
     "data": {
      "text/plain": [
       "0.9516462322633971"
      ]
     },
     "execution_count": 108,
     "metadata": {},
     "output_type": "execute_result"
    }
   ],
   "source": [
    "# f1 score on the train data\n",
    "f1_score(y_train, grid_svc.predict(X_train))"
   ]
  },
  {
   "cell_type": "code",
   "execution_count": 109,
   "metadata": {},
   "outputs": [
    {
     "data": {
      "text/plain": [
       "0.8948875255623722"
      ]
     },
     "execution_count": 109,
     "metadata": {},
     "output_type": "execute_result"
    }
   ],
   "source": [
    "# f1 score on the test data\n",
    "f1_score(y_test, grid_svc.predict(X_test))"
   ]
  },
  {
   "cell_type": "markdown",
   "metadata": {},
   "source": [
    "#### Recall score on the train and the test data"
   ]
  },
  {
   "cell_type": "code",
   "execution_count": 110,
   "metadata": {},
   "outputs": [
    {
     "data": {
      "text/plain": [
       "0.9232825447741245"
      ]
     },
     "execution_count": 110,
     "metadata": {},
     "output_type": "execute_result"
    }
   ],
   "source": [
    "# recall score on the train data\n",
    "recall_score(y_train, grid_svc.predict(X_train))"
   ]
  },
  {
   "cell_type": "code",
   "execution_count": 111,
   "metadata": {},
   "outputs": [
    {
     "data": {
      "text/plain": [
       "0.868943606036537"
      ]
     },
     "execution_count": 111,
     "metadata": {},
     "output_type": "execute_result"
    }
   ],
   "source": [
    "# recall score on the test data\n",
    "recall_score(y_test, grid_svc.predict(X_test))"
   ]
  },
  {
   "cell_type": "code",
   "execution_count": 112,
   "metadata": {},
   "outputs": [
    {
     "data": {
      "text/plain": [
       "{'countvectorizer__max_features': 1000,\n",
       " 'countvectorizer__ngram_range': (1, 1),\n",
       " 'countvectorizer__stop_words': None,\n",
       " 'svc__C': 1,\n",
       " 'svc__gamma': 'scale'}"
      ]
     },
     "execution_count": 112,
     "metadata": {},
     "output_type": "execute_result"
    }
   ],
   "source": [
    "grid_svc.best_params_"
   ]
  },
  {
   "cell_type": "code",
   "execution_count": 113,
   "metadata": {},
   "outputs": [
    {
     "data": {
      "text/html": [
       "<div>\n",
       "<style scoped>\n",
       "    .dataframe tbody tr th:only-of-type {\n",
       "        vertical-align: middle;\n",
       "    }\n",
       "\n",
       "    .dataframe tbody tr th {\n",
       "        vertical-align: top;\n",
       "    }\n",
       "\n",
       "    .dataframe thead th {\n",
       "        text-align: right;\n",
       "    }\n",
       "</style>\n",
       "<table border=\"1\" class=\"dataframe\">\n",
       "  <thead>\n",
       "    <tr style=\"text-align: right;\">\n",
       "      <th></th>\n",
       "      <th>mean_fit_time</th>\n",
       "      <th>std_fit_time</th>\n",
       "      <th>mean_score_time</th>\n",
       "      <th>std_score_time</th>\n",
       "      <th>param_countvectorizer__max_features</th>\n",
       "      <th>param_countvectorizer__ngram_range</th>\n",
       "      <th>param_countvectorizer__stop_words</th>\n",
       "      <th>param_svc__C</th>\n",
       "      <th>param_svc__gamma</th>\n",
       "      <th>params</th>\n",
       "      <th>split0_test_score</th>\n",
       "      <th>split1_test_score</th>\n",
       "      <th>split2_test_score</th>\n",
       "      <th>split3_test_score</th>\n",
       "      <th>split4_test_score</th>\n",
       "      <th>mean_test_score</th>\n",
       "      <th>std_test_score</th>\n",
       "      <th>rank_test_score</th>\n",
       "    </tr>\n",
       "  </thead>\n",
       "  <tbody>\n",
       "    <tr>\n",
       "      <th>312</th>\n",
       "      <td>4.859312</td>\n",
       "      <td>0.351982</td>\n",
       "      <td>0.814568</td>\n",
       "      <td>0.070557</td>\n",
       "      <td>10000</td>\n",
       "      <td>(2, 2)</td>\n",
       "      <td>english</td>\n",
       "      <td>0.01</td>\n",
       "      <td>scale</td>\n",
       "      <td>{'countvectorizer__max_features': 10000, 'coun...</td>\n",
       "      <td>0.519872</td>\n",
       "      <td>0.520513</td>\n",
       "      <td>0.520513</td>\n",
       "      <td>0.520513</td>\n",
       "      <td>0.520513</td>\n",
       "      <td>0.520385</td>\n",
       "      <td>0.000256</td>\n",
       "      <td>331</td>\n",
       "    </tr>\n",
       "    <tr>\n",
       "      <th>121</th>\n",
       "      <td>1.857742</td>\n",
       "      <td>0.129081</td>\n",
       "      <td>0.318149</td>\n",
       "      <td>0.067754</td>\n",
       "      <td>100</td>\n",
       "      <td>(3, 3)</td>\n",
       "      <td>english</td>\n",
       "      <td>0.01</td>\n",
       "      <td>auto</td>\n",
       "      <td>{'countvectorizer__max_features': 100, 'countv...</td>\n",
       "      <td>0.519872</td>\n",
       "      <td>0.520513</td>\n",
       "      <td>0.520513</td>\n",
       "      <td>0.520513</td>\n",
       "      <td>0.520513</td>\n",
       "      <td>0.520385</td>\n",
       "      <td>0.000256</td>\n",
       "      <td>331</td>\n",
       "    </tr>\n",
       "    <tr>\n",
       "      <th>120</th>\n",
       "      <td>1.837389</td>\n",
       "      <td>0.164043</td>\n",
       "      <td>0.297223</td>\n",
       "      <td>0.030631</td>\n",
       "      <td>100</td>\n",
       "      <td>(3, 3)</td>\n",
       "      <td>english</td>\n",
       "      <td>0.01</td>\n",
       "      <td>scale</td>\n",
       "      <td>{'countvectorizer__max_features': 100, 'countv...</td>\n",
       "      <td>0.519872</td>\n",
       "      <td>0.520513</td>\n",
       "      <td>0.520513</td>\n",
       "      <td>0.520513</td>\n",
       "      <td>0.520513</td>\n",
       "      <td>0.520385</td>\n",
       "      <td>0.000256</td>\n",
       "      <td>331</td>\n",
       "    </tr>\n",
       "    <tr>\n",
       "      <th>265</th>\n",
       "      <td>2.289320</td>\n",
       "      <td>0.154707</td>\n",
       "      <td>0.360154</td>\n",
       "      <td>0.040607</td>\n",
       "      <td>1000</td>\n",
       "      <td>(3, 3)</td>\n",
       "      <td>english</td>\n",
       "      <td>0.01</td>\n",
       "      <td>auto</td>\n",
       "      <td>{'countvectorizer__max_features': 1000, 'count...</td>\n",
       "      <td>0.519872</td>\n",
       "      <td>0.520513</td>\n",
       "      <td>0.520513</td>\n",
       "      <td>0.520513</td>\n",
       "      <td>0.520513</td>\n",
       "      <td>0.520385</td>\n",
       "      <td>0.000256</td>\n",
       "      <td>331</td>\n",
       "    </tr>\n",
       "    <tr>\n",
       "      <th>264</th>\n",
       "      <td>2.269944</td>\n",
       "      <td>0.173720</td>\n",
       "      <td>0.371207</td>\n",
       "      <td>0.029623</td>\n",
       "      <td>1000</td>\n",
       "      <td>(3, 3)</td>\n",
       "      <td>english</td>\n",
       "      <td>0.01</td>\n",
       "      <td>scale</td>\n",
       "      <td>{'countvectorizer__max_features': 1000, 'count...</td>\n",
       "      <td>0.519872</td>\n",
       "      <td>0.520513</td>\n",
       "      <td>0.520513</td>\n",
       "      <td>0.520513</td>\n",
       "      <td>0.520513</td>\n",
       "      <td>0.520385</td>\n",
       "      <td>0.000256</td>\n",
       "      <td>331</td>\n",
       "    </tr>\n",
       "    <tr>\n",
       "      <th>...</th>\n",
       "      <td>...</td>\n",
       "      <td>...</td>\n",
       "      <td>...</td>\n",
       "      <td>...</td>\n",
       "      <td>...</td>\n",
       "      <td>...</td>\n",
       "      <td>...</td>\n",
       "      <td>...</td>\n",
       "      <td>...</td>\n",
       "      <td>...</td>\n",
       "      <td>...</td>\n",
       "      <td>...</td>\n",
       "      <td>...</td>\n",
       "      <td>...</td>\n",
       "      <td>...</td>\n",
       "      <td>...</td>\n",
       "      <td>...</td>\n",
       "      <td>...</td>\n",
       "    </tr>\n",
       "    <tr>\n",
       "      <th>222</th>\n",
       "      <td>4.522457</td>\n",
       "      <td>0.448436</td>\n",
       "      <td>0.713691</td>\n",
       "      <td>0.059966</td>\n",
       "      <td>1000</td>\n",
       "      <td>(1, 1)</td>\n",
       "      <td>english</td>\n",
       "      <td>3</td>\n",
       "      <td>scale</td>\n",
       "      <td>{'countvectorizer__max_features': 1000, 'count...</td>\n",
       "      <td>0.892949</td>\n",
       "      <td>0.894872</td>\n",
       "      <td>0.895513</td>\n",
       "      <td>0.898718</td>\n",
       "      <td>0.897436</td>\n",
       "      <td>0.895897</td>\n",
       "      <td>0.002011</td>\n",
       "      <td>5</td>\n",
       "    </tr>\n",
       "    <tr>\n",
       "      <th>235</th>\n",
       "      <td>6.126702</td>\n",
       "      <td>0.070589</td>\n",
       "      <td>1.240065</td>\n",
       "      <td>0.090515</td>\n",
       "      <td>1000</td>\n",
       "      <td>(1, 1)</td>\n",
       "      <td>None</td>\n",
       "      <td>3</td>\n",
       "      <td>auto</td>\n",
       "      <td>{'countvectorizer__max_features': 1000, 'count...</td>\n",
       "      <td>0.887821</td>\n",
       "      <td>0.901282</td>\n",
       "      <td>0.896154</td>\n",
       "      <td>0.894231</td>\n",
       "      <td>0.901923</td>\n",
       "      <td>0.896282</td>\n",
       "      <td>0.005151</td>\n",
       "      <td>4</td>\n",
       "    </tr>\n",
       "    <tr>\n",
       "      <th>234</th>\n",
       "      <td>5.970942</td>\n",
       "      <td>0.206509</td>\n",
       "      <td>1.127038</td>\n",
       "      <td>0.065313</td>\n",
       "      <td>1000</td>\n",
       "      <td>(1, 1)</td>\n",
       "      <td>None</td>\n",
       "      <td>3</td>\n",
       "      <td>scale</td>\n",
       "      <td>{'countvectorizer__max_features': 1000, 'count...</td>\n",
       "      <td>0.887821</td>\n",
       "      <td>0.901282</td>\n",
       "      <td>0.896795</td>\n",
       "      <td>0.894231</td>\n",
       "      <td>0.901923</td>\n",
       "      <td>0.896410</td>\n",
       "      <td>0.005154</td>\n",
       "      <td>3</td>\n",
       "    </tr>\n",
       "    <tr>\n",
       "      <th>233</th>\n",
       "      <td>6.765169</td>\n",
       "      <td>0.092520</td>\n",
       "      <td>1.243504</td>\n",
       "      <td>0.025878</td>\n",
       "      <td>1000</td>\n",
       "      <td>(1, 1)</td>\n",
       "      <td>None</td>\n",
       "      <td>1</td>\n",
       "      <td>auto</td>\n",
       "      <td>{'countvectorizer__max_features': 1000, 'count...</td>\n",
       "      <td>0.894231</td>\n",
       "      <td>0.901282</td>\n",
       "      <td>0.901282</td>\n",
       "      <td>0.898077</td>\n",
       "      <td>0.909615</td>\n",
       "      <td>0.900897</td>\n",
       "      <td>0.005073</td>\n",
       "      <td>2</td>\n",
       "    </tr>\n",
       "    <tr>\n",
       "      <th>232</th>\n",
       "      <td>7.563825</td>\n",
       "      <td>0.503210</td>\n",
       "      <td>1.496211</td>\n",
       "      <td>0.240635</td>\n",
       "      <td>1000</td>\n",
       "      <td>(1, 1)</td>\n",
       "      <td>None</td>\n",
       "      <td>1</td>\n",
       "      <td>scale</td>\n",
       "      <td>{'countvectorizer__max_features': 1000, 'count...</td>\n",
       "      <td>0.894231</td>\n",
       "      <td>0.901282</td>\n",
       "      <td>0.901923</td>\n",
       "      <td>0.898077</td>\n",
       "      <td>0.909615</td>\n",
       "      <td>0.901026</td>\n",
       "      <td>0.005090</td>\n",
       "      <td>1</td>\n",
       "    </tr>\n",
       "  </tbody>\n",
       "</table>\n",
       "<p>360 rows × 18 columns</p>\n",
       "</div>"
      ],
      "text/plain": [
       "     mean_fit_time  std_fit_time  mean_score_time  std_score_time  \\\n",
       "312       4.859312      0.351982         0.814568        0.070557   \n",
       "121       1.857742      0.129081         0.318149        0.067754   \n",
       "120       1.837389      0.164043         0.297223        0.030631   \n",
       "265       2.289320      0.154707         0.360154        0.040607   \n",
       "264       2.269944      0.173720         0.371207        0.029623   \n",
       "..             ...           ...              ...             ...   \n",
       "222       4.522457      0.448436         0.713691        0.059966   \n",
       "235       6.126702      0.070589         1.240065        0.090515   \n",
       "234       5.970942      0.206509         1.127038        0.065313   \n",
       "233       6.765169      0.092520         1.243504        0.025878   \n",
       "232       7.563825      0.503210         1.496211        0.240635   \n",
       "\n",
       "    param_countvectorizer__max_features param_countvectorizer__ngram_range  \\\n",
       "312                               10000                             (2, 2)   \n",
       "121                                 100                             (3, 3)   \n",
       "120                                 100                             (3, 3)   \n",
       "265                                1000                             (3, 3)   \n",
       "264                                1000                             (3, 3)   \n",
       "..                                  ...                                ...   \n",
       "222                                1000                             (1, 1)   \n",
       "235                                1000                             (1, 1)   \n",
       "234                                1000                             (1, 1)   \n",
       "233                                1000                             (1, 1)   \n",
       "232                                1000                             (1, 1)   \n",
       "\n",
       "    param_countvectorizer__stop_words param_svc__C param_svc__gamma  \\\n",
       "312                           english         0.01            scale   \n",
       "121                           english         0.01             auto   \n",
       "120                           english         0.01            scale   \n",
       "265                           english         0.01             auto   \n",
       "264                           english         0.01            scale   \n",
       "..                                ...          ...              ...   \n",
       "222                           english            3            scale   \n",
       "235                              None            3             auto   \n",
       "234                              None            3            scale   \n",
       "233                              None            1             auto   \n",
       "232                              None            1            scale   \n",
       "\n",
       "                                                params  split0_test_score  \\\n",
       "312  {'countvectorizer__max_features': 10000, 'coun...           0.519872   \n",
       "121  {'countvectorizer__max_features': 100, 'countv...           0.519872   \n",
       "120  {'countvectorizer__max_features': 100, 'countv...           0.519872   \n",
       "265  {'countvectorizer__max_features': 1000, 'count...           0.519872   \n",
       "264  {'countvectorizer__max_features': 1000, 'count...           0.519872   \n",
       "..                                                 ...                ...   \n",
       "222  {'countvectorizer__max_features': 1000, 'count...           0.892949   \n",
       "235  {'countvectorizer__max_features': 1000, 'count...           0.887821   \n",
       "234  {'countvectorizer__max_features': 1000, 'count...           0.887821   \n",
       "233  {'countvectorizer__max_features': 1000, 'count...           0.894231   \n",
       "232  {'countvectorizer__max_features': 1000, 'count...           0.894231   \n",
       "\n",
       "     split1_test_score  split2_test_score  split3_test_score  \\\n",
       "312           0.520513           0.520513           0.520513   \n",
       "121           0.520513           0.520513           0.520513   \n",
       "120           0.520513           0.520513           0.520513   \n",
       "265           0.520513           0.520513           0.520513   \n",
       "264           0.520513           0.520513           0.520513   \n",
       "..                 ...                ...                ...   \n",
       "222           0.894872           0.895513           0.898718   \n",
       "235           0.901282           0.896154           0.894231   \n",
       "234           0.901282           0.896795           0.894231   \n",
       "233           0.901282           0.901282           0.898077   \n",
       "232           0.901282           0.901923           0.898077   \n",
       "\n",
       "     split4_test_score  mean_test_score  std_test_score  rank_test_score  \n",
       "312           0.520513         0.520385        0.000256              331  \n",
       "121           0.520513         0.520385        0.000256              331  \n",
       "120           0.520513         0.520385        0.000256              331  \n",
       "265           0.520513         0.520385        0.000256              331  \n",
       "264           0.520513         0.520385        0.000256              331  \n",
       "..                 ...              ...             ...              ...  \n",
       "222           0.897436         0.895897        0.002011                5  \n",
       "235           0.901923         0.896282        0.005151                4  \n",
       "234           0.901923         0.896410        0.005154                3  \n",
       "233           0.909615         0.900897        0.005073                2  \n",
       "232           0.909615         0.901026        0.005090                1  \n",
       "\n",
       "[360 rows x 18 columns]"
      ]
     },
     "execution_count": 113,
     "metadata": {},
     "output_type": "execute_result"
    }
   ],
   "source": [
    "# explore the dataframe of grid results\n",
    "pd.DataFrame(grid_svc.cv_results_).sort_values(by = 'mean_test_score')"
   ]
  },
  {
   "cell_type": "code",
   "execution_count": 114,
   "metadata": {},
   "outputs": [],
   "source": [
    "# get feature names\n",
    "features = grid_svc.best_estimator_.named_steps.countvectorizer.get_feature_names()"
   ]
  },
  {
   "cell_type": "code",
   "execution_count": 115,
   "metadata": {},
   "outputs": [
    {
     "data": {
      "image/png": "[encoded data removed]",
      "text/plain": [
       "<Figure size 432x288 with 2 Axes>"
      ]
     },
     "metadata": {
      "needs_background": "light"
     },
     "output_type": "display_data"
    }
   ],
   "source": [
    "# plot confusion matrix \n",
    "plot_confusion_matrix(grid_svc, X_test, y_test);"
   ]
  }
 ],
 "metadata": {
  "kernelspec": {
   "display_name": "Python 3",
   "language": "python",
   "name": "python3"
  },
  "language_info": {
   "codemirror_mode": {
    "name": "ipython",
    "version": 3
   },
   "file_extension": ".py",
   "mimetype": "text/x-python",
   "name": "python",
   "nbconvert_exporter": "python",
   "pygments_lexer": "ipython3",
   "version": "3.8.5"
  }
 },
 "nbformat": 4,
 "nbformat_minor": 4
}
